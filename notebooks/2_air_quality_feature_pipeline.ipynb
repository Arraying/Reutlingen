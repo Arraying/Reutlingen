{
 "cells": [
  {
   "cell_type": "markdown",
   "id": "a9e46aad",
   "metadata": {},
   "source": [
    "<span style=\"font-width:bold; font-size: 3rem; color:#333;\">- Part 02: Daily Feature Pipeline for Air Quality (aqicn.org) and weather (openmeteo)</span>\n",
    "\n",
    "## 🗒️ This notebook is divided into the following sections:\n",
    "1. Download and Parse Data\n",
    "2. Feature Group Insertion\n",
    "\n",
    "\n",
    "__This notebook should be scheduled to run daily__\n",
    "\n",
    "In the book, we use a GitHub Action stored here:\n",
    "[.github/workflows/air-quality-daily.yml](https://github.com/featurestorebook/mlfs-book/blob/main/.github/workflows/air-quality-daily.yml)\n",
    "\n",
    "However, you are free to use any Python Orchestration tool to schedule this program to run daily."
   ]
  },
  {
   "cell_type": "markdown",
   "id": "cfe638c6",
   "metadata": {},
   "source": [
    "### <span style='color:#ff5f27'> 📝 Imports"
   ]
  },
  {
   "cell_type": "code",
   "id": "7de2e93a",
   "metadata": {
    "ExecuteTime": {
     "end_time": "2024-11-30T22:47:47.057522Z",
     "start_time": "2024-11-30T22:47:43.476076Z"
    }
   },
   "source": [
    "import datetime\n",
    "import time\n",
    "import requests\n",
    "import pandas as pd\n",
    "import hopsworks\n",
    "from functions import util\n",
    "import json\n",
    "import os\n",
    "import warnings\n",
    "warnings.filterwarnings(\"ignore\")"
   ],
   "outputs": [
    {
     "name": "stderr",
     "output_type": "stream",
     "text": [
      "C:\\Users\\jonas\\anaconda3\\envs\\AirQualityPrediction\\lib\\site-packages\\tqdm\\auto.py:21: TqdmWarning: IProgress not found. Please update jupyter and ipywidgets. See https://ipywidgets.readthedocs.io/en/stable/user_install.html\n",
      "  from .autonotebook import tqdm as notebook_tqdm\n"
     ]
    },
    {
     "ename": "ModuleNotFoundError",
     "evalue": "No module named 'geopy'",
     "output_type": "error",
     "traceback": [
      "\u001B[1;31m---------------------------------------------------------------------------\u001B[0m",
      "\u001B[1;31mModuleNotFoundError\u001B[0m                       Traceback (most recent call last)",
      "Cell \u001B[1;32mIn[1], line 6\u001B[0m\n\u001B[0;32m      4\u001B[0m \u001B[38;5;28;01mimport\u001B[39;00m \u001B[38;5;21;01mpandas\u001B[39;00m \u001B[38;5;28;01mas\u001B[39;00m \u001B[38;5;21;01mpd\u001B[39;00m\n\u001B[0;32m      5\u001B[0m \u001B[38;5;28;01mimport\u001B[39;00m \u001B[38;5;21;01mhopsworks\u001B[39;00m\n\u001B[1;32m----> 6\u001B[0m \u001B[38;5;28;01mfrom\u001B[39;00m \u001B[38;5;21;01mfunctions\u001B[39;00m \u001B[38;5;28;01mimport\u001B[39;00m util\n\u001B[0;32m      7\u001B[0m \u001B[38;5;28;01mimport\u001B[39;00m \u001B[38;5;21;01mjson\u001B[39;00m\n\u001B[0;32m      8\u001B[0m \u001B[38;5;28;01mimport\u001B[39;00m \u001B[38;5;21;01mos\u001B[39;00m\n",
      "File \u001B[1;32mD:\\GitProjects\\UniKTH\\AirQualityPrediction\\notebooks\\functions\\util.py:7\u001B[0m\n\u001B[0;32m      5\u001B[0m \u001B[38;5;28;01mimport\u001B[39;00m \u001B[38;5;21;01mpandas\u001B[39;00m \u001B[38;5;28;01mas\u001B[39;00m \u001B[38;5;21;01mpd\u001B[39;00m\n\u001B[0;32m      6\u001B[0m \u001B[38;5;28;01mimport\u001B[39;00m \u001B[38;5;21;01mjson\u001B[39;00m\n\u001B[1;32m----> 7\u001B[0m \u001B[38;5;28;01mfrom\u001B[39;00m \u001B[38;5;21;01mgeopy\u001B[39;00m\u001B[38;5;21;01m.\u001B[39;00m\u001B[38;5;21;01mgeocoders\u001B[39;00m \u001B[38;5;28;01mimport\u001B[39;00m Nominatim\n\u001B[0;32m      8\u001B[0m \u001B[38;5;28;01mimport\u001B[39;00m \u001B[38;5;21;01mmatplotlib\u001B[39;00m\u001B[38;5;21;01m.\u001B[39;00m\u001B[38;5;21;01mpyplot\u001B[39;00m \u001B[38;5;28;01mas\u001B[39;00m \u001B[38;5;21;01mplt\u001B[39;00m\n\u001B[0;32m      9\u001B[0m \u001B[38;5;28;01mfrom\u001B[39;00m \u001B[38;5;21;01mmatplotlib\u001B[39;00m\u001B[38;5;21;01m.\u001B[39;00m\u001B[38;5;21;01mpatches\u001B[39;00m \u001B[38;5;28;01mimport\u001B[39;00m Patch\n",
      "\u001B[1;31mModuleNotFoundError\u001B[0m: No module named 'geopy'"
     ]
    }
   ],
   "execution_count": 1
  },
  {
   "metadata": {},
   "cell_type": "markdown",
   "source": [
    "## <span style='color:#ff5f27'> 🌍 Get the Sensor URL, Country, City, Street names from Hopsworks </span>\n",
    "\n",
    "__Update the values in the cell below.__\n",
    "\n",
    "__These should be the same values as in notebook 1 - the feature backfill notebook__\n"
   ],
   "id": "da6081d1"
  },
  {
   "cell_type": "code",
   "id": "b70cd57d",
   "metadata": {
    "tags": [],
    "ExecuteTime": {
     "end_time": "2024-11-10T21:10:33.994844Z",
     "start_time": "2024-11-10T21:10:31.537043Z"
    }
   },
   "source": [
    "# If you haven't set the env variable 'HOPSWORKS_API_KEY', then uncomment the next line and enter your API key\n",
    "# os.environ[\"HOPSWORKS_API_KEY\"] = \"\"\n",
    "if os.environ.get(\"HOPSWORKS_API_KEY\") is None:\n",
    "    os.environ[\"HOPSWORKS_API_KEY\"] = open(\".hw_key\").read()\n",
    "\n",
    "project = hopsworks.login()\n",
    "fs = project.get_feature_store()\n",
    "secrets = util.secrets_api(project.name)\n",
    "\n",
    "# This line will fail if you have not registered the AQI_API_KEY as a secret in Hopsworks\n",
    "AQI_API_KEY = secrets.get_secret(\"AQI_API_KEY\").value\n",
    "location_str = secrets.get_secret(\"SENSOR_LOCATION_JSON\").value\n",
    "location = json.loads(location_str)\n",
    "\n",
    "country=location['country']\n",
    "city=location['city']\n",
    "street=location['street']\n",
    "aqicn_url=location['aqicn_url']\n",
    "latitude=location['latitude']\n",
    "longitude=location['longitude']\n",
    "\n",
    "today = datetime.date.today()\n",
    "\n",
    "location_str"
   ],
   "outputs": [
    {
     "name": "stdout",
     "output_type": "stream",
     "text": [
      "Connected. Call `.close()` to terminate connection gracefully.\n",
      "\n",
      "Logged in to project, explore it here https://c.app.hopsworks.ai:443/p/1160342\n",
      "2024-11-11 11:36:22,414 WARNING: using legacy validation callback\n",
      "Connected. Call `.close()` to terminate connection gracefully.\n",
      "Connected. Call `.close()` to terminate connection gracefully.\n"
     ]
    },
    {
     "data": {
      "text/plain": "'{\"country\": \"germany\", \"city\": \"reutlingen\", \"street\": \"zaisentalstra\\\\u00dfe\", \"aqicn_url\": \"https://api.waqi.info/feed/A54451\", \"latitude\": 48.50052694662806, \"longitude\": 9.194111640132975}'"
     },
     "execution_count": 2,
     "metadata": {},
     "output_type": "execute_result"
    }
   ],
   "execution_count": 2
  },
  {
   "cell_type": "markdown",
   "id": "2caf9289",
   "metadata": {},
   "source": [
    "### <span style=\"color:#ff5f27;\"> 🔮 Get references to the Feature Groups </span>"
   ]
  },
  {
   "cell_type": "code",
   "id": "66f5d7d5",
   "metadata": {
    "ExecuteTime": {
     "end_time": "2024-11-10T21:10:34.650953Z",
     "start_time": "2024-11-10T21:10:34.071492Z"
    }
   },
   "source": [
    "# Retrieve feature groups\n",
    "air_quality_fg = fs.get_feature_group(\n",
    "    name='air_quality',\n",
    "    version=1,\n",
    ")\n",
    "air_quality_fg.expectation_suite.run_validation = False\n",
    "weather_fg = fs.get_feature_group(\n",
    "    name='weather',\n",
    "    version=1,\n",
    ")\n",
    "weather_fg.expectation_suite.run_validation = False"
   ],
   "outputs": [],
   "execution_count": 3
  },
  {
   "cell_type": "markdown",
   "id": "e10b6ce8",
   "metadata": {},
   "source": [
    "---"
   ]
  },
  {
   "cell_type": "markdown",
   "id": "1a7ffa41",
   "metadata": {},
   "source": [
    "## <span style='color:#ff5f27'> 🌫 Retrieve Today's Air Quality data (PM2.5) from the AQI API</span>\n"
   ]
  },
  {
   "cell_type": "code",
   "execution_count": 5,
   "outputs": [
    {
     "name": "stdout",
     "output_type": "stream",
     "text": [
      "Finished: Reading data from Hopsworks, using Hopsworks Feature Query Service (0.99s) \n"
     ]
    }
   ],
   "source": [
    "current_data = air_quality_fg.read()\n",
    "current_data = current_data.sort_values(\"date\", ascending=False).head(3)\n",
    "lagged = current_data[\"pm25\"].mean()"
   ],
   "metadata": {
    "collapsed": false
   },
   "id": "3bfed45ffeae1b3a"
  },
  {
   "cell_type": "code",
   "id": "6f681af6",
   "metadata": {
    "ExecuteTime": {
     "end_time": "2024-11-10T21:10:35.995712Z",
     "start_time": "2024-11-10T21:10:34.662481Z"
    }
   },
   "source": [
    "import requests\n",
    "import pandas as pd\n",
    "\n",
    "aq_today_df = util.get_pm25(aqicn_url, country, city, street, today, AQI_API_KEY)\n",
    "aq_today_df[\"lagged\"] = lagged\n",
    "aq_today_df"
   ],
   "outputs": [
    {
     "data": {
      "text/plain": "   pm25  country        city           street       date  \\\n0  25.0  germany  reutlingen  zaisentalstraße 2024-11-11   \n\n                                 url    lagged  \n0  https://api.waqi.info/feed/A54451  7.376667  ",
      "text/html": "<div>\n<style scoped>\n    .dataframe tbody tr th:only-of-type {\n        vertical-align: middle;\n    }\n\n    .dataframe tbody tr th {\n        vertical-align: top;\n    }\n\n    .dataframe thead th {\n        text-align: right;\n    }\n</style>\n<table border=\"1\" class=\"dataframe\">\n  <thead>\n    <tr style=\"text-align: right;\">\n      <th></th>\n      <th>pm25</th>\n      <th>country</th>\n      <th>city</th>\n      <th>street</th>\n      <th>date</th>\n      <th>url</th>\n      <th>lagged</th>\n    </tr>\n  </thead>\n  <tbody>\n    <tr>\n      <th>0</th>\n      <td>25.0</td>\n      <td>germany</td>\n      <td>reutlingen</td>\n      <td>zaisentalstraße</td>\n      <td>2024-11-11</td>\n      <td>https://api.waqi.info/feed/A54451</td>\n      <td>7.376667</td>\n    </tr>\n  </tbody>\n</table>\n</div>"
     },
     "execution_count": 6,
     "metadata": {},
     "output_type": "execute_result"
    }
   ],
   "execution_count": 6
  },
  {
   "cell_type": "code",
   "id": "b9e24eda",
   "metadata": {
    "ExecuteTime": {
     "end_time": "2024-11-10T21:10:36.125587Z",
     "start_time": "2024-11-10T21:10:36.120722Z"
    }
   },
   "source": [
    "aq_today_df.info()"
   ],
   "outputs": [
    {
     "name": "stdout",
     "output_type": "stream",
     "text": [
      "<class 'pandas.core.frame.DataFrame'>\n",
      "RangeIndex: 1 entries, 0 to 0\n",
      "Data columns (total 7 columns):\n",
      " #   Column   Non-Null Count  Dtype         \n",
      "---  ------   --------------  -----         \n",
      " 0   pm25     1 non-null      float32       \n",
      " 1   country  1 non-null      object        \n",
      " 2   city     1 non-null      object        \n",
      " 3   street   1 non-null      object        \n",
      " 4   date     1 non-null      datetime64[ns]\n",
      " 5   url      1 non-null      object        \n",
      " 6   lagged   1 non-null      float32       \n",
      "dtypes: datetime64[ns](1), float32(2), object(4)\n",
      "memory usage: 180.0+ bytes\n"
     ]
    }
   ],
   "execution_count": 7
  },
  {
   "cell_type": "markdown",
   "id": "af845ab6",
   "metadata": {},
   "source": [
    "## <span style='color:#ff5f27'> 🌦 Get Weather Forecast data</span>"
   ]
  },
  {
   "cell_type": "code",
   "id": "d2ecb3e7",
   "metadata": {
    "ExecuteTime": {
     "end_time": "2024-11-10T21:10:36.171200Z",
     "start_time": "2024-11-10T21:10:36.156268Z"
    }
   },
   "source": [
    "hourly_df = util.get_hourly_weather_forecast(city, latitude, longitude)\n",
    "hourly_df = hourly_df.set_index('date')\n",
    "\n",
    "# We will only make 1 daily prediction, so we will replace the hourly forecasts with a single daily forecast\n",
    "# We only want the daily weather data, so only get weather at 12:00\n",
    "daily_df = hourly_df.between_time('11:59', '12:01')\n",
    "daily_df = daily_df.reset_index()\n",
    "daily_df['date'] = pd.to_datetime(daily_df['date']).dt.date\n",
    "daily_df['date'] = pd.to_datetime(daily_df['date'])\n",
    "daily_df['city'] = city\n",
    "daily_df"
   ],
   "outputs": [
    {
     "name": "stdout",
     "output_type": "stream",
     "text": [
      "Coordinates 48.75°N 9.25°E\n",
      "Elevation 378.0 m asl\n",
      "Timezone None None\n",
      "Timezone difference to GMT+0 0 s\n"
     ]
    },
    {
     "data": {
      "text/plain": "        date  temperature_2m_mean  precipitation_sum  wind_speed_10m_max  \\\n0 2024-11-11                 7.15                0.0            7.172949   \n1 2024-11-12                 8.40                0.0           15.596767   \n2 2024-11-13                 3.60                0.0            4.024922   \n3 2024-11-14                 8.25                0.0           10.495713   \n4 2024-11-15                 7.70                0.0            9.028754   \n5 2024-11-16                 7.55                0.0            2.036468   \n6 2024-11-17                11.85                0.0            4.680000   \n7 2024-11-18                15.10                0.2           12.661564   \n8 2024-11-19                 9.95                0.0           12.574260   \n9 2024-11-20                 6.45                0.5           12.768586   \n\n   wind_direction_10m_dominant        city  \n0                   197.525665  reutlingen  \n1                    71.146751  reutlingen  \n2                    26.564985  reutlingen  \n3                   300.963684  reutlingen  \n4                    85.426163  reutlingen  \n5                   135.000107  reutlingen  \n6                   180.000000  reutlingen  \n7                   194.826523  reutlingen  \n8                   203.629395  reutlingen  \n9                   310.425995  reutlingen  ",
      "text/html": "<div>\n<style scoped>\n    .dataframe tbody tr th:only-of-type {\n        vertical-align: middle;\n    }\n\n    .dataframe tbody tr th {\n        vertical-align: top;\n    }\n\n    .dataframe thead th {\n        text-align: right;\n    }\n</style>\n<table border=\"1\" class=\"dataframe\">\n  <thead>\n    <tr style=\"text-align: right;\">\n      <th></th>\n      <th>date</th>\n      <th>temperature_2m_mean</th>\n      <th>precipitation_sum</th>\n      <th>wind_speed_10m_max</th>\n      <th>wind_direction_10m_dominant</th>\n      <th>city</th>\n    </tr>\n  </thead>\n  <tbody>\n    <tr>\n      <th>0</th>\n      <td>2024-11-11</td>\n      <td>7.15</td>\n      <td>0.0</td>\n      <td>7.172949</td>\n      <td>197.525665</td>\n      <td>reutlingen</td>\n    </tr>\n    <tr>\n      <th>1</th>\n      <td>2024-11-12</td>\n      <td>8.40</td>\n      <td>0.0</td>\n      <td>15.596767</td>\n      <td>71.146751</td>\n      <td>reutlingen</td>\n    </tr>\n    <tr>\n      <th>2</th>\n      <td>2024-11-13</td>\n      <td>3.60</td>\n      <td>0.0</td>\n      <td>4.024922</td>\n      <td>26.564985</td>\n      <td>reutlingen</td>\n    </tr>\n    <tr>\n      <th>3</th>\n      <td>2024-11-14</td>\n      <td>8.25</td>\n      <td>0.0</td>\n      <td>10.495713</td>\n      <td>300.963684</td>\n      <td>reutlingen</td>\n    </tr>\n    <tr>\n      <th>4</th>\n      <td>2024-11-15</td>\n      <td>7.70</td>\n      <td>0.0</td>\n      <td>9.028754</td>\n      <td>85.426163</td>\n      <td>reutlingen</td>\n    </tr>\n    <tr>\n      <th>5</th>\n      <td>2024-11-16</td>\n      <td>7.55</td>\n      <td>0.0</td>\n      <td>2.036468</td>\n      <td>135.000107</td>\n      <td>reutlingen</td>\n    </tr>\n    <tr>\n      <th>6</th>\n      <td>2024-11-17</td>\n      <td>11.85</td>\n      <td>0.0</td>\n      <td>4.680000</td>\n      <td>180.000000</td>\n      <td>reutlingen</td>\n    </tr>\n    <tr>\n      <th>7</th>\n      <td>2024-11-18</td>\n      <td>15.10</td>\n      <td>0.2</td>\n      <td>12.661564</td>\n      <td>194.826523</td>\n      <td>reutlingen</td>\n    </tr>\n    <tr>\n      <th>8</th>\n      <td>2024-11-19</td>\n      <td>9.95</td>\n      <td>0.0</td>\n      <td>12.574260</td>\n      <td>203.629395</td>\n      <td>reutlingen</td>\n    </tr>\n    <tr>\n      <th>9</th>\n      <td>2024-11-20</td>\n      <td>6.45</td>\n      <td>0.5</td>\n      <td>12.768586</td>\n      <td>310.425995</td>\n      <td>reutlingen</td>\n    </tr>\n  </tbody>\n</table>\n</div>"
     },
     "execution_count": 8,
     "metadata": {},
     "output_type": "execute_result"
    }
   ],
   "execution_count": 8
  },
  {
   "cell_type": "code",
   "id": "4c563109",
   "metadata": {
    "ExecuteTime": {
     "end_time": "2024-11-10T21:10:36.225657Z",
     "start_time": "2024-11-10T21:10:36.219908Z"
    }
   },
   "source": [
    "daily_df.info()"
   ],
   "outputs": [
    {
     "name": "stdout",
     "output_type": "stream",
     "text": [
      "<class 'pandas.core.frame.DataFrame'>\n",
      "RangeIndex: 10 entries, 0 to 9\n",
      "Data columns (total 6 columns):\n",
      " #   Column                       Non-Null Count  Dtype         \n",
      "---  ------                       --------------  -----         \n",
      " 0   date                         10 non-null     datetime64[ns]\n",
      " 1   temperature_2m_mean          10 non-null     float32       \n",
      " 2   precipitation_sum            10 non-null     float32       \n",
      " 3   wind_speed_10m_max           10 non-null     float32       \n",
      " 4   wind_direction_10m_dominant  10 non-null     float32       \n",
      " 5   city                         10 non-null     object        \n",
      "dtypes: datetime64[ns](1), float32(4), object(1)\n",
      "memory usage: 452.0+ bytes\n"
     ]
    }
   ],
   "execution_count": 9
  },
  {
   "cell_type": "markdown",
   "id": "4e1f5008",
   "metadata": {
    "tags": []
   },
   "source": [
    "## <span style=\"color:#ff5f27;\">⬆️ Uploading new data to the Feature Store</span>"
   ]
  },
  {
   "cell_type": "code",
   "id": "1a9de5ba",
   "metadata": {
    "ExecuteTime": {
     "end_time": "2024-11-10T21:10:45.210157Z",
     "start_time": "2024-11-10T21:10:36.294946Z"
    }
   },
   "source": [
    "# Insert new data\n",
    "air_quality_fg.insert(aq_today_df)"
   ],
   "outputs": [
    {
     "name": "stdout",
     "output_type": "stream",
     "text": [
      "2024-11-11 11:37:17,106 INFO: \t3 expectation(s) included in expectation_suite.\n",
      "Validation succeeded.\n",
      "Validation Report saved successfully, explore a summary at https://c.app.hopsworks.ai:443/p/1160342/fs/1151045/fg/1344922\n"
     ]
    },
    {
     "data": {
      "text/plain": "Uploading Dataframe: 0.00% |          | Rows 0/1 | Elapsed Time: 00:00 | Remaining Time: ?",
      "application/vnd.jupyter.widget-view+json": {
       "version_major": 2,
       "version_minor": 0,
       "model_id": "be28e58da65e4078ae5dcd6a7f323250"
      }
     },
     "metadata": {},
     "output_type": "display_data"
    },
    {
     "name": "stdout",
     "output_type": "stream",
     "text": [
      "Launching job: air_quality_1_offline_fg_materialization\n",
      "Job started successfully, you can follow the progress at \n",
      "https://c.app.hopsworks.ai/p/1160342/jobs/named/air_quality_1_offline_fg_materialization/executions\n"
     ]
    },
    {
     "data": {
      "text/plain": "(<hsfs.core.job.Job at 0x292099fa0>,\n {\n   \"success\": true,\n   \"results\": [\n     {\n       \"success\": true,\n       \"expectation_config\": {\n         \"expectation_type\": \"expect_column_values_to_be_in_set\",\n         \"kwargs\": {\n           \"column\": \"country\",\n           \"value_set\": [\n             \"germany\"\n           ]\n         },\n         \"meta\": {\n           \"expectationId\": 668744\n         }\n       },\n       \"result\": {\n         \"element_count\": 1,\n         \"missing_count\": 0,\n         \"missing_percent\": 0.0,\n         \"unexpected_count\": 0,\n         \"unexpected_percent\": 0.0,\n         \"unexpected_percent_total\": 0.0,\n         \"unexpected_percent_nonmissing\": 0.0,\n         \"partial_unexpected_list\": []\n       },\n       \"meta\": {\n         \"ingestionResult\": \"INGESTED\",\n         \"validationTime\": \"2024-11-11T10:37:17.000105Z\"\n       },\n       \"exception_info\": {\n         \"raised_exception\": false,\n         \"exception_message\": null,\n         \"exception_traceback\": null\n       }\n     },\n     {\n       \"success\": true,\n       \"expectation_config\": {\n         \"expectation_type\": \"expect_column_values_to_be_in_set\",\n         \"kwargs\": {\n           \"column\": \"city\",\n           \"value_set\": [\n             \"reutlingen\"\n           ]\n         },\n         \"meta\": {\n           \"expectationId\": 668745\n         }\n       },\n       \"result\": {\n         \"element_count\": 1,\n         \"missing_count\": 0,\n         \"missing_percent\": 0.0,\n         \"unexpected_count\": 0,\n         \"unexpected_percent\": 0.0,\n         \"unexpected_percent_total\": 0.0,\n         \"unexpected_percent_nonmissing\": 0.0,\n         \"partial_unexpected_list\": []\n       },\n       \"meta\": {\n         \"ingestionResult\": \"INGESTED\",\n         \"validationTime\": \"2024-11-11T10:37:17.000105Z\"\n       },\n       \"exception_info\": {\n         \"raised_exception\": false,\n         \"exception_message\": null,\n         \"exception_traceback\": null\n       }\n     },\n     {\n       \"success\": true,\n       \"expectation_config\": {\n         \"expectation_type\": \"expect_column_min_to_be_between\",\n         \"kwargs\": {\n           \"column\": \"pm25\",\n           \"min_value\": -0.1,\n           \"max_value\": 500.0,\n           \"strict_min\": true\n         },\n         \"meta\": {\n           \"expectationId\": 668746\n         }\n       },\n       \"result\": {\n         \"observed_value\": 25.0,\n         \"element_count\": 1,\n         \"missing_count\": null,\n         \"missing_percent\": null\n       },\n       \"meta\": {\n         \"ingestionResult\": \"INGESTED\",\n         \"validationTime\": \"2024-11-11T10:37:17.000105Z\"\n       },\n       \"exception_info\": {\n         \"raised_exception\": false,\n         \"exception_message\": null,\n         \"exception_traceback\": null\n       }\n     }\n   ],\n   \"evaluation_parameters\": {},\n   \"statistics\": {\n     \"evaluated_expectations\": 3,\n     \"successful_expectations\": 3,\n     \"unsuccessful_expectations\": 0,\n     \"success_percent\": 100.0\n   },\n   \"meta\": {\n     \"great_expectations_version\": \"0.18.12\",\n     \"expectation_suite_name\": \"aq_expectation_suite\",\n     \"run_id\": {\n       \"run_name\": null,\n       \"run_time\": \"2024-11-11T11:37:17.105725+01:00\"\n     },\n     \"batch_kwargs\": {\n       \"ge_batch_id\": \"ec027fe2-a018-11ef-8336-264168630e67\"\n     },\n     \"batch_markers\": {},\n     \"batch_parameters\": {},\n     \"validation_time\": \"20241111T103717.105462Z\",\n     \"expectation_suite_meta\": {\n       \"great_expectations_version\": \"0.18.12\"\n     }\n   }\n })"
     },
     "execution_count": 10,
     "metadata": {},
     "output_type": "execute_result"
    }
   ],
   "execution_count": 10
  },
  {
   "cell_type": "code",
   "id": "d491b0a0",
   "metadata": {
    "ExecuteTime": {
     "end_time": "2024-11-10T21:10:54.795523Z",
     "start_time": "2024-11-10T21:10:45.342800Z"
    }
   },
   "source": [
    "# Insert new data\n",
    "weather_fg.insert(daily_df)"
   ],
   "outputs": [
    {
     "name": "stdout",
     "output_type": "stream",
     "text": [
      "2024-11-11 11:37:26,613 INFO: \t3 expectation(s) included in expectation_suite.\n",
      "Validation succeeded.\n",
      "Validation Report saved successfully, explore a summary at https://c.app.hopsworks.ai:443/p/1160342/fs/1151045/fg/1344923\n"
     ]
    },
    {
     "data": {
      "text/plain": "Uploading Dataframe: 0.00% |          | Rows 0/10 | Elapsed Time: 00:00 | Remaining Time: ?",
      "application/vnd.jupyter.widget-view+json": {
       "version_major": 2,
       "version_minor": 0,
       "model_id": "ba0a6becc9514a51a7ee9339137dc30e"
      }
     },
     "metadata": {},
     "output_type": "display_data"
    },
    {
     "name": "stdout",
     "output_type": "stream",
     "text": [
      "Launching job: weather_1_offline_fg_materialization\n",
      "Job started successfully, you can follow the progress at \n",
      "https://c.app.hopsworks.ai/p/1160342/jobs/named/weather_1_offline_fg_materialization/executions\n"
     ]
    },
    {
     "data": {
      "text/plain": "(<hsfs.core.job.Job at 0x29209a330>,\n {\n   \"success\": true,\n   \"results\": [\n     {\n       \"success\": true,\n       \"expectation_config\": {\n         \"expectation_type\": \"expect_column_min_to_be_between\",\n         \"kwargs\": {\n           \"column\": \"temperature_2m_mean\",\n           \"min_value\": -60,\n           \"max_value\": 60,\n           \"strict_min\": true\n         },\n         \"meta\": {\n           \"expectationId\": 668749\n         }\n       },\n       \"result\": {\n         \"observed_value\": 3.5999999046325684,\n         \"element_count\": 10,\n         \"missing_count\": null,\n         \"missing_percent\": null\n       },\n       \"meta\": {\n         \"ingestionResult\": \"INGESTED\",\n         \"validationTime\": \"2024-11-11T10:37:26.000612Z\"\n       },\n       \"exception_info\": {\n         \"raised_exception\": false,\n         \"exception_message\": null,\n         \"exception_traceback\": null\n       }\n     },\n     {\n       \"success\": true,\n       \"expectation_config\": {\n         \"expectation_type\": \"expect_column_min_to_be_between\",\n         \"kwargs\": {\n           \"column\": \"precipitation_sum\",\n           \"min_value\": -0.1,\n           \"max_value\": 1000.0,\n           \"strict_min\": true\n         },\n         \"meta\": {\n           \"expectationId\": 668748\n         }\n       },\n       \"result\": {\n         \"observed_value\": 0.0,\n         \"element_count\": 10,\n         \"missing_count\": null,\n         \"missing_percent\": null\n       },\n       \"meta\": {\n         \"ingestionResult\": \"INGESTED\",\n         \"validationTime\": \"2024-11-11T10:37:26.000612Z\"\n       },\n       \"exception_info\": {\n         \"raised_exception\": false,\n         \"exception_message\": null,\n         \"exception_traceback\": null\n       }\n     },\n     {\n       \"success\": true,\n       \"expectation_config\": {\n         \"expectation_type\": \"expect_column_min_to_be_between\",\n         \"kwargs\": {\n           \"column\": \"wind_speed_10m_max\",\n           \"min_value\": -0.1,\n           \"max_value\": 1000.0,\n           \"strict_min\": true\n         },\n         \"meta\": {\n           \"expectationId\": 668747\n         }\n       },\n       \"result\": {\n         \"observed_value\": 2.0364675521850586,\n         \"element_count\": 10,\n         \"missing_count\": null,\n         \"missing_percent\": null\n       },\n       \"meta\": {\n         \"ingestionResult\": \"INGESTED\",\n         \"validationTime\": \"2024-11-11T10:37:26.000612Z\"\n       },\n       \"exception_info\": {\n         \"raised_exception\": false,\n         \"exception_message\": null,\n         \"exception_traceback\": null\n       }\n     }\n   ],\n   \"evaluation_parameters\": {},\n   \"statistics\": {\n     \"evaluated_expectations\": 3,\n     \"successful_expectations\": 3,\n     \"unsuccessful_expectations\": 0,\n     \"success_percent\": 100.0\n   },\n   \"meta\": {\n     \"great_expectations_version\": \"0.18.12\",\n     \"expectation_suite_name\": \"weather_expectation_suite\",\n     \"run_id\": {\n       \"run_name\": null,\n       \"run_time\": \"2024-11-11T11:37:26.613007+01:00\"\n     },\n     \"batch_kwargs\": {\n       \"ge_batch_id\": \"f1ad9f30-a018-11ef-8336-264168630e67\"\n     },\n     \"batch_markers\": {},\n     \"batch_parameters\": {},\n     \"validation_time\": \"20241111T103726.612879Z\",\n     \"expectation_suite_meta\": {\n       \"great_expectations_version\": \"0.18.12\"\n     }\n   }\n })"
     },
     "execution_count": 11,
     "metadata": {},
     "output_type": "execute_result"
    }
   ],
   "execution_count": 11
  },
  {
   "cell_type": "markdown",
   "id": "c83e9e2d",
   "metadata": {},
   "source": [
    "## <span style=\"color:#ff5f27;\">⏭️ **Next:** Part 03: Training Pipeline\n",
    " </span> \n",
    "\n",
    "In the following notebook you will read from a feature group and create training dataset within the feature store\n"
   ]
  },
  {
   "cell_type": "code",
   "execution_count": null,
   "outputs": [],
   "source": [],
   "metadata": {
    "collapsed": false
   },
   "id": "7aeb03770128715c"
  }
 ],
 "metadata": {
  "kernelspec": {
   "display_name": "Python 3 (ipykernel)",
   "language": "python",
   "name": "python3"
  },
  "language_info": {
   "codemirror_mode": {
    "name": "ipython",
    "version": 3
   },
   "file_extension": ".py",
   "mimetype": "text/x-python",
   "name": "python",
   "nbconvert_exporter": "python",
   "pygments_lexer": "ipython3",
   "version": "3.10.0"
  },
  "vscode": {
   "interpreter": {
    "hash": "190ea7959a836f4799545ea0f3718ade3abee093b15861ffdc25233d6ab7050e"
   }
  }
 },
 "nbformat": 4,
 "nbformat_minor": 5
}
