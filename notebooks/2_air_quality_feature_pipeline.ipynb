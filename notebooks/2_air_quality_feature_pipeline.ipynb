{
 "cells": [
  {
   "cell_type": "markdown",
   "id": "f72ae995",
   "metadata": {},
   "source": [
    "<span style=\"font-width:bold; font-size: 3rem; color:#333;\">- Daily Feature Pipeline for Air Quality (aqicn.org) and weather (openmeteo)</span>\n",
    "\n",
    "## 🗒️ This notebook is divided into the following sections:\n",
    "1. Parse Data\n",
    "2. Feature Group Insertion"
   ]
  },
  {
   "cell_type": "markdown",
   "id": "f6188549",
   "metadata": {},
   "source": [
    "### <span style='color:#ff5f27'> 📝 Imports"
   ]
  },
  {
   "cell_type": "code",
   "id": "8f68d92f",
   "metadata": {
    "ExecuteTime": {
     "end_time": "2024-11-05T13:34:38.028937Z",
     "start_time": "2024-11-05T13:34:32.271885Z"
    }
   },
   "source": [
    "import datetime\n",
    "import time\n",
    "import requests\n",
    "import pandas as pd\n",
    "import hopsworks\n",
    "from notebooks.utils.functions import *\n",
    "import warnings\n",
    "warnings.filterwarnings(\"ignore\")"
   ],
   "outputs": [],
   "execution_count": 2
  },
  {
   "cell_type": "code",
   "id": "67be0f85",
   "metadata": {
    "tags": [],
    "ExecuteTime": {
     "end_time": "2024-11-05T13:34:44.274653Z",
     "start_time": "2024-11-05T13:34:44.261366Z"
    }
   },
   "source": [
    "# Getting the current date\n",
    "today = datetime.date.today()\n",
    "  \n",
    "# Yesterday date\n",
    "yesterday = today - datetime.timedelta(days = 1)\n",
    "\n",
    "country=\"germany\"\n",
    "city=\"reutlingen\"\n",
    "street=\"Zaisentalstraße\"\n",
    "station_id=\"A54451\"\n",
    "# Read from .aqi_key\n",
    "AQI_API_KEY=open(\".aqi_key\").read()\n",
    "str(yesterday)"
   ],
   "outputs": [
    {
     "data": {
      "text/plain": [
       "'2024-11-04'"
      ]
     },
     "execution_count": 4,
     "metadata": {},
     "output_type": "execute_result"
    }
   ],
   "execution_count": 4
  },
  {
   "cell_type": "markdown",
   "id": "cea00f03",
   "metadata": {},
   "source": [
    "### <span style=\"color:#ff5f27;\"> 🔮 Connecting to Hopsworks Feature Store </span>"
   ]
  },
  {
   "cell_type": "code",
   "id": "fba0b4ef",
   "metadata": {
    "ExecuteTime": {
     "end_time": "2024-11-05T13:35:18.120414Z",
     "start_time": "2024-11-05T13:35:15.189995Z"
    }
   },
   "source": [
    "import hopsworks\n",
    "\n",
    "project = hopsworks.login()\n",
    "fs = project.get_feature_store() \n",
    "\n",
    "# Retrieve feature groups\n",
    "air_quality_fg = fs.get_feature_group(\n",
    "    name='air_quality',\n",
    "    version=1,\n",
    ")\n",
    "weather_fg = fs.get_feature_group(\n",
    "    name='weather',\n",
    "    version=1,\n",
    ")"
   ],
   "outputs": [
    {
     "name": "stdout",
     "output_type": "stream",
     "text": [
      "Connected. Call `.close()` to terminate connection gracefully.\n",
      "\n",
      "Logged in to project, explore it here https://c.app.hopsworks.ai:443/p/1157271\n",
      "Connected. Call `.close()` to terminate connection gracefully.\n"
     ]
    }
   ],
   "execution_count": 5
  },
  {
   "cell_type": "markdown",
   "id": "8c6c3b9f",
   "metadata": {},
   "source": [
    "---"
   ]
  },
  {
   "cell_type": "markdown",
   "id": "2b56090e",
   "metadata": {},
   "source": [
    "## <span style='color:#ff5f27'> 🌫 Get Yesterday's Air Quality data (PM2.5) from the Feature Group</span>"
   ]
  },
  {
   "cell_type": "code",
   "id": "d20d2721",
   "metadata": {
    "tags": [],
    "ExecuteTime": {
     "end_time": "2024-11-05T13:35:24.304993Z",
     "start_time": "2024-11-05T13:35:21.492709Z"
    }
   },
   "source": [
    "# Read all data from the feature group\n",
    "df_air_quality = air_quality_fg.read()\n",
    "\n",
    "df = pd.DataFrame()\n",
    "df_air_quality['day'] = pd.to_datetime(df_air_quality['date']).dt.date\n",
    "\n",
    "row = df_air_quality.loc[df_air_quality['day'] == yesterday]\n",
    "\n",
    "pm25_yesterday = row['pm25'].iloc[0]\n",
    "pm25_yesterday"
   ],
   "outputs": [
    {
     "name": "stdout",
     "output_type": "stream",
     "text": [
      "Finished: Reading data from Hopsworks, using Hopsworks Feature Query Service (1.07s) \n"
     ]
    },
    {
     "data": {
      "text/plain": [
       "6.42"
      ]
     },
     "execution_count": 6,
     "metadata": {},
     "output_type": "execute_result"
    }
   ],
   "execution_count": 6
  },
  {
   "cell_type": "code",
   "id": "29b474c7",
   "metadata": {
    "tags": [],
    "ExecuteTime": {
     "end_time": "2024-11-05T13:35:27.897262Z",
     "start_time": "2024-11-05T13:35:27.889492Z"
    }
   },
   "source": [
    "# Extracting the \"date\" and \"city_name\" columns from the 'df_air_quality' DataFrame\n",
    "# Grouping the data by \"city_name\" and finding the maximum date for each city\n",
    "last_dates_aq = df_air_quality[[\"date\", \"city\", \"street\"]].groupby(\"street\").max()\n",
    "\n",
    "# Converting the date values to string format for consistency\n",
    "last_dates_aq.date = last_dates_aq.date.astype(str)"
   ],
   "outputs": [],
   "execution_count": 7
  },
  {
   "cell_type": "code",
   "id": "c91949d9",
   "metadata": {
    "ExecuteTime": {
     "end_time": "2024-11-05T13:35:31.374756Z",
     "start_time": "2024-11-05T13:35:29.497738Z"
    }
   },
   "source": [
    "import requests\n",
    "import pandas as pd\n",
    "\n",
    "# The API endpoint URL\n",
    "# url = f\"https://api.waqi.info/feed/{country}/{street}/?token={AQI_API_KEY}\"\n",
    "url = f\"https://api.waqi.info/feed/{station_id}/?token={AQI_API_KEY}\"\n",
    "\n",
    "# Make a GET request to fetch the data from the API\n",
    "response = requests.get(url)\n",
    "\n",
    "print(url)\n",
    "\n",
    "# Check if the request was successful\n",
    "if response.status_code == 200:\n",
    "    # Extract the JSON content from the response\n",
    "    data = response.json()\n",
    "    \n",
    "    # Check if the API response contains the data\n",
    "    if data['status'] == 'ok':\n",
    "        # Extract the air quality data\n",
    "        aqi_data = data['data']\n",
    "        aq_today_df = pd.DataFrame()  \n",
    "        aq_today_df['pm25'] = [aqi_data['iaqi'].get('pm25', {}).get('v', None)]\n",
    "        aq_today_df['pm25'] = aq_today_df['pm25'].astype('float32')\n",
    "    else:\n",
    "        print(\"Error: The API response does not contain data.\")\n",
    "        print(response.json())\n",
    "else:\n",
    "    print(\"Failed to retrieve data. Status Code:\", response.status_code)\n",
    "    \n",
    "if pm25_yesterday is None: \n",
    "    print(f\"Couldn't find yesterday's pm25 in your feature group. The latest value is from {df_air_quality['day'].max()}\")\n",
    "    # It is hard to get historical air quality data using aqicn.org, so we will just set it to today's value\n",
    "    aq_today_df['pm25_yesterday'] = aq_today_df['pm25']\n",
    "else:\n",
    "    aq_today_df['pm25_yesterday'] = pm25_yesterday\n",
    "\n",
    "aq_today_df['city'] = country\n",
    "aq_today_df['street'] = street\n",
    "aq_today_df['date'] = today\n",
    "aq_today_df['date'] = pd.to_datetime(aq_today_df['date'])\n",
    "\n",
    "aq_today_df"
   ],
   "outputs": [
    {
     "name": "stdout",
     "output_type": "stream",
     "text": [
      "https://api.waqi.info/feed/A54451/?token=ba5ae24c6b6960a19efb8e95617369d34872c83b\n"
     ]
    },
    {
     "data": {
      "text/plain": [
       "   pm25  pm25_yesterday     city           street       date\n",
       "0  14.0            6.42  germany  Zaisentalstraße 2024-11-05"
      ],
      "text/html": [
       "<div>\n",
       "<style scoped>\n",
       "    .dataframe tbody tr th:only-of-type {\n",
       "        vertical-align: middle;\n",
       "    }\n",
       "\n",
       "    .dataframe tbody tr th {\n",
       "        vertical-align: top;\n",
       "    }\n",
       "\n",
       "    .dataframe thead th {\n",
       "        text-align: right;\n",
       "    }\n",
       "</style>\n",
       "<table border=\"1\" class=\"dataframe\">\n",
       "  <thead>\n",
       "    <tr style=\"text-align: right;\">\n",
       "      <th></th>\n",
       "      <th>pm25</th>\n",
       "      <th>pm25_yesterday</th>\n",
       "      <th>city</th>\n",
       "      <th>street</th>\n",
       "      <th>date</th>\n",
       "    </tr>\n",
       "  </thead>\n",
       "  <tbody>\n",
       "    <tr>\n",
       "      <th>0</th>\n",
       "      <td>14.0</td>\n",
       "      <td>6.42</td>\n",
       "      <td>germany</td>\n",
       "      <td>Zaisentalstraße</td>\n",
       "      <td>2024-11-05</td>\n",
       "    </tr>\n",
       "  </tbody>\n",
       "</table>\n",
       "</div>"
      ]
     },
     "execution_count": 8,
     "metadata": {},
     "output_type": "execute_result"
    }
   ],
   "execution_count": 8
  },
  {
   "cell_type": "code",
   "id": "6975185a",
   "metadata": {
    "ExecuteTime": {
     "end_time": "2024-11-05T13:35:34.731524Z",
     "start_time": "2024-11-05T13:35:34.721208Z"
    }
   },
   "source": [
    "aq_today_df.info()"
   ],
   "outputs": [
    {
     "name": "stdout",
     "output_type": "stream",
     "text": [
      "<class 'pandas.core.frame.DataFrame'>\n",
      "RangeIndex: 1 entries, 0 to 0\n",
      "Data columns (total 5 columns):\n",
      " #   Column          Non-Null Count  Dtype         \n",
      "---  ------          --------------  -----         \n",
      " 0   pm25            1 non-null      float32       \n",
      " 1   pm25_yesterday  1 non-null      float32       \n",
      " 2   city            1 non-null      object        \n",
      " 3   street          1 non-null      object        \n",
      " 4   date            1 non-null      datetime64[ns]\n",
      "dtypes: datetime64[ns](1), float32(2), object(2)\n",
      "memory usage: 164.0+ bytes\n"
     ]
    }
   ],
   "execution_count": 9
  },
  {
   "cell_type": "markdown",
   "id": "476c62df",
   "metadata": {},
   "source": [
    "## <span style='color:#ff5f27'> 🌦 Filling gaps in Weather data</span>"
   ]
  },
  {
   "cell_type": "code",
   "id": "ae0587b4",
   "metadata": {
    "ExecuteTime": {
     "end_time": "2024-11-05T13:35:39.026491Z",
     "start_time": "2024-11-05T13:35:36.744760Z"
    }
   },
   "source": [
    "# Read all data from the feature group\n",
    "df_weather = weather_fg.read()\n",
    "latest_date_weather_df = df_weather[[\"date\", \"city\"]].groupby(\"city\").max()\n",
    "latest_date_weather = latest_date_weather_df['date'].iloc[0].date()\n",
    "weather_df = get_historical_weather(city, str(latest_date_weather), str(today))\n",
    "weather_df\n",
    "weather_df = weather_df.dropna()\n",
    "weather_df"
   ],
   "outputs": [
    {
     "name": "stdout",
     "output_type": "stream",
     "text": [
      "Finished: Reading data from Hopsworks, using Hopsworks Feature Query Service (0.96s) \n",
      "Coordinates 48.47100067138672°N 9.075630187988281°E\n",
      "Elevation 385.0 m asl\n",
      "Timezone None None\n",
      "Timezone difference to GMT+0 0 s\n"
     ]
    },
    {
     "data": {
      "text/plain": [
       "        date  temperature_2m_mean  precipitation_sum  wind_speed_10m_max  \\\n",
       "0 2024-11-03             7.402583                0.0            7.895416   \n",
       "\n",
       "   wind_direction_10m_dominant        city  \n",
       "0                   121.260376  reutlingen  "
      ],
      "text/html": [
       "<div>\n",
       "<style scoped>\n",
       "    .dataframe tbody tr th:only-of-type {\n",
       "        vertical-align: middle;\n",
       "    }\n",
       "\n",
       "    .dataframe tbody tr th {\n",
       "        vertical-align: top;\n",
       "    }\n",
       "\n",
       "    .dataframe thead th {\n",
       "        text-align: right;\n",
       "    }\n",
       "</style>\n",
       "<table border=\"1\" class=\"dataframe\">\n",
       "  <thead>\n",
       "    <tr style=\"text-align: right;\">\n",
       "      <th></th>\n",
       "      <th>date</th>\n",
       "      <th>temperature_2m_mean</th>\n",
       "      <th>precipitation_sum</th>\n",
       "      <th>wind_speed_10m_max</th>\n",
       "      <th>wind_direction_10m_dominant</th>\n",
       "      <th>city</th>\n",
       "    </tr>\n",
       "  </thead>\n",
       "  <tbody>\n",
       "    <tr>\n",
       "      <th>0</th>\n",
       "      <td>2024-11-03</td>\n",
       "      <td>7.402583</td>\n",
       "      <td>0.0</td>\n",
       "      <td>7.895416</td>\n",
       "      <td>121.260376</td>\n",
       "      <td>reutlingen</td>\n",
       "    </tr>\n",
       "  </tbody>\n",
       "</table>\n",
       "</div>"
      ]
     },
     "execution_count": 10,
     "metadata": {},
     "output_type": "execute_result"
    }
   ],
   "execution_count": 10
  },
  {
   "cell_type": "code",
   "id": "d5fbe8c2",
   "metadata": {
    "ExecuteTime": {
     "end_time": "2024-11-05T13:35:43.006364Z",
     "start_time": "2024-11-05T13:35:42.260699Z"
    }
   },
   "source": [
    "## Get weather forecst and write to feature group\n",
    "\n",
    "hourly_df = get_hourly_weather_forecast(city)\n",
    "hourly_df = hourly_df.set_index('date')\n",
    "daily_df = hourly_df.between_time('11:59', '12:01')\n",
    "daily_df = daily_df.reset_index()\n",
    "daily_df['date'] = pd.to_datetime(daily_df['date']).dt.date\n",
    "daily_df"
   ],
   "outputs": [
    {
     "name": "stdout",
     "output_type": "stream",
     "text": [
      "Coordinates 48.75°N 9.25°E\n",
      "Elevation 385.0 m asl\n",
      "Timezone None None\n",
      "Timezone difference to GMT+0 0 s\n"
     ]
    },
    {
     "data": {
      "text/plain": [
       "         date  temperature_2m  precipitation  wind_speed_10m  \\\n",
       "0  2024-11-05           12.40            0.0        2.189795   \n",
       "1  2024-11-06           11.90            0.0        2.811690   \n",
       "2  2024-11-07           11.45            0.0        6.924738   \n",
       "3  2024-11-08           10.25            0.0        3.319036   \n",
       "4  2024-11-09            9.15            0.0        2.902413   \n",
       "5  2024-11-10            6.80            0.0        3.219938   \n",
       "6  2024-11-11            4.95            0.0        3.877318   \n",
       "7  2024-11-12            4.45            0.0        9.826088   \n",
       "8  2024-11-13            5.05            0.1       17.873556   \n",
       "9  2024-11-14            6.20            0.0       15.463246   \n",
       "\n",
       "   wind_direction_10m  \n",
       "0           80.537750  \n",
       "1          230.194473  \n",
       "2           98.972549  \n",
       "3          102.528801  \n",
       "4          352.875061  \n",
       "5           26.564985  \n",
       "6           21.801476  \n",
       "7          331.557159  \n",
       "8           62.402794  \n",
       "9           65.224876  "
      ],
      "text/html": [
       "<div>\n",
       "<style scoped>\n",
       "    .dataframe tbody tr th:only-of-type {\n",
       "        vertical-align: middle;\n",
       "    }\n",
       "\n",
       "    .dataframe tbody tr th {\n",
       "        vertical-align: top;\n",
       "    }\n",
       "\n",
       "    .dataframe thead th {\n",
       "        text-align: right;\n",
       "    }\n",
       "</style>\n",
       "<table border=\"1\" class=\"dataframe\">\n",
       "  <thead>\n",
       "    <tr style=\"text-align: right;\">\n",
       "      <th></th>\n",
       "      <th>date</th>\n",
       "      <th>temperature_2m</th>\n",
       "      <th>precipitation</th>\n",
       "      <th>wind_speed_10m</th>\n",
       "      <th>wind_direction_10m</th>\n",
       "    </tr>\n",
       "  </thead>\n",
       "  <tbody>\n",
       "    <tr>\n",
       "      <th>0</th>\n",
       "      <td>2024-11-05</td>\n",
       "      <td>12.40</td>\n",
       "      <td>0.0</td>\n",
       "      <td>2.189795</td>\n",
       "      <td>80.537750</td>\n",
       "    </tr>\n",
       "    <tr>\n",
       "      <th>1</th>\n",
       "      <td>2024-11-06</td>\n",
       "      <td>11.90</td>\n",
       "      <td>0.0</td>\n",
       "      <td>2.811690</td>\n",
       "      <td>230.194473</td>\n",
       "    </tr>\n",
       "    <tr>\n",
       "      <th>2</th>\n",
       "      <td>2024-11-07</td>\n",
       "      <td>11.45</td>\n",
       "      <td>0.0</td>\n",
       "      <td>6.924738</td>\n",
       "      <td>98.972549</td>\n",
       "    </tr>\n",
       "    <tr>\n",
       "      <th>3</th>\n",
       "      <td>2024-11-08</td>\n",
       "      <td>10.25</td>\n",
       "      <td>0.0</td>\n",
       "      <td>3.319036</td>\n",
       "      <td>102.528801</td>\n",
       "    </tr>\n",
       "    <tr>\n",
       "      <th>4</th>\n",
       "      <td>2024-11-09</td>\n",
       "      <td>9.15</td>\n",
       "      <td>0.0</td>\n",
       "      <td>2.902413</td>\n",
       "      <td>352.875061</td>\n",
       "    </tr>\n",
       "    <tr>\n",
       "      <th>5</th>\n",
       "      <td>2024-11-10</td>\n",
       "      <td>6.80</td>\n",
       "      <td>0.0</td>\n",
       "      <td>3.219938</td>\n",
       "      <td>26.564985</td>\n",
       "    </tr>\n",
       "    <tr>\n",
       "      <th>6</th>\n",
       "      <td>2024-11-11</td>\n",
       "      <td>4.95</td>\n",
       "      <td>0.0</td>\n",
       "      <td>3.877318</td>\n",
       "      <td>21.801476</td>\n",
       "    </tr>\n",
       "    <tr>\n",
       "      <th>7</th>\n",
       "      <td>2024-11-12</td>\n",
       "      <td>4.45</td>\n",
       "      <td>0.0</td>\n",
       "      <td>9.826088</td>\n",
       "      <td>331.557159</td>\n",
       "    </tr>\n",
       "    <tr>\n",
       "      <th>8</th>\n",
       "      <td>2024-11-13</td>\n",
       "      <td>5.05</td>\n",
       "      <td>0.1</td>\n",
       "      <td>17.873556</td>\n",
       "      <td>62.402794</td>\n",
       "    </tr>\n",
       "    <tr>\n",
       "      <th>9</th>\n",
       "      <td>2024-11-14</td>\n",
       "      <td>6.20</td>\n",
       "      <td>0.0</td>\n",
       "      <td>15.463246</td>\n",
       "      <td>65.224876</td>\n",
       "    </tr>\n",
       "  </tbody>\n",
       "</table>\n",
       "</div>"
      ]
     },
     "execution_count": 11,
     "metadata": {},
     "output_type": "execute_result"
    }
   ],
   "execution_count": 11
  },
  {
   "cell_type": "markdown",
   "id": "f396aae8",
   "metadata": {
    "tags": []
   },
   "source": [
    "## <span style=\"color:#ff5f27;\">⬆️ Uploading new data to the Feature Store</span>"
   ]
  },
  {
   "cell_type": "code",
   "id": "77674a32",
   "metadata": {
    "ExecuteTime": {
     "end_time": "2024-11-05T13:35:59.406087Z",
     "start_time": "2024-11-05T13:35:48.760715Z"
    }
   },
   "source": [
    "# Insert new data\n",
    "air_quality_fg.insert(aq_today_df)"
   ],
   "outputs": [
    {
     "name": "stdout",
     "output_type": "stream",
     "text": [
      "2024-11-05 14:35:48,915 INFO: \t1 expectation(s) included in expectation_suite.\n",
      "Validation succeeded.\n",
      "Validation Report saved successfully, explore a summary at https://c.app.hopsworks.ai:443/p/1157271/fs/1147974/fg/1336668\n"
     ]
    },
    {
     "data": {
      "text/plain": [
       "Uploading Dataframe: 0.00% |          | Rows 0/1 | Elapsed Time: 00:00 | Remaining Time: ?"
      ],
      "application/vnd.jupyter.widget-view+json": {
       "version_major": 2,
       "version_minor": 0,
       "model_id": "03d54f766e48448a947fc1d35ec8cf58"
      }
     },
     "metadata": {},
     "output_type": "display_data"
    },
    {
     "name": "stdout",
     "output_type": "stream",
     "text": [
      "Launching job: air_quality_1_offline_fg_materialization\n",
      "Job started successfully, you can follow the progress at \n",
      "https://c.app.hopsworks.ai/p/1157271/jobs/named/air_quality_1_offline_fg_materialization/executions\n"
     ]
    },
    {
     "data": {
      "text/plain": [
       "(<hsfs.core.job.Job at 0x2021988a4d0>,\n",
       " {\n",
       "   \"success\": true,\n",
       "   \"results\": [\n",
       "     {\n",
       "       \"success\": true,\n",
       "       \"expectation_config\": {\n",
       "         \"expectation_type\": \"expect_column_min_to_be_between\",\n",
       "         \"kwargs\": {\n",
       "           \"column\": \"pm25\",\n",
       "           \"min_value\": -0.1,\n",
       "           \"max_value\": 999.9,\n",
       "           \"strict_min\": true\n",
       "         },\n",
       "         \"meta\": {\n",
       "           \"expectationId\": 659460\n",
       "         }\n",
       "       },\n",
       "       \"result\": {\n",
       "         \"observed_value\": 14.0,\n",
       "         \"element_count\": 1,\n",
       "         \"missing_count\": null,\n",
       "         \"missing_percent\": null\n",
       "       },\n",
       "       \"meta\": {\n",
       "         \"ingestionResult\": \"INGESTED\",\n",
       "         \"validationTime\": \"2024-11-05T01:35:48.000915Z\"\n",
       "       },\n",
       "       \"exception_info\": {\n",
       "         \"raised_exception\": false,\n",
       "         \"exception_message\": null,\n",
       "         \"exception_traceback\": null\n",
       "       }\n",
       "     }\n",
       "   ],\n",
       "   \"evaluation_parameters\": {},\n",
       "   \"statistics\": {\n",
       "     \"evaluated_expectations\": 1,\n",
       "     \"successful_expectations\": 1,\n",
       "     \"unsuccessful_expectations\": 0,\n",
       "     \"success_percent\": 100.0\n",
       "   },\n",
       "   \"meta\": {\n",
       "     \"great_expectations_version\": \"0.18.12\",\n",
       "     \"expectation_suite_name\": \"aq_expectation_suite\",\n",
       "     \"run_id\": {\n",
       "       \"run_name\": null,\n",
       "       \"run_time\": \"2024-11-05T14:35:48.915318+01:00\"\n",
       "     },\n",
       "     \"batch_kwargs\": {\n",
       "       \"ge_batch_id\": \"de44fca5-9b7a-11ef-a8ec-106fd9a0c81d\"\n",
       "     },\n",
       "     \"batch_markers\": {},\n",
       "     \"batch_parameters\": {},\n",
       "     \"validation_time\": \"20241105T133548.915318Z\",\n",
       "     \"expectation_suite_meta\": {\n",
       "       \"great_expectations_version\": \"0.18.12\"\n",
       "     }\n",
       "   }\n",
       " })"
      ]
     },
     "execution_count": 12,
     "metadata": {},
     "output_type": "execute_result"
    }
   ],
   "execution_count": 12
  },
  {
   "cell_type": "code",
   "id": "34964fa5",
   "metadata": {
    "ExecuteTime": {
     "end_time": "2024-11-05T13:36:22.808446Z",
     "start_time": "2024-11-05T13:36:12.219838Z"
    }
   },
   "source": [
    "# Insert new data\n",
    "weather_fg.insert(weather_df)"
   ],
   "outputs": [
    {
     "name": "stdout",
     "output_type": "stream",
     "text": [
      "2024-11-05 14:36:12,376 INFO: \t2 expectation(s) included in expectation_suite.\n",
      "Validation succeeded.\n",
      "Validation Report saved successfully, explore a summary at https://c.app.hopsworks.ai:443/p/1157271/fs/1147974/fg/1336669\n"
     ]
    },
    {
     "data": {
      "text/plain": [
       "Uploading Dataframe: 0.00% |          | Rows 0/1 | Elapsed Time: 00:00 | Remaining Time: ?"
      ],
      "application/vnd.jupyter.widget-view+json": {
       "version_major": 2,
       "version_minor": 0,
       "model_id": "7c519fb3fc6942af8bfce9235a913170"
      }
     },
     "metadata": {},
     "output_type": "display_data"
    },
    {
     "name": "stdout",
     "output_type": "stream",
     "text": [
      "Launching job: weather_1_offline_fg_materialization\n",
      "Job started successfully, you can follow the progress at \n",
      "https://c.app.hopsworks.ai/p/1157271/jobs/named/weather_1_offline_fg_materialization/executions\n"
     ]
    },
    {
     "data": {
      "text/plain": [
       "(<hsfs.core.job.Job at 0x20219b8bc10>,\n",
       " {\n",
       "   \"success\": true,\n",
       "   \"results\": [\n",
       "     {\n",
       "       \"success\": true,\n",
       "       \"expectation_config\": {\n",
       "         \"expectation_type\": \"expect_column_min_to_be_between\",\n",
       "         \"kwargs\": {\n",
       "           \"column\": \"wind_speed_10m_max\",\n",
       "           \"min_value\": -0.1,\n",
       "           \"max_value\": 1000.0,\n",
       "           \"strict_min\": true\n",
       "         },\n",
       "         \"meta\": {\n",
       "           \"expectationId\": 659461\n",
       "         }\n",
       "       },\n",
       "       \"result\": {\n",
       "         \"observed_value\": 7.895416259765625,\n",
       "         \"element_count\": 1,\n",
       "         \"missing_count\": null,\n",
       "         \"missing_percent\": null\n",
       "       },\n",
       "       \"meta\": {\n",
       "         \"ingestionResult\": \"INGESTED\",\n",
       "         \"validationTime\": \"2024-11-05T01:36:12.000376Z\"\n",
       "       },\n",
       "       \"exception_info\": {\n",
       "         \"raised_exception\": false,\n",
       "         \"exception_message\": null,\n",
       "         \"exception_traceback\": null\n",
       "       }\n",
       "     },\n",
       "     {\n",
       "       \"success\": true,\n",
       "       \"expectation_config\": {\n",
       "         \"expectation_type\": \"expect_column_min_to_be_between\",\n",
       "         \"kwargs\": {\n",
       "           \"column\": \"precipitation_sum\",\n",
       "           \"min_value\": -0.1,\n",
       "           \"max_value\": 1000.0,\n",
       "           \"strict_min\": true\n",
       "         },\n",
       "         \"meta\": {\n",
       "           \"expectationId\": 659462\n",
       "         }\n",
       "       },\n",
       "       \"result\": {\n",
       "         \"observed_value\": 0.0,\n",
       "         \"element_count\": 1,\n",
       "         \"missing_count\": null,\n",
       "         \"missing_percent\": null\n",
       "       },\n",
       "       \"meta\": {\n",
       "         \"ingestionResult\": \"INGESTED\",\n",
       "         \"validationTime\": \"2024-11-05T01:36:12.000376Z\"\n",
       "       },\n",
       "       \"exception_info\": {\n",
       "         \"raised_exception\": false,\n",
       "         \"exception_message\": null,\n",
       "         \"exception_traceback\": null\n",
       "       }\n",
       "     }\n",
       "   ],\n",
       "   \"evaluation_parameters\": {},\n",
       "   \"statistics\": {\n",
       "     \"evaluated_expectations\": 2,\n",
       "     \"successful_expectations\": 2,\n",
       "     \"unsuccessful_expectations\": 0,\n",
       "     \"success_percent\": 100.0\n",
       "   },\n",
       "   \"meta\": {\n",
       "     \"great_expectations_version\": \"0.18.12\",\n",
       "     \"expectation_suite_name\": \"weather_expectation_suite\",\n",
       "     \"run_id\": {\n",
       "       \"run_name\": null,\n",
       "       \"run_time\": \"2024-11-05T14:36:12.376901+01:00\"\n",
       "     },\n",
       "     \"batch_kwargs\": {\n",
       "       \"ge_batch_id\": \"ec40f0b4-9b7a-11ef-8720-106fd9a0c81d\"\n",
       "     },\n",
       "     \"batch_markers\": {},\n",
       "     \"batch_parameters\": {},\n",
       "     \"validation_time\": \"20241105T133612.376901Z\",\n",
       "     \"expectation_suite_meta\": {\n",
       "       \"great_expectations_version\": \"0.18.12\"\n",
       "     }\n",
       "   }\n",
       " })"
      ]
     },
     "execution_count": 13,
     "metadata": {},
     "output_type": "execute_result"
    }
   ],
   "execution_count": 13
  },
  {
   "cell_type": "markdown",
   "id": "41787867",
   "metadata": {},
   "source": [
    "## <span style=\"color:#ff5f27;\">⏭️ **Next:** Part 03: Training Pipeline\n",
    " </span> \n",
    "\n",
    "In the following notebook you will read from a feature group and create training dataset within the feature store\n"
   ]
  }
 ],
 "metadata": {
  "kernelspec": {
   "display_name": "Python 3",
   "language": "python",
   "name": "python3"
  },
  "language_info": {
   "codemirror_mode": {
    "name": "ipython",
    "version": 3
   },
   "file_extension": ".py",
   "mimetype": "text/x-python",
   "name": "python",
   "nbconvert_exporter": "python",
   "pygments_lexer": "ipython3",
   "version": "3.10.11"
  },
  "vscode": {
   "interpreter": {
    "hash": "190ea7959a836f4799545ea0f3718ade3abee093b15861ffdc25233d6ab7050e"
   }
  }
 },
 "nbformat": 4,
 "nbformat_minor": 5
}
