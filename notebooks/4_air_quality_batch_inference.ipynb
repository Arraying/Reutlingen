{
 "cells": [
  {
   "cell_type": "markdown",
   "id": "f16b7819",
   "metadata": {},
   "source": [
    "# <span style=\"font-width:bold; font-size: 3rem; color:#1EB182;\"> **Air Quality** </span><span style=\"font-width:bold; font-size: 3rem; color:#333;\">- Part 04: Batch Inference</span>\n",
    "\n",
    "## 🗒️ This notebook is divided into the following sections:\n",
    "\n",
    "1. Download model and batch inference data\n",
    "2. Make predictions, generate PNG for forecast\n",
    "3. Store predictions in a monitoring feature group adn generate PNG for hindcast"
   ]
  },
  {
   "cell_type": "markdown",
   "id": "49a84ee9",
   "metadata": {},
   "source": [
    "## <span style='color:#ff5f27'> 📝 Imports"
   ]
  },
  {
   "cell_type": "code",
   "id": "1f430c88",
   "metadata": {
    "ExecuteTime": {
     "end_time": "2024-11-07T12:49:32.446919Z",
     "start_time": "2024-11-07T12:49:21.729526Z"
    }
   },
   "source": [
    "import datetime\n",
    "import pandas as pd\n",
    "from xgboost import XGBRegressor\n",
    "import hopsworks\n",
    "import json\n",
    "from functions import util\n",
    "import os"
   ],
   "outputs": [],
   "execution_count": 1
  },
  {
   "cell_type": "code",
   "id": "bcfd27c1",
   "metadata": {
    "ExecuteTime": {
     "end_time": "2024-11-07T12:49:34.786952Z",
     "start_time": "2024-11-07T12:49:34.769667Z"
    }
   },
   "source": [
    "today = datetime.datetime.now() - datetime.timedelta(0)\n",
    "tomorrow = today + datetime.timedelta(days = 1)\n",
    "today"
   ],
   "outputs": [
    {
     "data": {
      "text/plain": [
       "datetime.datetime(2024, 11, 7, 13, 49, 34, 774381)"
      ]
     },
     "execution_count": 2,
     "metadata": {},
     "output_type": "execute_result"
    }
   ],
   "execution_count": 2
  },
  {
   "cell_type": "markdown",
   "id": "4e91e99d",
   "metadata": {},
   "source": [
    "## <span style=\"color:#ff5f27;\"> 📡 Connect to Hopsworks Feature Store </span>"
   ]
  },
  {
   "cell_type": "code",
   "id": "74a2c243",
   "metadata": {
    "ExecuteTime": {
     "end_time": "2024-11-07T12:49:44.653090Z",
     "start_time": "2024-11-07T12:49:41.743975Z"
    }
   },
   "source": [
    "project = hopsworks.login()\n",
    "if os.environ.get(\"HOPSWORKS_API_KEY\") is None:\n",
    "    os.environ[\"HOPSWORKS_API_KEY\"] = open(\".hw_key\").read()\n",
    "fs = project.get_feature_store() \n",
    "\n",
    "secrets = util.secrets_api(project.name)\n",
    "location_str = secrets.get_secret(\"SENSOR_LOCATION_JSON\").value\n",
    "location = json.loads(location_str)\n",
    "country=location['country']\n",
    "city=location['city']\n",
    "street=location['street']"
   ],
   "outputs": [
    {
     "name": "stdout",
     "output_type": "stream",
     "text": [
      "Connected. Call `.close()` to terminate connection gracefully.\n",
      "\n",
      "Logged in to project, explore it here https://c.app.hopsworks.ai:443/p/1157271\n",
      "Connected. Call `.close()` to terminate connection gracefully.\n",
      "Connected. Call `.close()` to terminate connection gracefully.\n"
     ]
    }
   ],
   "execution_count": 3
  },
  {
   "cell_type": "markdown",
   "id": "4f138859",
   "metadata": {},
   "source": [
    "## <span style=\"color:#ff5f27;\"> ⚙️ Feature View Retrieval</span>\n"
   ]
  },
  {
   "cell_type": "code",
   "id": "114b8e87",
   "metadata": {
    "ExecuteTime": {
     "end_time": "2024-11-07T12:49:48.043532Z",
     "start_time": "2024-11-07T12:49:46.653592Z"
    }
   },
   "source": [
    "feature_view = fs.get_feature_view(\n",
    "    name='air_quality_fv',\n",
    "    version=1,\n",
    ")"
   ],
   "outputs": [],
   "execution_count": 4
  },
  {
   "cell_type": "markdown",
   "id": "4cead441",
   "metadata": {},
   "source": [
    "## <span style=\"color:#ff5f27;\">🪝 Download the model from Model Registry</span>"
   ]
  },
  {
   "cell_type": "code",
   "id": "c6d70a2f",
   "metadata": {
    "ExecuteTime": {
     "end_time": "2024-11-07T12:49:56.015113Z",
     "start_time": "2024-11-07T12:49:52.224904Z"
    }
   },
   "source": [
    "mr = project.get_model_registry()\n",
    "\n",
    "retrieved_model = mr.get_model(\n",
    "    name=\"air_quality_xgboost_model\",\n",
    "    version=1,\n",
    ")\n",
    "\n",
    "# Download the saved model artifacts to a local directory\n",
    "saved_model_dir = retrieved_model.download()"
   ],
   "outputs": [
    {
     "name": "stdout",
     "output_type": "stream",
     "text": [
      "Connected. Call `.close()` to terminate connection gracefully.\n",
      "Downloading model artifact (0 dirs, 3 files)... DONE\r"
     ]
    }
   ],
   "execution_count": 5
  },
  {
   "cell_type": "code",
   "id": "a6cf6c06",
   "metadata": {
    "ExecuteTime": {
     "end_time": "2024-11-07T12:50:25.787235Z",
     "start_time": "2024-11-07T12:50:25.630010Z"
    }
   },
   "source": [
    "# Loading the XGBoost regressor model and label encoder from the saved model directory\n",
    "# retrieved_xgboost_model = joblib.load(saved_model_dir + \"/xgboost_regressor.pkl\")\n",
    "retrieved_xgboost_model = XGBRegressor()\n",
    "\n",
    "retrieved_xgboost_model.load_model(saved_model_dir + \"/model.json\")\n",
    "\n",
    "# Displaying the retrieved XGBoost regressor model\n",
    "retrieved_xgboost_model"
   ],
   "outputs": [
    {
     "data": {
      "text/plain": [
       "XGBRegressor(base_score='4.898471E0', booster='gbtree', callbacks=None,\n",
       "             colsample_bylevel=None, colsample_bynode=None,\n",
       "             colsample_bytree=None, device=None, early_stopping_rounds=None,\n",
       "             enable_categorical=False, eval_metric=None,\n",
       "             feature_types=['float', 'float', 'float', 'float'], gamma=None,\n",
       "             grow_policy=None, importance_type=None,\n",
       "             interaction_constraints=None, learning_rate=None, max_bin=None,\n",
       "             max_cat_threshold=None, max_cat_to_onehot=None,\n",
       "             max_delta_step=None, max_depth=None, max_leaves=None,\n",
       "             min_child_weight=None, missing=nan, monotone_constraints=None,\n",
       "             multi_strategy=None, n_estimators=None, n_jobs=None,\n",
       "             num_parallel_tree=None, random_state=None, ...)"
      ],
      "text/html": [
       "<style>#sk-container-id-1 {color: black;background-color: white;}#sk-container-id-1 pre{padding: 0;}#sk-container-id-1 div.sk-toggleable {background-color: white;}#sk-container-id-1 label.sk-toggleable__label {cursor: pointer;display: block;width: 100%;margin-bottom: 0;padding: 0.3em;box-sizing: border-box;text-align: center;}#sk-container-id-1 label.sk-toggleable__label-arrow:before {content: \"▸\";float: left;margin-right: 0.25em;color: #696969;}#sk-container-id-1 label.sk-toggleable__label-arrow:hover:before {color: black;}#sk-container-id-1 div.sk-estimator:hover label.sk-toggleable__label-arrow:before {color: black;}#sk-container-id-1 div.sk-toggleable__content {max-height: 0;max-width: 0;overflow: hidden;text-align: left;background-color: #f0f8ff;}#sk-container-id-1 div.sk-toggleable__content pre {margin: 0.2em;color: black;border-radius: 0.25em;background-color: #f0f8ff;}#sk-container-id-1 input.sk-toggleable__control:checked~div.sk-toggleable__content {max-height: 200px;max-width: 100%;overflow: auto;}#sk-container-id-1 input.sk-toggleable__control:checked~label.sk-toggleable__label-arrow:before {content: \"▾\";}#sk-container-id-1 div.sk-estimator input.sk-toggleable__control:checked~label.sk-toggleable__label {background-color: #d4ebff;}#sk-container-id-1 div.sk-label input.sk-toggleable__control:checked~label.sk-toggleable__label {background-color: #d4ebff;}#sk-container-id-1 input.sk-hidden--visually {border: 0;clip: rect(1px 1px 1px 1px);clip: rect(1px, 1px, 1px, 1px);height: 1px;margin: -1px;overflow: hidden;padding: 0;position: absolute;width: 1px;}#sk-container-id-1 div.sk-estimator {font-family: monospace;background-color: #f0f8ff;border: 1px dotted black;border-radius: 0.25em;box-sizing: border-box;margin-bottom: 0.5em;}#sk-container-id-1 div.sk-estimator:hover {background-color: #d4ebff;}#sk-container-id-1 div.sk-parallel-item::after {content: \"\";width: 100%;border-bottom: 1px solid gray;flex-grow: 1;}#sk-container-id-1 div.sk-label:hover label.sk-toggleable__label {background-color: #d4ebff;}#sk-container-id-1 div.sk-serial::before {content: \"\";position: absolute;border-left: 1px solid gray;box-sizing: border-box;top: 0;bottom: 0;left: 50%;z-index: 0;}#sk-container-id-1 div.sk-serial {display: flex;flex-direction: column;align-items: center;background-color: white;padding-right: 0.2em;padding-left: 0.2em;position: relative;}#sk-container-id-1 div.sk-item {position: relative;z-index: 1;}#sk-container-id-1 div.sk-parallel {display: flex;align-items: stretch;justify-content: center;background-color: white;position: relative;}#sk-container-id-1 div.sk-item::before, #sk-container-id-1 div.sk-parallel-item::before {content: \"\";position: absolute;border-left: 1px solid gray;box-sizing: border-box;top: 0;bottom: 0;left: 50%;z-index: -1;}#sk-container-id-1 div.sk-parallel-item {display: flex;flex-direction: column;z-index: 1;position: relative;background-color: white;}#sk-container-id-1 div.sk-parallel-item:first-child::after {align-self: flex-end;width: 50%;}#sk-container-id-1 div.sk-parallel-item:last-child::after {align-self: flex-start;width: 50%;}#sk-container-id-1 div.sk-parallel-item:only-child::after {width: 0;}#sk-container-id-1 div.sk-dashed-wrapped {border: 1px dashed gray;margin: 0 0.4em 0.5em 0.4em;box-sizing: border-box;padding-bottom: 0.4em;background-color: white;}#sk-container-id-1 div.sk-label label {font-family: monospace;font-weight: bold;display: inline-block;line-height: 1.2em;}#sk-container-id-1 div.sk-label-container {text-align: center;}#sk-container-id-1 div.sk-container {/* jupyter's `normalize.less` sets `[hidden] { display: none; }` but bootstrap.min.css set `[hidden] { display: none !important; }` so we also need the `!important` here to be able to override the default hidden behavior on the sphinx rendered scikit-learn.org. See: https://github.com/scikit-learn/scikit-learn/issues/21755 */display: inline-block !important;position: relative;}#sk-container-id-1 div.sk-text-repr-fallback {display: none;}</style><div id=\"sk-container-id-1\" class=\"sk-top-container\"><div class=\"sk-text-repr-fallback\"><pre>XGBRegressor(base_score=&#x27;4.898471E0&#x27;, booster=&#x27;gbtree&#x27;, callbacks=None,\n",
       "             colsample_bylevel=None, colsample_bynode=None,\n",
       "             colsample_bytree=None, device=None, early_stopping_rounds=None,\n",
       "             enable_categorical=False, eval_metric=None,\n",
       "             feature_types=[&#x27;float&#x27;, &#x27;float&#x27;, &#x27;float&#x27;, &#x27;float&#x27;], gamma=None,\n",
       "             grow_policy=None, importance_type=None,\n",
       "             interaction_constraints=None, learning_rate=None, max_bin=None,\n",
       "             max_cat_threshold=None, max_cat_to_onehot=None,\n",
       "             max_delta_step=None, max_depth=None, max_leaves=None,\n",
       "             min_child_weight=None, missing=nan, monotone_constraints=None,\n",
       "             multi_strategy=None, n_estimators=None, n_jobs=None,\n",
       "             num_parallel_tree=None, random_state=None, ...)</pre><b>In a Jupyter environment, please rerun this cell to show the HTML representation or trust the notebook. <br />On GitHub, the HTML representation is unable to render, please try loading this page with nbviewer.org.</b></div><div class=\"sk-container\" hidden><div class=\"sk-item\"><div class=\"sk-estimator sk-toggleable\"><input class=\"sk-toggleable__control sk-hidden--visually\" id=\"sk-estimator-id-1\" type=\"checkbox\" checked><label for=\"sk-estimator-id-1\" class=\"sk-toggleable__label sk-toggleable__label-arrow\">XGBRegressor</label><div class=\"sk-toggleable__content\"><pre>XGBRegressor(base_score=&#x27;4.898471E0&#x27;, booster=&#x27;gbtree&#x27;, callbacks=None,\n",
       "             colsample_bylevel=None, colsample_bynode=None,\n",
       "             colsample_bytree=None, device=None, early_stopping_rounds=None,\n",
       "             enable_categorical=False, eval_metric=None,\n",
       "             feature_types=[&#x27;float&#x27;, &#x27;float&#x27;, &#x27;float&#x27;, &#x27;float&#x27;], gamma=None,\n",
       "             grow_policy=None, importance_type=None,\n",
       "             interaction_constraints=None, learning_rate=None, max_bin=None,\n",
       "             max_cat_threshold=None, max_cat_to_onehot=None,\n",
       "             max_delta_step=None, max_depth=None, max_leaves=None,\n",
       "             min_child_weight=None, missing=nan, monotone_constraints=None,\n",
       "             multi_strategy=None, n_estimators=None, n_jobs=None,\n",
       "             num_parallel_tree=None, random_state=None, ...)</pre></div></div></div></div></div>"
      ]
     },
     "execution_count": 6,
     "metadata": {},
     "output_type": "execute_result"
    }
   ],
   "execution_count": 6
  },
  {
   "cell_type": "markdown",
   "id": "43ad941a",
   "metadata": {},
   "source": "## <span style=\"color:#ff5f27;\">✨ Get Weather Forecast Features with Feature View   </span>"
  },
  {
   "cell_type": "code",
   "id": "aaacae3c",
   "metadata": {
    "ExecuteTime": {
     "start_time": "2024-11-07T12:48:45.179212Z"
    }
   },
   "source": [
    "weather_fg = fs.get_feature_group(\n",
    "    name='weather',\n",
    "    version=1,\n",
    ")\n",
    "\n",
    "batch_data = weather_fg.filter(weather_fg.date >= today).read()\n",
    "batch_data"
   ],
   "outputs": [
    {
     "name": "stdout",
     "output_type": "stream",
     "text": [
      "Reading data from Hopsworks, using Hopsworks Feature Query Service..   \rReading data from Hopsworks, using Hopsworks Feature Query Service.   Reading data from Hopsworks, using Hopsworks Feature Query Service...   Reading data from Hopsworks, using Hopsworks Feature Query Service.   Reading data from Hopsworks, using Hopsworks Feature Query Service...   Reading data from Hopsworks, using Hopsworks Feature Query Service.   Reading data from Hopsworks, using Hopsworks Feature Query Service...   Reading data from Hopsworks, using Hopsworks Feature Query Service.   Reading data from Hopsworks, using Hopsworks Feature Query Service...   Reading data from Hopsworks, using Hopsworks Feature Query Service.   Reading data from Hopsworks, using Hopsworks Feature Query Service...   Reading data from Hopsworks, using Hopsworks Feature Query Service.   Reading data from Hopsworks, using Hopsworks Feature Query Service...   Reading data from Hopsworks, using Hopsworks Feature Query Service.   Reading data from Hopsworks, using Hopsworks Feature Query Service...   Reading data from Hopsworks, using Hopsworks Feature Query Service.   Reading data from Hopsworks, using Hopsworks Feature Query Service...   \r"
     ]
    }
   ],
   "execution_count": null
  },
  {
   "cell_type": "markdown",
   "id": "804e4491",
   "metadata": {},
   "source": [
    "### <span style=\"color:#ff5f27;\">🤖 Making the predictions</span>"
   ]
  },
  {
   "cell_type": "code",
   "id": "4566b635",
   "metadata": {
    "ExecuteTime": {
     "end_time": "2024-11-07T12:57:21.741702Z",
     "start_time": "2024-11-07T12:57:21.704964Z"
    }
   },
   "source": [
    "batch_data['predicted_pm25'] = retrieved_xgboost_model.predict(\n",
    "    batch_data[['temperature_2m_mean', 'precipitation_sum', 'wind_speed_10m_max', 'wind_direction_10m_dominant']])\n",
    "batch_data"
   ],
   "outputs": [
    {
     "data": {
      "text/plain": [
       "                       date  temperature_2m_mean  precipitation_sum  \\\n",
       "0 2024-11-08 00:00:00+00:00                10.30                0.0   \n",
       "1 2024-11-12 00:00:00+00:00                 7.20                0.1   \n",
       "2 2024-11-14 00:00:00+00:00                 4.45                0.0   \n",
       "3 2024-11-11 00:00:00+00:00                 8.30                0.0   \n",
       "4 2024-11-13 00:00:00+00:00                 4.75                0.1   \n",
       "5 2024-11-09 00:00:00+00:00                12.50                0.0   \n",
       "6 2024-11-15 00:00:00+00:00                 5.70                0.1   \n",
       "7 2024-11-10 00:00:00+00:00                10.45                0.0   \n",
       "8 2024-11-16 00:00:00+00:00                 6.10                0.0   \n",
       "\n",
       "   wind_speed_10m_max  wind_direction_10m_dominant        city  predicted_pm25  \n",
       "0            4.510787                   118.610367  reutlingen        7.719121  \n",
       "1            3.415260                   288.435028  reutlingen       11.044631  \n",
       "2            6.725354                   254.475830  reutlingen       10.142662  \n",
       "3            3.396233                   302.005341  reutlingen       11.521554  \n",
       "4           10.883676                    55.784248  reutlingen        6.023635  \n",
       "5            2.595997                    56.309914  reutlingen        4.784526  \n",
       "6            7.704336                   232.594574  reutlingen       10.482159  \n",
       "7            3.075841                    20.556128  reutlingen        3.543503  \n",
       "8            0.804985                   116.564987  reutlingen        9.192267  "
      ],
      "text/html": [
       "<div>\n",
       "<style scoped>\n",
       "    .dataframe tbody tr th:only-of-type {\n",
       "        vertical-align: middle;\n",
       "    }\n",
       "\n",
       "    .dataframe tbody tr th {\n",
       "        vertical-align: top;\n",
       "    }\n",
       "\n",
       "    .dataframe thead th {\n",
       "        text-align: right;\n",
       "    }\n",
       "</style>\n",
       "<table border=\"1\" class=\"dataframe\">\n",
       "  <thead>\n",
       "    <tr style=\"text-align: right;\">\n",
       "      <th></th>\n",
       "      <th>date</th>\n",
       "      <th>temperature_2m_mean</th>\n",
       "      <th>precipitation_sum</th>\n",
       "      <th>wind_speed_10m_max</th>\n",
       "      <th>wind_direction_10m_dominant</th>\n",
       "      <th>city</th>\n",
       "      <th>predicted_pm25</th>\n",
       "    </tr>\n",
       "  </thead>\n",
       "  <tbody>\n",
       "    <tr>\n",
       "      <th>0</th>\n",
       "      <td>2024-11-08 00:00:00+00:00</td>\n",
       "      <td>10.30</td>\n",
       "      <td>0.0</td>\n",
       "      <td>4.510787</td>\n",
       "      <td>118.610367</td>\n",
       "      <td>reutlingen</td>\n",
       "      <td>7.719121</td>\n",
       "    </tr>\n",
       "    <tr>\n",
       "      <th>1</th>\n",
       "      <td>2024-11-12 00:00:00+00:00</td>\n",
       "      <td>7.20</td>\n",
       "      <td>0.1</td>\n",
       "      <td>3.415260</td>\n",
       "      <td>288.435028</td>\n",
       "      <td>reutlingen</td>\n",
       "      <td>11.044631</td>\n",
       "    </tr>\n",
       "    <tr>\n",
       "      <th>2</th>\n",
       "      <td>2024-11-14 00:00:00+00:00</td>\n",
       "      <td>4.45</td>\n",
       "      <td>0.0</td>\n",
       "      <td>6.725354</td>\n",
       "      <td>254.475830</td>\n",
       "      <td>reutlingen</td>\n",
       "      <td>10.142662</td>\n",
       "    </tr>\n",
       "    <tr>\n",
       "      <th>3</th>\n",
       "      <td>2024-11-11 00:00:00+00:00</td>\n",
       "      <td>8.30</td>\n",
       "      <td>0.0</td>\n",
       "      <td>3.396233</td>\n",
       "      <td>302.005341</td>\n",
       "      <td>reutlingen</td>\n",
       "      <td>11.521554</td>\n",
       "    </tr>\n",
       "    <tr>\n",
       "      <th>4</th>\n",
       "      <td>2024-11-13 00:00:00+00:00</td>\n",
       "      <td>4.75</td>\n",
       "      <td>0.1</td>\n",
       "      <td>10.883676</td>\n",
       "      <td>55.784248</td>\n",
       "      <td>reutlingen</td>\n",
       "      <td>6.023635</td>\n",
       "    </tr>\n",
       "    <tr>\n",
       "      <th>5</th>\n",
       "      <td>2024-11-09 00:00:00+00:00</td>\n",
       "      <td>12.50</td>\n",
       "      <td>0.0</td>\n",
       "      <td>2.595997</td>\n",
       "      <td>56.309914</td>\n",
       "      <td>reutlingen</td>\n",
       "      <td>4.784526</td>\n",
       "    </tr>\n",
       "    <tr>\n",
       "      <th>6</th>\n",
       "      <td>2024-11-15 00:00:00+00:00</td>\n",
       "      <td>5.70</td>\n",
       "      <td>0.1</td>\n",
       "      <td>7.704336</td>\n",
       "      <td>232.594574</td>\n",
       "      <td>reutlingen</td>\n",
       "      <td>10.482159</td>\n",
       "    </tr>\n",
       "    <tr>\n",
       "      <th>7</th>\n",
       "      <td>2024-11-10 00:00:00+00:00</td>\n",
       "      <td>10.45</td>\n",
       "      <td>0.0</td>\n",
       "      <td>3.075841</td>\n",
       "      <td>20.556128</td>\n",
       "      <td>reutlingen</td>\n",
       "      <td>3.543503</td>\n",
       "    </tr>\n",
       "    <tr>\n",
       "      <th>8</th>\n",
       "      <td>2024-11-16 00:00:00+00:00</td>\n",
       "      <td>6.10</td>\n",
       "      <td>0.0</td>\n",
       "      <td>0.804985</td>\n",
       "      <td>116.564987</td>\n",
       "      <td>reutlingen</td>\n",
       "      <td>9.192267</td>\n",
       "    </tr>\n",
       "  </tbody>\n",
       "</table>\n",
       "</div>"
      ]
     },
     "execution_count": 23,
     "metadata": {},
     "output_type": "execute_result"
    }
   ],
   "execution_count": 23
  },
  {
   "cell_type": "code",
   "id": "95d78ba2",
   "metadata": {
    "ExecuteTime": {
     "end_time": "2024-11-07T12:57:34.658468Z",
     "start_time": "2024-11-07T12:57:34.641890Z"
    }
   },
   "source": [
    "batch_data.info()"
   ],
   "outputs": [
    {
     "name": "stdout",
     "output_type": "stream",
     "text": [
      "<class 'pandas.core.frame.DataFrame'>\n",
      "RangeIndex: 9 entries, 0 to 8\n",
      "Data columns (total 7 columns):\n",
      " #   Column                       Non-Null Count  Dtype              \n",
      "---  ------                       --------------  -----              \n",
      " 0   date                         9 non-null      datetime64[ns, UTC]\n",
      " 1   temperature_2m_mean          9 non-null      float32            \n",
      " 2   precipitation_sum            9 non-null      float32            \n",
      " 3   wind_speed_10m_max           9 non-null      float32            \n",
      " 4   wind_direction_10m_dominant  9 non-null      float32            \n",
      " 5   city                         9 non-null      object             \n",
      " 6   predicted_pm25               9 non-null      float32            \n",
      "dtypes: datetime64[ns, UTC](1), float32(5), object(1)\n",
      "memory usage: 456.0+ bytes\n"
     ]
    }
   ],
   "execution_count": 24
  },
  {
   "cell_type": "markdown",
   "id": "d23e2b0a",
   "metadata": {},
   "source": [
    "### <span style=\"color:#ff5f27;\">🤖 Saving the predictions (for monitoring) to a Feature Group</span>"
   ]
  },
  {
   "cell_type": "code",
   "id": "9d5d9436",
   "metadata": {
    "ExecuteTime": {
     "end_time": "2024-11-07T12:57:36.918206Z",
     "start_time": "2024-11-07T12:57:36.874696Z"
    }
   },
   "source": [
    "batch_data['street'] = street\n",
    "batch_data['city'] = city\n",
    "batch_data['country'] = country\n",
    "# Fill in the number of days before the date on which you made the forecast (base_date)\n",
    "batch_data['days_before_forecast_day'] = range(1, len(batch_data)+1)\n",
    "batch_data = batch_data.sort_values(by=['date'])\n",
    "batch_data"
   ],
   "outputs": [
    {
     "data": {
      "text/plain": [
       "                       date  temperature_2m_mean  precipitation_sum  \\\n",
       "0 2024-11-08 00:00:00+00:00                10.30                0.0   \n",
       "5 2024-11-09 00:00:00+00:00                12.50                0.0   \n",
       "7 2024-11-10 00:00:00+00:00                10.45                0.0   \n",
       "3 2024-11-11 00:00:00+00:00                 8.30                0.0   \n",
       "1 2024-11-12 00:00:00+00:00                 7.20                0.1   \n",
       "4 2024-11-13 00:00:00+00:00                 4.75                0.1   \n",
       "2 2024-11-14 00:00:00+00:00                 4.45                0.0   \n",
       "6 2024-11-15 00:00:00+00:00                 5.70                0.1   \n",
       "8 2024-11-16 00:00:00+00:00                 6.10                0.0   \n",
       "\n",
       "   wind_speed_10m_max  wind_direction_10m_dominant        city  \\\n",
       "0            4.510787                   118.610367  reutlingen   \n",
       "5            2.595997                    56.309914  reutlingen   \n",
       "7            3.075841                    20.556128  reutlingen   \n",
       "3            3.396233                   302.005341  reutlingen   \n",
       "1            3.415260                   288.435028  reutlingen   \n",
       "4           10.883676                    55.784248  reutlingen   \n",
       "2            6.725354                   254.475830  reutlingen   \n",
       "6            7.704336                   232.594574  reutlingen   \n",
       "8            0.804985                   116.564987  reutlingen   \n",
       "\n",
       "   predicted_pm25           street  country  days_before_forecast_day  \n",
       "0        7.719121  zaisentalstraße  germany                         1  \n",
       "5        4.784526  zaisentalstraße  germany                         6  \n",
       "7        3.543503  zaisentalstraße  germany                         8  \n",
       "3       11.521554  zaisentalstraße  germany                         4  \n",
       "1       11.044631  zaisentalstraße  germany                         2  \n",
       "4        6.023635  zaisentalstraße  germany                         5  \n",
       "2       10.142662  zaisentalstraße  germany                         3  \n",
       "6       10.482159  zaisentalstraße  germany                         7  \n",
       "8        9.192267  zaisentalstraße  germany                         9  "
      ],
      "text/html": [
       "<div>\n",
       "<style scoped>\n",
       "    .dataframe tbody tr th:only-of-type {\n",
       "        vertical-align: middle;\n",
       "    }\n",
       "\n",
       "    .dataframe tbody tr th {\n",
       "        vertical-align: top;\n",
       "    }\n",
       "\n",
       "    .dataframe thead th {\n",
       "        text-align: right;\n",
       "    }\n",
       "</style>\n",
       "<table border=\"1\" class=\"dataframe\">\n",
       "  <thead>\n",
       "    <tr style=\"text-align: right;\">\n",
       "      <th></th>\n",
       "      <th>date</th>\n",
       "      <th>temperature_2m_mean</th>\n",
       "      <th>precipitation_sum</th>\n",
       "      <th>wind_speed_10m_max</th>\n",
       "      <th>wind_direction_10m_dominant</th>\n",
       "      <th>city</th>\n",
       "      <th>predicted_pm25</th>\n",
       "      <th>street</th>\n",
       "      <th>country</th>\n",
       "      <th>days_before_forecast_day</th>\n",
       "    </tr>\n",
       "  </thead>\n",
       "  <tbody>\n",
       "    <tr>\n",
       "      <th>0</th>\n",
       "      <td>2024-11-08 00:00:00+00:00</td>\n",
       "      <td>10.30</td>\n",
       "      <td>0.0</td>\n",
       "      <td>4.510787</td>\n",
       "      <td>118.610367</td>\n",
       "      <td>reutlingen</td>\n",
       "      <td>7.719121</td>\n",
       "      <td>zaisentalstraße</td>\n",
       "      <td>germany</td>\n",
       "      <td>1</td>\n",
       "    </tr>\n",
       "    <tr>\n",
       "      <th>5</th>\n",
       "      <td>2024-11-09 00:00:00+00:00</td>\n",
       "      <td>12.50</td>\n",
       "      <td>0.0</td>\n",
       "      <td>2.595997</td>\n",
       "      <td>56.309914</td>\n",
       "      <td>reutlingen</td>\n",
       "      <td>4.784526</td>\n",
       "      <td>zaisentalstraße</td>\n",
       "      <td>germany</td>\n",
       "      <td>6</td>\n",
       "    </tr>\n",
       "    <tr>\n",
       "      <th>7</th>\n",
       "      <td>2024-11-10 00:00:00+00:00</td>\n",
       "      <td>10.45</td>\n",
       "      <td>0.0</td>\n",
       "      <td>3.075841</td>\n",
       "      <td>20.556128</td>\n",
       "      <td>reutlingen</td>\n",
       "      <td>3.543503</td>\n",
       "      <td>zaisentalstraße</td>\n",
       "      <td>germany</td>\n",
       "      <td>8</td>\n",
       "    </tr>\n",
       "    <tr>\n",
       "      <th>3</th>\n",
       "      <td>2024-11-11 00:00:00+00:00</td>\n",
       "      <td>8.30</td>\n",
       "      <td>0.0</td>\n",
       "      <td>3.396233</td>\n",
       "      <td>302.005341</td>\n",
       "      <td>reutlingen</td>\n",
       "      <td>11.521554</td>\n",
       "      <td>zaisentalstraße</td>\n",
       "      <td>germany</td>\n",
       "      <td>4</td>\n",
       "    </tr>\n",
       "    <tr>\n",
       "      <th>1</th>\n",
       "      <td>2024-11-12 00:00:00+00:00</td>\n",
       "      <td>7.20</td>\n",
       "      <td>0.1</td>\n",
       "      <td>3.415260</td>\n",
       "      <td>288.435028</td>\n",
       "      <td>reutlingen</td>\n",
       "      <td>11.044631</td>\n",
       "      <td>zaisentalstraße</td>\n",
       "      <td>germany</td>\n",
       "      <td>2</td>\n",
       "    </tr>\n",
       "    <tr>\n",
       "      <th>4</th>\n",
       "      <td>2024-11-13 00:00:00+00:00</td>\n",
       "      <td>4.75</td>\n",
       "      <td>0.1</td>\n",
       "      <td>10.883676</td>\n",
       "      <td>55.784248</td>\n",
       "      <td>reutlingen</td>\n",
       "      <td>6.023635</td>\n",
       "      <td>zaisentalstraße</td>\n",
       "      <td>germany</td>\n",
       "      <td>5</td>\n",
       "    </tr>\n",
       "    <tr>\n",
       "      <th>2</th>\n",
       "      <td>2024-11-14 00:00:00+00:00</td>\n",
       "      <td>4.45</td>\n",
       "      <td>0.0</td>\n",
       "      <td>6.725354</td>\n",
       "      <td>254.475830</td>\n",
       "      <td>reutlingen</td>\n",
       "      <td>10.142662</td>\n",
       "      <td>zaisentalstraße</td>\n",
       "      <td>germany</td>\n",
       "      <td>3</td>\n",
       "    </tr>\n",
       "    <tr>\n",
       "      <th>6</th>\n",
       "      <td>2024-11-15 00:00:00+00:00</td>\n",
       "      <td>5.70</td>\n",
       "      <td>0.1</td>\n",
       "      <td>7.704336</td>\n",
       "      <td>232.594574</td>\n",
       "      <td>reutlingen</td>\n",
       "      <td>10.482159</td>\n",
       "      <td>zaisentalstraße</td>\n",
       "      <td>germany</td>\n",
       "      <td>7</td>\n",
       "    </tr>\n",
       "    <tr>\n",
       "      <th>8</th>\n",
       "      <td>2024-11-16 00:00:00+00:00</td>\n",
       "      <td>6.10</td>\n",
       "      <td>0.0</td>\n",
       "      <td>0.804985</td>\n",
       "      <td>116.564987</td>\n",
       "      <td>reutlingen</td>\n",
       "      <td>9.192267</td>\n",
       "      <td>zaisentalstraße</td>\n",
       "      <td>germany</td>\n",
       "      <td>9</td>\n",
       "    </tr>\n",
       "  </tbody>\n",
       "</table>\n",
       "</div>"
      ]
     },
     "execution_count": 25,
     "metadata": {},
     "output_type": "execute_result"
    }
   ],
   "execution_count": 25
  },
  {
   "cell_type": "code",
   "id": "00e6787b",
   "metadata": {
    "ExecuteTime": {
     "end_time": "2024-11-07T12:57:39.594050Z",
     "start_time": "2024-11-07T12:57:39.577769Z"
    }
   },
   "source": [
    "batch_data.info()"
   ],
   "outputs": [
    {
     "name": "stdout",
     "output_type": "stream",
     "text": [
      "<class 'pandas.core.frame.DataFrame'>\n",
      "Index: 9 entries, 0 to 8\n",
      "Data columns (total 10 columns):\n",
      " #   Column                       Non-Null Count  Dtype              \n",
      "---  ------                       --------------  -----              \n",
      " 0   date                         9 non-null      datetime64[ns, UTC]\n",
      " 1   temperature_2m_mean          9 non-null      float32            \n",
      " 2   precipitation_sum            9 non-null      float32            \n",
      " 3   wind_speed_10m_max           9 non-null      float32            \n",
      " 4   wind_direction_10m_dominant  9 non-null      float32            \n",
      " 5   city                         9 non-null      object             \n",
      " 6   predicted_pm25               9 non-null      float32            \n",
      " 7   street                       9 non-null      object             \n",
      " 8   country                      9 non-null      object             \n",
      " 9   days_before_forecast_day     9 non-null      int64              \n",
      "dtypes: datetime64[ns, UTC](1), float32(5), int64(1), object(3)\n",
      "memory usage: 612.0+ bytes\n"
     ]
    }
   ],
   "execution_count": 26
  },
  {
   "cell_type": "markdown",
   "id": "6ff10c12",
   "metadata": {},
   "source": [
    "### Create Forecast Graph\n",
    "Draw a graph of the predictions with dates as a PNG and save it to the github repo\n",
    "Show it on github pages"
   ]
  },
  {
   "cell_type": "code",
   "id": "9bb0f844",
   "metadata": {
    "ExecuteTime": {
     "end_time": "2024-11-07T13:03:36.467248Z",
     "start_time": "2024-11-07T13:03:34.999930Z"
    }
   },
   "source": [
    "file_path = \"../docs/pm25_forecast.png\"\n",
    "plt = util.plot_air_quality_forecast(city, street, batch_data, file_path)\n",
    "plt.show()"
   ],
   "outputs": [
    {
     "data": {
      "text/plain": [
       "<Figure size 1000x600 with 1 Axes>"
      ],
      "image/png": "[encoded data removed]"
     },
     "metadata": {},
     "output_type": "display_data"
    }
   ],
   "execution_count": 36
  },
  {
   "cell_type": "code",
   "id": "c418a791",
   "metadata": {
    "ExecuteTime": {
     "end_time": "2024-11-07T12:58:05.408992Z",
     "start_time": "2024-11-07T12:58:05.221362Z"
    }
   },
   "source": [
    "# Get or create feature group\n",
    "monitor_fg = fs.get_or_create_feature_group(\n",
    "    name='aq_predictions',\n",
    "    description='Air Quality prediction monitoring',\n",
    "    version=1,\n",
    "    primary_key=['city','street','date','days_before_forecast_day'],\n",
    "    event_time=\"date\"\n",
    ")"
   ],
   "outputs": [],
   "execution_count": 28
  },
  {
   "cell_type": "code",
   "id": "8992650a",
   "metadata": {
    "ExecuteTime": {
     "end_time": "2024-11-07T12:59:44.189702Z",
     "start_time": "2024-11-07T12:58:07.716761Z"
    }
   },
   "source": [
    "monitor_fg.insert(batch_data, write_options={\"wait_for_job\": True})"
   ],
   "outputs": [
    {
     "name": "stdout",
     "output_type": "stream",
     "text": [
      "2024-11-07 13:58:07,722 WARNING: FutureWarning: is_sparse is deprecated and will be removed in a future version. Check `isinstance(dtype, pd.SparseDtype)` instead.\n",
      "\n",
      "Feature Group created successfully, explore it at \n",
      "https://c.app.hopsworks.ai:443/p/1157271/fs/1147974/fg/1339750\n",
      "2024-11-07 13:58:09,511 WARNING: DeprecationWarning: The `ipykernel.comm.Comm` class has been deprecated. Please use the `comm` module instead.For creating comms, use the function `from comm import create_comm`.\n",
      "\n"
     ]
    },
    {
     "data": {
      "text/plain": [
       "Uploading Dataframe: 0.00% |          | Rows 0/9 | Elapsed Time: 00:00 | Remaining Time: ?"
      ],
      "application/vnd.jupyter.widget-view+json": {
       "version_major": 2,
       "version_minor": 0,
       "model_id": "6e43c36248154c1188cbb16ae9f35cc1"
      }
     },
     "metadata": {},
     "output_type": "display_data"
    },
    {
     "name": "stdout",
     "output_type": "stream",
     "text": [
      "Launching job: aq_predictions_1_offline_fg_materialization\n",
      "Job started successfully, you can follow the progress at \n",
      "https://c.app.hopsworks.ai/p/1157271/jobs/named/aq_predictions_1_offline_fg_materialization/executions\n"
     ]
    },
    {
     "data": {
      "text/plain": [
       "(<hsfs.core.job.Job at 0x1e62b589390>, None)"
      ]
     },
     "execution_count": 29,
     "metadata": {},
     "output_type": "execute_result"
    }
   ],
   "execution_count": 29
  },
  {
   "cell_type": "code",
   "id": "aa2c1b07",
   "metadata": {
    "ExecuteTime": {
     "end_time": "2024-11-07T13:00:26.765582Z",
     "start_time": "2024-11-07T13:00:25.385125Z"
    }
   },
   "source": [
    "# We will create a hindcast chart for  only the forecasts made 1 day beforehand\n",
    "monitoring_df = monitor_fg.filter(monitor_fg.days_before_forecast_day == 1).read()\n",
    "monitoring_df"
   ],
   "outputs": [
    {
     "name": "stdout",
     "output_type": "stream",
     "text": [
      "Finished: Reading data from Hopsworks, using Hopsworks Feature Query Service (0.71s) \n"
     ]
    },
    {
     "data": {
      "text/plain": [
       "                       date  temperature_2m_mean  precipitation_sum  \\\n",
       "0 2024-11-08 00:00:00+00:00                 10.3                0.0   \n",
       "\n",
       "   wind_speed_10m_max  wind_direction_10m_dominant        city  \\\n",
       "0            4.510787                   118.610367  reutlingen   \n",
       "\n",
       "   predicted_pm25           street  country  days_before_forecast_day  \n",
       "0        7.719121  zaisentalstraße  germany                         1  "
      ],
      "text/html": [
       "<div>\n",
       "<style scoped>\n",
       "    .dataframe tbody tr th:only-of-type {\n",
       "        vertical-align: middle;\n",
       "    }\n",
       "\n",
       "    .dataframe tbody tr th {\n",
       "        vertical-align: top;\n",
       "    }\n",
       "\n",
       "    .dataframe thead th {\n",
       "        text-align: right;\n",
       "    }\n",
       "</style>\n",
       "<table border=\"1\" class=\"dataframe\">\n",
       "  <thead>\n",
       "    <tr style=\"text-align: right;\">\n",
       "      <th></th>\n",
       "      <th>date</th>\n",
       "      <th>temperature_2m_mean</th>\n",
       "      <th>precipitation_sum</th>\n",
       "      <th>wind_speed_10m_max</th>\n",
       "      <th>wind_direction_10m_dominant</th>\n",
       "      <th>city</th>\n",
       "      <th>predicted_pm25</th>\n",
       "      <th>street</th>\n",
       "      <th>country</th>\n",
       "      <th>days_before_forecast_day</th>\n",
       "    </tr>\n",
       "  </thead>\n",
       "  <tbody>\n",
       "    <tr>\n",
       "      <th>0</th>\n",
       "      <td>2024-11-08 00:00:00+00:00</td>\n",
       "      <td>10.3</td>\n",
       "      <td>0.0</td>\n",
       "      <td>4.510787</td>\n",
       "      <td>118.610367</td>\n",
       "      <td>reutlingen</td>\n",
       "      <td>7.719121</td>\n",
       "      <td>zaisentalstraße</td>\n",
       "      <td>germany</td>\n",
       "      <td>1</td>\n",
       "    </tr>\n",
       "  </tbody>\n",
       "</table>\n",
       "</div>"
      ]
     },
     "execution_count": 30,
     "metadata": {},
     "output_type": "execute_result"
    }
   ],
   "execution_count": 30
  },
  {
   "cell_type": "code",
   "id": "8c3ff020",
   "metadata": {
    "ExecuteTime": {
     "end_time": "2024-11-07T13:00:32.696477Z",
     "start_time": "2024-11-07T13:00:30.526660Z"
    }
   },
   "source": [
    "air_quality_fg = fs.get_feature_group(\n",
    "    name='air_quality',\n",
    "    version=1,\n",
    ")\n",
    "air_quality_df = air_quality_fg.read()\n",
    "air_quality_df"
   ],
   "outputs": [
    {
     "name": "stdout",
     "output_type": "stream",
     "text": [
      "Finished: Reading data from Hopsworks, using Hopsworks Feature Query Service (1.36s) \n"
     ]
    },
    {
     "data": {
      "text/plain": [
       "                          date   pm25  country        city           street  \\\n",
       "0    2022-10-05 00:00:00+00:00   3.10  germany  reutlingen  zaisentalstraße   \n",
       "1    2023-04-07 00:00:00+00:00   4.12  germany  reutlingen  zaisentalstraße   \n",
       "2    2023-04-11 00:00:00+00:00   1.42  germany  reutlingen  zaisentalstraße   \n",
       "3    2021-09-15 00:00:00+00:00   3.80  germany  reutlingen  zaisentalstraße   \n",
       "4    2020-04-26 00:00:00+00:00   1.98  germany  reutlingen  zaisentalstraße   \n",
       "...                        ...    ...      ...         ...              ...   \n",
       "1782 2024-04-17 00:00:00+00:00   2.20  germany  reutlingen  zaisentalstraße   \n",
       "1783 2019-12-20 00:00:00+00:00   4.48  germany  reutlingen  zaisentalstraße   \n",
       "1784 2021-05-23 00:00:00+00:00   0.80  germany  reutlingen  zaisentalstraße   \n",
       "1785 2024-11-06 00:00:00+00:00  55.00  germany  reutlingen  zaisentalstraße   \n",
       "1786 2024-11-07 00:00:00+00:00  59.00  germany  reutlingen  zaisentalstraße   \n",
       "\n",
       "                                    url  \n",
       "0     https://api.waqi.info/feed/A54451  \n",
       "1     https://api.waqi.info/feed/A54451  \n",
       "2     https://api.waqi.info/feed/A54451  \n",
       "3     https://api.waqi.info/feed/A54451  \n",
       "4     https://api.waqi.info/feed/A54451  \n",
       "...                                 ...  \n",
       "1782  https://api.waqi.info/feed/A54451  \n",
       "1783  https://api.waqi.info/feed/A54451  \n",
       "1784  https://api.waqi.info/feed/A54451  \n",
       "1785  https://api.waqi.info/feed/A54451  \n",
       "1786  https://api.waqi.info/feed/A54451  \n",
       "\n",
       "[1787 rows x 6 columns]"
      ],
      "text/html": [
       "<div>\n",
       "<style scoped>\n",
       "    .dataframe tbody tr th:only-of-type {\n",
       "        vertical-align: middle;\n",
       "    }\n",
       "\n",
       "    .dataframe tbody tr th {\n",
       "        vertical-align: top;\n",
       "    }\n",
       "\n",
       "    .dataframe thead th {\n",
       "        text-align: right;\n",
       "    }\n",
       "</style>\n",
       "<table border=\"1\" class=\"dataframe\">\n",
       "  <thead>\n",
       "    <tr style=\"text-align: right;\">\n",
       "      <th></th>\n",
       "      <th>date</th>\n",
       "      <th>pm25</th>\n",
       "      <th>country</th>\n",
       "      <th>city</th>\n",
       "      <th>street</th>\n",
       "      <th>url</th>\n",
       "    </tr>\n",
       "  </thead>\n",
       "  <tbody>\n",
       "    <tr>\n",
       "      <th>0</th>\n",
       "      <td>2022-10-05 00:00:00+00:00</td>\n",
       "      <td>3.10</td>\n",
       "      <td>germany</td>\n",
       "      <td>reutlingen</td>\n",
       "      <td>zaisentalstraße</td>\n",
       "      <td>https://api.waqi.info/feed/A54451</td>\n",
       "    </tr>\n",
       "    <tr>\n",
       "      <th>1</th>\n",
       "      <td>2023-04-07 00:00:00+00:00</td>\n",
       "      <td>4.12</td>\n",
       "      <td>germany</td>\n",
       "      <td>reutlingen</td>\n",
       "      <td>zaisentalstraße</td>\n",
       "      <td>https://api.waqi.info/feed/A54451</td>\n",
       "    </tr>\n",
       "    <tr>\n",
       "      <th>2</th>\n",
       "      <td>2023-04-11 00:00:00+00:00</td>\n",
       "      <td>1.42</td>\n",
       "      <td>germany</td>\n",
       "      <td>reutlingen</td>\n",
       "      <td>zaisentalstraße</td>\n",
       "      <td>https://api.waqi.info/feed/A54451</td>\n",
       "    </tr>\n",
       "    <tr>\n",
       "      <th>3</th>\n",
       "      <td>2021-09-15 00:00:00+00:00</td>\n",
       "      <td>3.80</td>\n",
       "      <td>germany</td>\n",
       "      <td>reutlingen</td>\n",
       "      <td>zaisentalstraße</td>\n",
       "      <td>https://api.waqi.info/feed/A54451</td>\n",
       "    </tr>\n",
       "    <tr>\n",
       "      <th>4</th>\n",
       "      <td>2020-04-26 00:00:00+00:00</td>\n",
       "      <td>1.98</td>\n",
       "      <td>germany</td>\n",
       "      <td>reutlingen</td>\n",
       "      <td>zaisentalstraße</td>\n",
       "      <td>https://api.waqi.info/feed/A54451</td>\n",
       "    </tr>\n",
       "    <tr>\n",
       "      <th>...</th>\n",
       "      <td>...</td>\n",
       "      <td>...</td>\n",
       "      <td>...</td>\n",
       "      <td>...</td>\n",
       "      <td>...</td>\n",
       "      <td>...</td>\n",
       "    </tr>\n",
       "    <tr>\n",
       "      <th>1782</th>\n",
       "      <td>2024-04-17 00:00:00+00:00</td>\n",
       "      <td>2.20</td>\n",
       "      <td>germany</td>\n",
       "      <td>reutlingen</td>\n",
       "      <td>zaisentalstraße</td>\n",
       "      <td>https://api.waqi.info/feed/A54451</td>\n",
       "    </tr>\n",
       "    <tr>\n",
       "      <th>1783</th>\n",
       "      <td>2019-12-20 00:00:00+00:00</td>\n",
       "      <td>4.48</td>\n",
       "      <td>germany</td>\n",
       "      <td>reutlingen</td>\n",
       "      <td>zaisentalstraße</td>\n",
       "      <td>https://api.waqi.info/feed/A54451</td>\n",
       "    </tr>\n",
       "    <tr>\n",
       "      <th>1784</th>\n",
       "      <td>2021-05-23 00:00:00+00:00</td>\n",
       "      <td>0.80</td>\n",
       "      <td>germany</td>\n",
       "      <td>reutlingen</td>\n",
       "      <td>zaisentalstraße</td>\n",
       "      <td>https://api.waqi.info/feed/A54451</td>\n",
       "    </tr>\n",
       "    <tr>\n",
       "      <th>1785</th>\n",
       "      <td>2024-11-06 00:00:00+00:00</td>\n",
       "      <td>55.00</td>\n",
       "      <td>germany</td>\n",
       "      <td>reutlingen</td>\n",
       "      <td>zaisentalstraße</td>\n",
       "      <td>https://api.waqi.info/feed/A54451</td>\n",
       "    </tr>\n",
       "    <tr>\n",
       "      <th>1786</th>\n",
       "      <td>2024-11-07 00:00:00+00:00</td>\n",
       "      <td>59.00</td>\n",
       "      <td>germany</td>\n",
       "      <td>reutlingen</td>\n",
       "      <td>zaisentalstraße</td>\n",
       "      <td>https://api.waqi.info/feed/A54451</td>\n",
       "    </tr>\n",
       "  </tbody>\n",
       "</table>\n",
       "<p>1787 rows × 6 columns</p>\n",
       "</div>"
      ]
     },
     "execution_count": 31,
     "metadata": {},
     "output_type": "execute_result"
    }
   ],
   "execution_count": 31
  },
  {
   "cell_type": "code",
   "id": "6763f180",
   "metadata": {
    "ExecuteTime": {
     "end_time": "2024-11-07T13:02:59.291965Z",
     "start_time": "2024-11-07T13:00:35.372811Z"
    }
   },
   "source": [
    "outcome_df = air_quality_df[['date', 'pm25']]\n",
    "preds_df =  monitoring_df[['date', 'predicted_pm25']]\n",
    "\n",
    "hindcast_df = pd.merge(preds_df, outcome_df, on=\"date\")\n",
    "hindcast_df = hindcast_df.sort_values(by=['date'])\n",
    "\n",
    "# If there are no outcomes for predictions yet, generate some predictions/outcomes from existing data\n",
    "if len(hindcast_df) == 0:\n",
    "    hindcast_df = util.backfill_predictions_for_monitoring(weather_fg, air_quality_df, monitor_fg, retrieved_xgboost_model)\n",
    "hindcast_df"
   ],
   "outputs": [
    {
     "name": "stdout",
     "output_type": "stream",
     "text": [
      "Finished: Reading data from Hopsworks, using Hopsworks Feature Query Service (0.84s) \n",
      "2024-11-07 14:00:36,663 WARNING: FutureWarning: is_sparse is deprecated and will be removed in a future version. Check `isinstance(dtype, pd.SparseDtype)` instead.\n",
      "\n",
      "2024-11-07 14:00:37,001 WARNING: DeprecationWarning: The `ipykernel.comm.Comm` class has been deprecated. Please use the `comm` module instead.For creating comms, use the function `from comm import create_comm`.\n",
      "\n"
     ]
    },
    {
     "data": {
      "text/plain": [
       "Uploading Dataframe: 0.00% |          | Rows 0/1 | Elapsed Time: 00:00 | Remaining Time: ?"
      ],
      "application/vnd.jupyter.widget-view+json": {
       "version_major": 2,
       "version_minor": 0,
       "model_id": "6f210333327640ce83202625e3cf449c"
      }
     },
     "metadata": {},
     "output_type": "display_data"
    },
    {
     "name": "stdout",
     "output_type": "stream",
     "text": [
      "Launching job: aq_predictions_1_offline_fg_materialization\n",
      "Job started successfully, you can follow the progress at \n",
      "https://c.app.hopsworks.ai/p/1157271/jobs/named/aq_predictions_1_offline_fg_materialization/executions\n"
     ]
    },
    {
     "data": {
      "text/plain": [
       "                       date  temperature_2m_mean  precipitation_sum  \\\n",
       "0 2024-11-07 00:00:00+00:00                  9.3                0.0   \n",
       "\n",
       "   wind_speed_10m_max  wind_direction_10m_dominant        city  \\\n",
       "0                 5.4                     53.13002  reutlingen   \n",
       "\n",
       "   predicted_pm25  pm25           street  country  days_before_forecast_day  \n",
       "0        3.966024  59.0  zaisentalstraße  germany                         1  "
      ],
      "text/html": [
       "<div>\n",
       "<style scoped>\n",
       "    .dataframe tbody tr th:only-of-type {\n",
       "        vertical-align: middle;\n",
       "    }\n",
       "\n",
       "    .dataframe tbody tr th {\n",
       "        vertical-align: top;\n",
       "    }\n",
       "\n",
       "    .dataframe thead th {\n",
       "        text-align: right;\n",
       "    }\n",
       "</style>\n",
       "<table border=\"1\" class=\"dataframe\">\n",
       "  <thead>\n",
       "    <tr style=\"text-align: right;\">\n",
       "      <th></th>\n",
       "      <th>date</th>\n",
       "      <th>temperature_2m_mean</th>\n",
       "      <th>precipitation_sum</th>\n",
       "      <th>wind_speed_10m_max</th>\n",
       "      <th>wind_direction_10m_dominant</th>\n",
       "      <th>city</th>\n",
       "      <th>predicted_pm25</th>\n",
       "      <th>pm25</th>\n",
       "      <th>street</th>\n",
       "      <th>country</th>\n",
       "      <th>days_before_forecast_day</th>\n",
       "    </tr>\n",
       "  </thead>\n",
       "  <tbody>\n",
       "    <tr>\n",
       "      <th>0</th>\n",
       "      <td>2024-11-07 00:00:00+00:00</td>\n",
       "      <td>9.3</td>\n",
       "      <td>0.0</td>\n",
       "      <td>5.4</td>\n",
       "      <td>53.13002</td>\n",
       "      <td>reutlingen</td>\n",
       "      <td>3.966024</td>\n",
       "      <td>59.0</td>\n",
       "      <td>zaisentalstraße</td>\n",
       "      <td>germany</td>\n",
       "      <td>1</td>\n",
       "    </tr>\n",
       "  </tbody>\n",
       "</table>\n",
       "</div>"
      ]
     },
     "execution_count": 32,
     "metadata": {},
     "output_type": "execute_result"
    }
   ],
   "execution_count": 32
  },
  {
   "cell_type": "markdown",
   "id": "9edb1552",
   "metadata": {},
   "source": [
    "### Plot the Hindcast comparing predicted with forecasted values (1-day prior forecast)\n",
    "\n",
    "__This graph will be empty to begin with - this is normal.__\n",
    "\n",
    "After a few days of predictions and observations, you will get data points in this graph."
   ]
  },
  {
   "cell_type": "code",
   "id": "31e62393",
   "metadata": {
    "ExecuteTime": {
     "end_time": "2024-11-07T13:07:22.238572Z",
     "start_time": "2024-11-07T13:07:20.545460Z"
    }
   },
   "source": [
    "file_path = \"../docs/pm25_hindcast.png\"\n",
    "plt = util.plot_air_quality_forecast(city, street, hindcast_df, file_path, hindcast=True)\n",
    "plt.show()"
   ],
   "outputs": [
    {
     "data": {
      "text/plain": [
       "<Figure size 1000x600 with 1 Axes>"
      ],
      "image/png": "[encoded data removed]"
     },
     "metadata": {},
     "output_type": "display_data"
    }
   ],
   "execution_count": 38
  },
  {
   "cell_type": "markdown",
   "id": "c29eb549",
   "metadata": {},
   "source": [
    "---"
   ]
  }
 ],
 "metadata": {
  "kernelspec": {
   "display_name": "Python 3 (ipykernel)",
   "language": "python",
   "name": "python3"
  },
  "language_info": {
   "codemirror_mode": {
    "name": "ipython",
    "version": 3
   },
   "file_extension": ".py",
   "mimetype": "text/x-python",
   "name": "python",
   "nbconvert_exporter": "python",
   "pygments_lexer": "ipython3",
   "version": "3.10.0"
  }
 },
 "nbformat": 4,
 "nbformat_minor": 5
}
