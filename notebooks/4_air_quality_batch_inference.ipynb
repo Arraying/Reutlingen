{
 "cells": [
  {
   "cell_type": "markdown",
   "id": "f16b7819",
   "metadata": {},
   "source": [
    "# <span style=\"font-width:bold; font-size: 3rem; color:#1EB182;\"> **Air Quality** </span><span style=\"font-width:bold; font-size: 3rem; color:#333;\">- Part 04: Batch Inference</span>\n",
    "\n",
    "## 🗒️ This notebook is divided into the following sections:\n",
    "\n",
    "1. Download model and batch inference data\n",
    "2. Make predictions, generate PNG for forecast\n",
    "3. Store predictions in a monitoring feature group adn generate PNG for hindcast"
   ]
  },
  {
   "cell_type": "markdown",
   "id": "49a84ee9",
   "metadata": {},
   "source": [
    "## <span style='color:#ff5f27'> 📝 Imports"
   ]
  },
  {
   "cell_type": "code",
   "id": "1f430c88",
   "metadata": {
    "ExecuteTime": {
     "end_time": "2024-11-10T21:11:02.083081Z",
     "start_time": "2024-11-10T21:11:02.079942Z"
    }
   },
   "source": [
    "import datetime\n",
    "import pandas as pd\n",
    "from xgboost import XGBRegressor\n",
    "import hopsworks\n",
    "import json\n",
    "from functions import util\n",
    "import os"
   ],
   "outputs": [],
   "execution_count": 31
  },
  {
   "cell_type": "code",
   "id": "bcfd27c1",
   "metadata": {
    "ExecuteTime": {
     "end_time": "2024-11-10T21:11:02.105157Z",
     "start_time": "2024-11-10T21:11:02.100602Z"
    }
   },
   "source": [
    "today = datetime.datetime.now() - datetime.timedelta(0)\n",
    "tomorrow = today + datetime.timedelta(days = 1)\n",
    "today"
   ],
   "outputs": [
    {
     "data": {
      "text/plain": [
       "datetime.datetime(2024, 11, 10, 22, 11, 2, 102607)"
      ]
     },
     "execution_count": 32,
     "metadata": {},
     "output_type": "execute_result"
    }
   ],
   "execution_count": 32
  },
  {
   "cell_type": "markdown",
   "id": "4e91e99d",
   "metadata": {},
   "source": [
    "## <span style=\"color:#ff5f27;\"> 📡 Connect to Hopsworks Feature Store </span>"
   ]
  },
  {
   "cell_type": "code",
   "id": "74a2c243",
   "metadata": {
    "ExecuteTime": {
     "end_time": "2024-11-10T21:11:04.637240Z",
     "start_time": "2024-11-10T21:11:02.186982Z"
    }
   },
   "source": [
    "project = hopsworks.login()\n",
    "if os.environ.get(\"HOPSWORKS_API_KEY\") is None:\n",
    "    os.environ[\"HOPSWORKS_API_KEY\"] = open(\".hw_key\").read()\n",
    "fs = project.get_feature_store() \n",
    "\n",
    "secrets = util.secrets_api(project.name)\n",
    "location_str = secrets.get_secret(\"SENSOR_LOCATION_JSON\").value\n",
    "location = json.loads(location_str)\n",
    "country=location['country']\n",
    "city=location['city']\n",
    "street=location['street']"
   ],
   "outputs": [
    {
     "name": "stdout",
     "output_type": "stream",
     "text": [
      "Connection closed.\n",
      "Connected. Call `.close()` to terminate connection gracefully.\n",
      "\n",
      "Logged in to project, explore it here https://c.app.hopsworks.ai:443/p/1157271\n",
      "Connected. Call `.close()` to terminate connection gracefully.\n",
      "Connected. Call `.close()` to terminate connection gracefully.\n"
     ]
    }
   ],
   "execution_count": 33
  },
  {
   "cell_type": "markdown",
   "id": "4f138859",
   "metadata": {},
   "source": [
    "## <span style=\"color:#ff5f27;\"> ⚙️ Feature View Retrieval</span>\n"
   ]
  },
  {
   "cell_type": "code",
   "id": "114b8e87",
   "metadata": {
    "ExecuteTime": {
     "end_time": "2024-11-10T21:11:06.000460Z",
     "start_time": "2024-11-10T21:11:04.644632Z"
    }
   },
   "source": [
    "feature_view = fs.get_feature_view(\n",
    "    name='air_quality_fv',\n",
    "    version=1,\n",
    ")"
   ],
   "outputs": [],
   "execution_count": 34
  },
  {
   "cell_type": "markdown",
   "id": "4cead441",
   "metadata": {},
   "source": [
    "## <span style=\"color:#ff5f27;\">🪝 Download the model from Model Registry</span>"
   ]
  },
  {
   "cell_type": "code",
   "id": "c6d70a2f",
   "metadata": {
    "ExecuteTime": {
     "end_time": "2024-11-10T21:11:09.466550Z",
     "start_time": "2024-11-10T21:11:06.007467Z"
    }
   },
   "source": [
    "mr = project.get_model_registry()\n",
    "\n",
    "retrieved_model = mr.get_model(\n",
    "    name=\"air_quality_xgboost_model\",\n",
    "    version=1,\n",
    ")\n",
    "\n",
    "# Download the saved model artifacts to a local directory\n",
    "saved_model_dir = retrieved_model.download()"
   ],
   "outputs": [
    {
     "name": "stdout",
     "output_type": "stream",
     "text": [
      "Connected. Call `.close()` to terminate connection gracefully.\n",
      "Downloading model artifact (0 dirs, 3 files)... DONE\r"
     ]
    }
   ],
   "execution_count": 35
  },
  {
   "cell_type": "code",
   "id": "a6cf6c06",
   "metadata": {
    "ExecuteTime": {
     "end_time": "2024-11-10T21:11:09.503335Z",
     "start_time": "2024-11-10T21:11:09.473647Z"
    }
   },
   "source": [
    "# Loading the XGBoost regressor model and label encoder from the saved model directory\n",
    "# retrieved_xgboost_model = joblib.load(saved_model_dir + \"/xgboost_regressor.pkl\")\n",
    "retrieved_xgboost_model = XGBRegressor()\n",
    "\n",
    "retrieved_xgboost_model.load_model(saved_model_dir + \"/model.json\")\n",
    "\n",
    "# Displaying the retrieved XGBoost regressor model\n",
    "retrieved_xgboost_model"
   ],
   "outputs": [
    {
     "data": {
      "text/plain": [
       "XGBRegressor(base_score='4.898471E0', booster='gbtree', callbacks=None,\n",
       "             colsample_bylevel=None, colsample_bynode=None,\n",
       "             colsample_bytree=None, device=None, early_stopping_rounds=None,\n",
       "             enable_categorical=False, eval_metric=None,\n",
       "             feature_types=['float', 'float', 'float', 'float'], gamma=None,\n",
       "             grow_policy=None, importance_type=None,\n",
       "             interaction_constraints=None, learning_rate=None, max_bin=None,\n",
       "             max_cat_threshold=None, max_cat_to_onehot=None,\n",
       "             max_delta_step=None, max_depth=None, max_leaves=None,\n",
       "             min_child_weight=None, missing=nan, monotone_constraints=None,\n",
       "             multi_strategy=None, n_estimators=None, n_jobs=None,\n",
       "             num_parallel_tree=None, random_state=None, ...)"
      ],
      "text/html": [
       "<style>#sk-container-id-3 {\n",
       "  /* Definition of color scheme common for light and dark mode */\n",
       "  --sklearn-color-text: black;\n",
       "  --sklearn-color-line: gray;\n",
       "  /* Definition of color scheme for unfitted estimators */\n",
       "  --sklearn-color-unfitted-level-0: #fff5e6;\n",
       "  --sklearn-color-unfitted-level-1: #f6e4d2;\n",
       "  --sklearn-color-unfitted-level-2: #ffe0b3;\n",
       "  --sklearn-color-unfitted-level-3: chocolate;\n",
       "  /* Definition of color scheme for fitted estimators */\n",
       "  --sklearn-color-fitted-level-0: #f0f8ff;\n",
       "  --sklearn-color-fitted-level-1: #d4ebff;\n",
       "  --sklearn-color-fitted-level-2: #b3dbfd;\n",
       "  --sklearn-color-fitted-level-3: cornflowerblue;\n",
       "\n",
       "  /* Specific color for light theme */\n",
       "  --sklearn-color-text-on-default-background: var(--sg-text-color, var(--theme-code-foreground, var(--jp-content-font-color1, black)));\n",
       "  --sklearn-color-background: var(--sg-background-color, var(--theme-background, var(--jp-layout-color0, white)));\n",
       "  --sklearn-color-border-box: var(--sg-text-color, var(--theme-code-foreground, var(--jp-content-font-color1, black)));\n",
       "  --sklearn-color-icon: #696969;\n",
       "\n",
       "  @media (prefers-color-scheme: dark) {\n",
       "    /* Redefinition of color scheme for dark theme */\n",
       "    --sklearn-color-text-on-default-background: var(--sg-text-color, var(--theme-code-foreground, var(--jp-content-font-color1, white)));\n",
       "    --sklearn-color-background: var(--sg-background-color, var(--theme-background, var(--jp-layout-color0, #111)));\n",
       "    --sklearn-color-border-box: var(--sg-text-color, var(--theme-code-foreground, var(--jp-content-font-color1, white)));\n",
       "    --sklearn-color-icon: #878787;\n",
       "  }\n",
       "}\n",
       "\n",
       "#sk-container-id-3 {\n",
       "  color: var(--sklearn-color-text);\n",
       "}\n",
       "\n",
       "#sk-container-id-3 pre {\n",
       "  padding: 0;\n",
       "}\n",
       "\n",
       "#sk-container-id-3 input.sk-hidden--visually {\n",
       "  border: 0;\n",
       "  clip: rect(1px 1px 1px 1px);\n",
       "  clip: rect(1px, 1px, 1px, 1px);\n",
       "  height: 1px;\n",
       "  margin: -1px;\n",
       "  overflow: hidden;\n",
       "  padding: 0;\n",
       "  position: absolute;\n",
       "  width: 1px;\n",
       "}\n",
       "\n",
       "#sk-container-id-3 div.sk-dashed-wrapped {\n",
       "  border: 1px dashed var(--sklearn-color-line);\n",
       "  margin: 0 0.4em 0.5em 0.4em;\n",
       "  box-sizing: border-box;\n",
       "  padding-bottom: 0.4em;\n",
       "  background-color: var(--sklearn-color-background);\n",
       "}\n",
       "\n",
       "#sk-container-id-3 div.sk-container {\n",
       "  /* jupyter's `normalize.less` sets `[hidden] { display: none; }`\n",
       "     but bootstrap.min.css set `[hidden] { display: none !important; }`\n",
       "     so we also need the `!important` here to be able to override the\n",
       "     default hidden behavior on the sphinx rendered scikit-learn.org.\n",
       "     See: https://github.com/scikit-learn/scikit-learn/issues/21755 */\n",
       "  display: inline-block !important;\n",
       "  position: relative;\n",
       "}\n",
       "\n",
       "#sk-container-id-3 div.sk-text-repr-fallback {\n",
       "  display: none;\n",
       "}\n",
       "\n",
       "div.sk-parallel-item,\n",
       "div.sk-serial,\n",
       "div.sk-item {\n",
       "  /* draw centered vertical line to link estimators */\n",
       "  background-image: linear-gradient(var(--sklearn-color-text-on-default-background), var(--sklearn-color-text-on-default-background));\n",
       "  background-size: 2px 100%;\n",
       "  background-repeat: no-repeat;\n",
       "  background-position: center center;\n",
       "}\n",
       "\n",
       "/* Parallel-specific style estimator block */\n",
       "\n",
       "#sk-container-id-3 div.sk-parallel-item::after {\n",
       "  content: \"\";\n",
       "  width: 100%;\n",
       "  border-bottom: 2px solid var(--sklearn-color-text-on-default-background);\n",
       "  flex-grow: 1;\n",
       "}\n",
       "\n",
       "#sk-container-id-3 div.sk-parallel {\n",
       "  display: flex;\n",
       "  align-items: stretch;\n",
       "  justify-content: center;\n",
       "  background-color: var(--sklearn-color-background);\n",
       "  position: relative;\n",
       "}\n",
       "\n",
       "#sk-container-id-3 div.sk-parallel-item {\n",
       "  display: flex;\n",
       "  flex-direction: column;\n",
       "}\n",
       "\n",
       "#sk-container-id-3 div.sk-parallel-item:first-child::after {\n",
       "  align-self: flex-end;\n",
       "  width: 50%;\n",
       "}\n",
       "\n",
       "#sk-container-id-3 div.sk-parallel-item:last-child::after {\n",
       "  align-self: flex-start;\n",
       "  width: 50%;\n",
       "}\n",
       "\n",
       "#sk-container-id-3 div.sk-parallel-item:only-child::after {\n",
       "  width: 0;\n",
       "}\n",
       "\n",
       "/* Serial-specific style estimator block */\n",
       "\n",
       "#sk-container-id-3 div.sk-serial {\n",
       "  display: flex;\n",
       "  flex-direction: column;\n",
       "  align-items: center;\n",
       "  background-color: var(--sklearn-color-background);\n",
       "  padding-right: 1em;\n",
       "  padding-left: 1em;\n",
       "}\n",
       "\n",
       "\n",
       "/* Toggleable style: style used for estimator/Pipeline/ColumnTransformer box that is\n",
       "clickable and can be expanded/collapsed.\n",
       "- Pipeline and ColumnTransformer use this feature and define the default style\n",
       "- Estimators will overwrite some part of the style using the `sk-estimator` class\n",
       "*/\n",
       "\n",
       "/* Pipeline and ColumnTransformer style (default) */\n",
       "\n",
       "#sk-container-id-3 div.sk-toggleable {\n",
       "  /* Default theme specific background. It is overwritten whether we have a\n",
       "  specific estimator or a Pipeline/ColumnTransformer */\n",
       "  background-color: var(--sklearn-color-background);\n",
       "}\n",
       "\n",
       "/* Toggleable label */\n",
       "#sk-container-id-3 label.sk-toggleable__label {\n",
       "  cursor: pointer;\n",
       "  display: block;\n",
       "  width: 100%;\n",
       "  margin-bottom: 0;\n",
       "  padding: 0.5em;\n",
       "  box-sizing: border-box;\n",
       "  text-align: center;\n",
       "}\n",
       "\n",
       "#sk-container-id-3 label.sk-toggleable__label-arrow:before {\n",
       "  /* Arrow on the left of the label */\n",
       "  content: \"▸\";\n",
       "  float: left;\n",
       "  margin-right: 0.25em;\n",
       "  color: var(--sklearn-color-icon);\n",
       "}\n",
       "\n",
       "#sk-container-id-3 label.sk-toggleable__label-arrow:hover:before {\n",
       "  color: var(--sklearn-color-text);\n",
       "}\n",
       "\n",
       "/* Toggleable content - dropdown */\n",
       "\n",
       "#sk-container-id-3 div.sk-toggleable__content {\n",
       "  max-height: 0;\n",
       "  max-width: 0;\n",
       "  overflow: hidden;\n",
       "  text-align: left;\n",
       "  /* unfitted */\n",
       "  background-color: var(--sklearn-color-unfitted-level-0);\n",
       "}\n",
       "\n",
       "#sk-container-id-3 div.sk-toggleable__content.fitted {\n",
       "  /* fitted */\n",
       "  background-color: var(--sklearn-color-fitted-level-0);\n",
       "}\n",
       "\n",
       "#sk-container-id-3 div.sk-toggleable__content pre {\n",
       "  margin: 0.2em;\n",
       "  border-radius: 0.25em;\n",
       "  color: var(--sklearn-color-text);\n",
       "  /* unfitted */\n",
       "  background-color: var(--sklearn-color-unfitted-level-0);\n",
       "}\n",
       "\n",
       "#sk-container-id-3 div.sk-toggleable__content.fitted pre {\n",
       "  /* unfitted */\n",
       "  background-color: var(--sklearn-color-fitted-level-0);\n",
       "}\n",
       "\n",
       "#sk-container-id-3 input.sk-toggleable__control:checked~div.sk-toggleable__content {\n",
       "  /* Expand drop-down */\n",
       "  max-height: 200px;\n",
       "  max-width: 100%;\n",
       "  overflow: auto;\n",
       "}\n",
       "\n",
       "#sk-container-id-3 input.sk-toggleable__control:checked~label.sk-toggleable__label-arrow:before {\n",
       "  content: \"▾\";\n",
       "}\n",
       "\n",
       "/* Pipeline/ColumnTransformer-specific style */\n",
       "\n",
       "#sk-container-id-3 div.sk-label input.sk-toggleable__control:checked~label.sk-toggleable__label {\n",
       "  color: var(--sklearn-color-text);\n",
       "  background-color: var(--sklearn-color-unfitted-level-2);\n",
       "}\n",
       "\n",
       "#sk-container-id-3 div.sk-label.fitted input.sk-toggleable__control:checked~label.sk-toggleable__label {\n",
       "  background-color: var(--sklearn-color-fitted-level-2);\n",
       "}\n",
       "\n",
       "/* Estimator-specific style */\n",
       "\n",
       "/* Colorize estimator box */\n",
       "#sk-container-id-3 div.sk-estimator input.sk-toggleable__control:checked~label.sk-toggleable__label {\n",
       "  /* unfitted */\n",
       "  background-color: var(--sklearn-color-unfitted-level-2);\n",
       "}\n",
       "\n",
       "#sk-container-id-3 div.sk-estimator.fitted input.sk-toggleable__control:checked~label.sk-toggleable__label {\n",
       "  /* fitted */\n",
       "  background-color: var(--sklearn-color-fitted-level-2);\n",
       "}\n",
       "\n",
       "#sk-container-id-3 div.sk-label label.sk-toggleable__label,\n",
       "#sk-container-id-3 div.sk-label label {\n",
       "  /* The background is the default theme color */\n",
       "  color: var(--sklearn-color-text-on-default-background);\n",
       "}\n",
       "\n",
       "/* On hover, darken the color of the background */\n",
       "#sk-container-id-3 div.sk-label:hover label.sk-toggleable__label {\n",
       "  color: var(--sklearn-color-text);\n",
       "  background-color: var(--sklearn-color-unfitted-level-2);\n",
       "}\n",
       "\n",
       "/* Label box, darken color on hover, fitted */\n",
       "#sk-container-id-3 div.sk-label.fitted:hover label.sk-toggleable__label.fitted {\n",
       "  color: var(--sklearn-color-text);\n",
       "  background-color: var(--sklearn-color-fitted-level-2);\n",
       "}\n",
       "\n",
       "/* Estimator label */\n",
       "\n",
       "#sk-container-id-3 div.sk-label label {\n",
       "  font-family: monospace;\n",
       "  font-weight: bold;\n",
       "  display: inline-block;\n",
       "  line-height: 1.2em;\n",
       "}\n",
       "\n",
       "#sk-container-id-3 div.sk-label-container {\n",
       "  text-align: center;\n",
       "}\n",
       "\n",
       "/* Estimator-specific */\n",
       "#sk-container-id-3 div.sk-estimator {\n",
       "  font-family: monospace;\n",
       "  border: 1px dotted var(--sklearn-color-border-box);\n",
       "  border-radius: 0.25em;\n",
       "  box-sizing: border-box;\n",
       "  margin-bottom: 0.5em;\n",
       "  /* unfitted */\n",
       "  background-color: var(--sklearn-color-unfitted-level-0);\n",
       "}\n",
       "\n",
       "#sk-container-id-3 div.sk-estimator.fitted {\n",
       "  /* fitted */\n",
       "  background-color: var(--sklearn-color-fitted-level-0);\n",
       "}\n",
       "\n",
       "/* on hover */\n",
       "#sk-container-id-3 div.sk-estimator:hover {\n",
       "  /* unfitted */\n",
       "  background-color: var(--sklearn-color-unfitted-level-2);\n",
       "}\n",
       "\n",
       "#sk-container-id-3 div.sk-estimator.fitted:hover {\n",
       "  /* fitted */\n",
       "  background-color: var(--sklearn-color-fitted-level-2);\n",
       "}\n",
       "\n",
       "/* Specification for estimator info (e.g. \"i\" and \"?\") */\n",
       "\n",
       "/* Common style for \"i\" and \"?\" */\n",
       "\n",
       ".sk-estimator-doc-link,\n",
       "a:link.sk-estimator-doc-link,\n",
       "a:visited.sk-estimator-doc-link {\n",
       "  float: right;\n",
       "  font-size: smaller;\n",
       "  line-height: 1em;\n",
       "  font-family: monospace;\n",
       "  background-color: var(--sklearn-color-background);\n",
       "  border-radius: 1em;\n",
       "  height: 1em;\n",
       "  width: 1em;\n",
       "  text-decoration: none !important;\n",
       "  margin-left: 1ex;\n",
       "  /* unfitted */\n",
       "  border: var(--sklearn-color-unfitted-level-1) 1pt solid;\n",
       "  color: var(--sklearn-color-unfitted-level-1);\n",
       "}\n",
       "\n",
       ".sk-estimator-doc-link.fitted,\n",
       "a:link.sk-estimator-doc-link.fitted,\n",
       "a:visited.sk-estimator-doc-link.fitted {\n",
       "  /* fitted */\n",
       "  border: var(--sklearn-color-fitted-level-1) 1pt solid;\n",
       "  color: var(--sklearn-color-fitted-level-1);\n",
       "}\n",
       "\n",
       "/* On hover */\n",
       "div.sk-estimator:hover .sk-estimator-doc-link:hover,\n",
       ".sk-estimator-doc-link:hover,\n",
       "div.sk-label-container:hover .sk-estimator-doc-link:hover,\n",
       ".sk-estimator-doc-link:hover {\n",
       "  /* unfitted */\n",
       "  background-color: var(--sklearn-color-unfitted-level-3);\n",
       "  color: var(--sklearn-color-background);\n",
       "  text-decoration: none;\n",
       "}\n",
       "\n",
       "div.sk-estimator.fitted:hover .sk-estimator-doc-link.fitted:hover,\n",
       ".sk-estimator-doc-link.fitted:hover,\n",
       "div.sk-label-container:hover .sk-estimator-doc-link.fitted:hover,\n",
       ".sk-estimator-doc-link.fitted:hover {\n",
       "  /* fitted */\n",
       "  background-color: var(--sklearn-color-fitted-level-3);\n",
       "  color: var(--sklearn-color-background);\n",
       "  text-decoration: none;\n",
       "}\n",
       "\n",
       "/* Span, style for the box shown on hovering the info icon */\n",
       ".sk-estimator-doc-link span {\n",
       "  display: none;\n",
       "  z-index: 9999;\n",
       "  position: relative;\n",
       "  font-weight: normal;\n",
       "  right: .2ex;\n",
       "  padding: .5ex;\n",
       "  margin: .5ex;\n",
       "  width: min-content;\n",
       "  min-width: 20ex;\n",
       "  max-width: 50ex;\n",
       "  color: var(--sklearn-color-text);\n",
       "  box-shadow: 2pt 2pt 4pt #999;\n",
       "  /* unfitted */\n",
       "  background: var(--sklearn-color-unfitted-level-0);\n",
       "  border: .5pt solid var(--sklearn-color-unfitted-level-3);\n",
       "}\n",
       "\n",
       ".sk-estimator-doc-link.fitted span {\n",
       "  /* fitted */\n",
       "  background: var(--sklearn-color-fitted-level-0);\n",
       "  border: var(--sklearn-color-fitted-level-3);\n",
       "}\n",
       "\n",
       ".sk-estimator-doc-link:hover span {\n",
       "  display: block;\n",
       "}\n",
       "\n",
       "/* \"?\"-specific style due to the `<a>` HTML tag */\n",
       "\n",
       "#sk-container-id-3 a.estimator_doc_link {\n",
       "  float: right;\n",
       "  font-size: 1rem;\n",
       "  line-height: 1em;\n",
       "  font-family: monospace;\n",
       "  background-color: var(--sklearn-color-background);\n",
       "  border-radius: 1rem;\n",
       "  height: 1rem;\n",
       "  width: 1rem;\n",
       "  text-decoration: none;\n",
       "  /* unfitted */\n",
       "  color: var(--sklearn-color-unfitted-level-1);\n",
       "  border: var(--sklearn-color-unfitted-level-1) 1pt solid;\n",
       "}\n",
       "\n",
       "#sk-container-id-3 a.estimator_doc_link.fitted {\n",
       "  /* fitted */\n",
       "  border: var(--sklearn-color-fitted-level-1) 1pt solid;\n",
       "  color: var(--sklearn-color-fitted-level-1);\n",
       "}\n",
       "\n",
       "/* On hover */\n",
       "#sk-container-id-3 a.estimator_doc_link:hover {\n",
       "  /* unfitted */\n",
       "  background-color: var(--sklearn-color-unfitted-level-3);\n",
       "  color: var(--sklearn-color-background);\n",
       "  text-decoration: none;\n",
       "}\n",
       "\n",
       "#sk-container-id-3 a.estimator_doc_link.fitted:hover {\n",
       "  /* fitted */\n",
       "  background-color: var(--sklearn-color-fitted-level-3);\n",
       "}\n",
       "</style><div id=\"sk-container-id-3\" class=\"sk-top-container\"><div class=\"sk-text-repr-fallback\"><pre>XGBRegressor(base_score=&#x27;4.898471E0&#x27;, booster=&#x27;gbtree&#x27;, callbacks=None,\n",
       "             colsample_bylevel=None, colsample_bynode=None,\n",
       "             colsample_bytree=None, device=None, early_stopping_rounds=None,\n",
       "             enable_categorical=False, eval_metric=None,\n",
       "             feature_types=[&#x27;float&#x27;, &#x27;float&#x27;, &#x27;float&#x27;, &#x27;float&#x27;], gamma=None,\n",
       "             grow_policy=None, importance_type=None,\n",
       "             interaction_constraints=None, learning_rate=None, max_bin=None,\n",
       "             max_cat_threshold=None, max_cat_to_onehot=None,\n",
       "             max_delta_step=None, max_depth=None, max_leaves=None,\n",
       "             min_child_weight=None, missing=nan, monotone_constraints=None,\n",
       "             multi_strategy=None, n_estimators=None, n_jobs=None,\n",
       "             num_parallel_tree=None, random_state=None, ...)</pre><b>In a Jupyter environment, please rerun this cell to show the HTML representation or trust the notebook. <br />On GitHub, the HTML representation is unable to render, please try loading this page with nbviewer.org.</b></div><div class=\"sk-container\" hidden><div class=\"sk-item\"><div class=\"sk-estimator fitted sk-toggleable\"><input class=\"sk-toggleable__control sk-hidden--visually\" id=\"sk-estimator-id-3\" type=\"checkbox\" checked><label for=\"sk-estimator-id-3\" class=\"sk-toggleable__label fitted sk-toggleable__label-arrow fitted\">&nbsp;XGBRegressor<span class=\"sk-estimator-doc-link fitted\">i<span>Fitted</span></span></label><div class=\"sk-toggleable__content fitted\"><pre>XGBRegressor(base_score=&#x27;4.898471E0&#x27;, booster=&#x27;gbtree&#x27;, callbacks=None,\n",
       "             colsample_bylevel=None, colsample_bynode=None,\n",
       "             colsample_bytree=None, device=None, early_stopping_rounds=None,\n",
       "             enable_categorical=False, eval_metric=None,\n",
       "             feature_types=[&#x27;float&#x27;, &#x27;float&#x27;, &#x27;float&#x27;, &#x27;float&#x27;], gamma=None,\n",
       "             grow_policy=None, importance_type=None,\n",
       "             interaction_constraints=None, learning_rate=None, max_bin=None,\n",
       "             max_cat_threshold=None, max_cat_to_onehot=None,\n",
       "             max_delta_step=None, max_depth=None, max_leaves=None,\n",
       "             min_child_weight=None, missing=nan, monotone_constraints=None,\n",
       "             multi_strategy=None, n_estimators=None, n_jobs=None,\n",
       "             num_parallel_tree=None, random_state=None, ...)</pre></div> </div></div></div></div>"
      ]
     },
     "execution_count": 36,
     "metadata": {},
     "output_type": "execute_result"
    }
   ],
   "execution_count": 36
  },
  {
   "cell_type": "markdown",
   "id": "43ad941a",
   "metadata": {},
   "source": "## <span style=\"color:#ff5f27;\">✨ Get Weather Forecast Features with Feature View   </span>"
  },
  {
   "cell_type": "code",
   "id": "aaacae3c",
   "metadata": {
    "ExecuteTime": {
     "end_time": "2024-11-10T21:11:12.101815Z",
     "start_time": "2024-11-10T21:11:09.513529Z"
    }
   },
   "source": [
    "weather_fg = fs.get_feature_group(\n",
    "    name='weather',\n",
    "    version=1,\n",
    ")\n",
    "\n",
    "batch_data = weather_fg.filter(weather_fg.date >= today).read()\n",
    "batch_data"
   ],
   "outputs": [
    {
     "name": "stdout",
     "output_type": "stream",
     "text": [
      "Finished: Reading data from Hopsworks, using Hopsworks Feature Query Service (0.65s) \n"
     ]
    },
    {
     "data": {
      "text/plain": [
       "                       date  temperature_2m_mean  precipitation_sum  \\\n",
       "0 2024-11-16 00:00:00+00:00                  7.9                0.0   \n",
       "1 2024-11-12 00:00:00+00:00                  7.7                0.0   \n",
       "2 2024-11-14 00:00:00+00:00                  7.9                0.0   \n",
       "3 2024-11-11 00:00:00+00:00                  7.2                0.0   \n",
       "4 2024-11-19 00:00:00+00:00                  7.4                0.0   \n",
       "5 2024-11-13 00:00:00+00:00                  4.7                0.0   \n",
       "6 2024-11-15 00:00:00+00:00                  8.2                0.0   \n",
       "7 2024-11-18 00:00:00+00:00                  4.9                0.2   \n",
       "8 2024-11-17 00:00:00+00:00                 12.9                0.0   \n",
       "\n",
       "   wind_speed_10m_max  wind_direction_10m_dominant        city  \n",
       "0            3.219938                   153.435013  reutlingen  \n",
       "1           17.760811                    72.299484  reutlingen  \n",
       "2           10.041354                   284.534485  reutlingen  \n",
       "3            6.297428                   210.963684  reutlingen  \n",
       "4           23.424910                   177.357513  reutlingen  \n",
       "5            8.534353                    27.645891  reutlingen  \n",
       "6            6.489992                    93.179771  reutlingen  \n",
       "7           25.420181                   257.735229  reutlingen  \n",
       "8            5.351785                   160.346085  reutlingen  "
      ],
      "text/html": [
       "<div>\n",
       "<style scoped>\n",
       "    .dataframe tbody tr th:only-of-type {\n",
       "        vertical-align: middle;\n",
       "    }\n",
       "\n",
       "    .dataframe tbody tr th {\n",
       "        vertical-align: top;\n",
       "    }\n",
       "\n",
       "    .dataframe thead th {\n",
       "        text-align: right;\n",
       "    }\n",
       "</style>\n",
       "<table border=\"1\" class=\"dataframe\">\n",
       "  <thead>\n",
       "    <tr style=\"text-align: right;\">\n",
       "      <th></th>\n",
       "      <th>date</th>\n",
       "      <th>temperature_2m_mean</th>\n",
       "      <th>precipitation_sum</th>\n",
       "      <th>wind_speed_10m_max</th>\n",
       "      <th>wind_direction_10m_dominant</th>\n",
       "      <th>city</th>\n",
       "    </tr>\n",
       "  </thead>\n",
       "  <tbody>\n",
       "    <tr>\n",
       "      <th>0</th>\n",
       "      <td>2024-11-16 00:00:00+00:00</td>\n",
       "      <td>7.9</td>\n",
       "      <td>0.0</td>\n",
       "      <td>3.219938</td>\n",
       "      <td>153.435013</td>\n",
       "      <td>reutlingen</td>\n",
       "    </tr>\n",
       "    <tr>\n",
       "      <th>1</th>\n",
       "      <td>2024-11-12 00:00:00+00:00</td>\n",
       "      <td>7.7</td>\n",
       "      <td>0.0</td>\n",
       "      <td>17.760811</td>\n",
       "      <td>72.299484</td>\n",
       "      <td>reutlingen</td>\n",
       "    </tr>\n",
       "    <tr>\n",
       "      <th>2</th>\n",
       "      <td>2024-11-14 00:00:00+00:00</td>\n",
       "      <td>7.9</td>\n",
       "      <td>0.0</td>\n",
       "      <td>10.041354</td>\n",
       "      <td>284.534485</td>\n",
       "      <td>reutlingen</td>\n",
       "    </tr>\n",
       "    <tr>\n",
       "      <th>3</th>\n",
       "      <td>2024-11-11 00:00:00+00:00</td>\n",
       "      <td>7.2</td>\n",
       "      <td>0.0</td>\n",
       "      <td>6.297428</td>\n",
       "      <td>210.963684</td>\n",
       "      <td>reutlingen</td>\n",
       "    </tr>\n",
       "    <tr>\n",
       "      <th>4</th>\n",
       "      <td>2024-11-19 00:00:00+00:00</td>\n",
       "      <td>7.4</td>\n",
       "      <td>0.0</td>\n",
       "      <td>23.424910</td>\n",
       "      <td>177.357513</td>\n",
       "      <td>reutlingen</td>\n",
       "    </tr>\n",
       "    <tr>\n",
       "      <th>5</th>\n",
       "      <td>2024-11-13 00:00:00+00:00</td>\n",
       "      <td>4.7</td>\n",
       "      <td>0.0</td>\n",
       "      <td>8.534353</td>\n",
       "      <td>27.645891</td>\n",
       "      <td>reutlingen</td>\n",
       "    </tr>\n",
       "    <tr>\n",
       "      <th>6</th>\n",
       "      <td>2024-11-15 00:00:00+00:00</td>\n",
       "      <td>8.2</td>\n",
       "      <td>0.0</td>\n",
       "      <td>6.489992</td>\n",
       "      <td>93.179771</td>\n",
       "      <td>reutlingen</td>\n",
       "    </tr>\n",
       "    <tr>\n",
       "      <th>7</th>\n",
       "      <td>2024-11-18 00:00:00+00:00</td>\n",
       "      <td>4.9</td>\n",
       "      <td>0.2</td>\n",
       "      <td>25.420181</td>\n",
       "      <td>257.735229</td>\n",
       "      <td>reutlingen</td>\n",
       "    </tr>\n",
       "    <tr>\n",
       "      <th>8</th>\n",
       "      <td>2024-11-17 00:00:00+00:00</td>\n",
       "      <td>12.9</td>\n",
       "      <td>0.0</td>\n",
       "      <td>5.351785</td>\n",
       "      <td>160.346085</td>\n",
       "      <td>reutlingen</td>\n",
       "    </tr>\n",
       "  </tbody>\n",
       "</table>\n",
       "</div>"
      ]
     },
     "execution_count": 37,
     "metadata": {},
     "output_type": "execute_result"
    }
   ],
   "execution_count": 37
  },
  {
   "cell_type": "markdown",
   "id": "804e4491",
   "metadata": {},
   "source": [
    "### <span style=\"color:#ff5f27;\">🤖 Making the predictions</span>"
   ]
  },
  {
   "cell_type": "code",
   "id": "4566b635",
   "metadata": {
    "ExecuteTime": {
     "end_time": "2024-11-10T21:11:12.146449Z",
     "start_time": "2024-11-10T21:11:12.134852Z"
    }
   },
   "source": [
    "batch_data['predicted_pm25'] = retrieved_xgboost_model.predict(\n",
    "    batch_data[['temperature_2m_mean', 'precipitation_sum', 'wind_speed_10m_max', 'wind_direction_10m_dominant']])\n",
    "batch_data"
   ],
   "outputs": [
    {
     "data": {
      "text/plain": [
       "                       date  temperature_2m_mean  precipitation_sum  \\\n",
       "0 2024-11-16 00:00:00+00:00                  7.9                0.0   \n",
       "1 2024-11-12 00:00:00+00:00                  7.7                0.0   \n",
       "2 2024-11-14 00:00:00+00:00                  7.9                0.0   \n",
       "3 2024-11-11 00:00:00+00:00                  7.2                0.0   \n",
       "4 2024-11-19 00:00:00+00:00                  7.4                0.0   \n",
       "5 2024-11-13 00:00:00+00:00                  4.7                0.0   \n",
       "6 2024-11-15 00:00:00+00:00                  8.2                0.0   \n",
       "7 2024-11-18 00:00:00+00:00                  4.9                0.2   \n",
       "8 2024-11-17 00:00:00+00:00                 12.9                0.0   \n",
       "\n",
       "   wind_speed_10m_max  wind_direction_10m_dominant        city  predicted_pm25  \n",
       "0            3.219938                   153.435013  reutlingen       12.744499  \n",
       "1           17.760811                    72.299484  reutlingen        2.010247  \n",
       "2           10.041354                   284.534485  reutlingen        7.028033  \n",
       "3            6.297428                   210.963684  reutlingen        9.966185  \n",
       "4           23.424910                   177.357513  reutlingen        2.720562  \n",
       "5            8.534353                    27.645891  reutlingen       14.898968  \n",
       "6            6.489992                    93.179771  reutlingen        8.554244  \n",
       "7           25.420181                   257.735229  reutlingen        1.751899  \n",
       "8            5.351785                   160.346085  reutlingen        6.983200  "
      ],
      "text/html": [
       "<div>\n",
       "<style scoped>\n",
       "    .dataframe tbody tr th:only-of-type {\n",
       "        vertical-align: middle;\n",
       "    }\n",
       "\n",
       "    .dataframe tbody tr th {\n",
       "        vertical-align: top;\n",
       "    }\n",
       "\n",
       "    .dataframe thead th {\n",
       "        text-align: right;\n",
       "    }\n",
       "</style>\n",
       "<table border=\"1\" class=\"dataframe\">\n",
       "  <thead>\n",
       "    <tr style=\"text-align: right;\">\n",
       "      <th></th>\n",
       "      <th>date</th>\n",
       "      <th>temperature_2m_mean</th>\n",
       "      <th>precipitation_sum</th>\n",
       "      <th>wind_speed_10m_max</th>\n",
       "      <th>wind_direction_10m_dominant</th>\n",
       "      <th>city</th>\n",
       "      <th>predicted_pm25</th>\n",
       "    </tr>\n",
       "  </thead>\n",
       "  <tbody>\n",
       "    <tr>\n",
       "      <th>0</th>\n",
       "      <td>2024-11-16 00:00:00+00:00</td>\n",
       "      <td>7.9</td>\n",
       "      <td>0.0</td>\n",
       "      <td>3.219938</td>\n",
       "      <td>153.435013</td>\n",
       "      <td>reutlingen</td>\n",
       "      <td>12.744499</td>\n",
       "    </tr>\n",
       "    <tr>\n",
       "      <th>1</th>\n",
       "      <td>2024-11-12 00:00:00+00:00</td>\n",
       "      <td>7.7</td>\n",
       "      <td>0.0</td>\n",
       "      <td>17.760811</td>\n",
       "      <td>72.299484</td>\n",
       "      <td>reutlingen</td>\n",
       "      <td>2.010247</td>\n",
       "    </tr>\n",
       "    <tr>\n",
       "      <th>2</th>\n",
       "      <td>2024-11-14 00:00:00+00:00</td>\n",
       "      <td>7.9</td>\n",
       "      <td>0.0</td>\n",
       "      <td>10.041354</td>\n",
       "      <td>284.534485</td>\n",
       "      <td>reutlingen</td>\n",
       "      <td>7.028033</td>\n",
       "    </tr>\n",
       "    <tr>\n",
       "      <th>3</th>\n",
       "      <td>2024-11-11 00:00:00+00:00</td>\n",
       "      <td>7.2</td>\n",
       "      <td>0.0</td>\n",
       "      <td>6.297428</td>\n",
       "      <td>210.963684</td>\n",
       "      <td>reutlingen</td>\n",
       "      <td>9.966185</td>\n",
       "    </tr>\n",
       "    <tr>\n",
       "      <th>4</th>\n",
       "      <td>2024-11-19 00:00:00+00:00</td>\n",
       "      <td>7.4</td>\n",
       "      <td>0.0</td>\n",
       "      <td>23.424910</td>\n",
       "      <td>177.357513</td>\n",
       "      <td>reutlingen</td>\n",
       "      <td>2.720562</td>\n",
       "    </tr>\n",
       "    <tr>\n",
       "      <th>5</th>\n",
       "      <td>2024-11-13 00:00:00+00:00</td>\n",
       "      <td>4.7</td>\n",
       "      <td>0.0</td>\n",
       "      <td>8.534353</td>\n",
       "      <td>27.645891</td>\n",
       "      <td>reutlingen</td>\n",
       "      <td>14.898968</td>\n",
       "    </tr>\n",
       "    <tr>\n",
       "      <th>6</th>\n",
       "      <td>2024-11-15 00:00:00+00:00</td>\n",
       "      <td>8.2</td>\n",
       "      <td>0.0</td>\n",
       "      <td>6.489992</td>\n",
       "      <td>93.179771</td>\n",
       "      <td>reutlingen</td>\n",
       "      <td>8.554244</td>\n",
       "    </tr>\n",
       "    <tr>\n",
       "      <th>7</th>\n",
       "      <td>2024-11-18 00:00:00+00:00</td>\n",
       "      <td>4.9</td>\n",
       "      <td>0.2</td>\n",
       "      <td>25.420181</td>\n",
       "      <td>257.735229</td>\n",
       "      <td>reutlingen</td>\n",
       "      <td>1.751899</td>\n",
       "    </tr>\n",
       "    <tr>\n",
       "      <th>8</th>\n",
       "      <td>2024-11-17 00:00:00+00:00</td>\n",
       "      <td>12.9</td>\n",
       "      <td>0.0</td>\n",
       "      <td>5.351785</td>\n",
       "      <td>160.346085</td>\n",
       "      <td>reutlingen</td>\n",
       "      <td>6.983200</td>\n",
       "    </tr>\n",
       "  </tbody>\n",
       "</table>\n",
       "</div>"
      ]
     },
     "execution_count": 38,
     "metadata": {},
     "output_type": "execute_result"
    }
   ],
   "execution_count": 38
  },
  {
   "cell_type": "code",
   "id": "95d78ba2",
   "metadata": {
    "ExecuteTime": {
     "end_time": "2024-11-10T21:11:12.230676Z",
     "start_time": "2024-11-10T21:11:12.223657Z"
    }
   },
   "source": [
    "batch_data.info()"
   ],
   "outputs": [
    {
     "name": "stdout",
     "output_type": "stream",
     "text": [
      "<class 'pandas.core.frame.DataFrame'>\n",
      "RangeIndex: 9 entries, 0 to 8\n",
      "Data columns (total 7 columns):\n",
      " #   Column                       Non-Null Count  Dtype              \n",
      "---  ------                       --------------  -----              \n",
      " 0   date                         9 non-null      datetime64[us, UTC]\n",
      " 1   temperature_2m_mean          9 non-null      float32            \n",
      " 2   precipitation_sum            9 non-null      float32            \n",
      " 3   wind_speed_10m_max           9 non-null      float32            \n",
      " 4   wind_direction_10m_dominant  9 non-null      float32            \n",
      " 5   city                         9 non-null      object             \n",
      " 6   predicted_pm25               9 non-null      float32            \n",
      "dtypes: datetime64[us, UTC](1), float32(5), object(1)\n",
      "memory usage: 456.0+ bytes\n"
     ]
    }
   ],
   "execution_count": 39
  },
  {
   "metadata": {
    "ExecuteTime": {
     "end_time": "2024-11-10T21:11:12.311041Z",
     "start_time": "2024-11-10T21:11:12.309072Z"
    }
   },
   "cell_type": "code",
   "source": "",
   "id": "79ece8d4028a8e32",
   "outputs": [],
   "execution_count": null
  },
  {
   "cell_type": "markdown",
   "id": "d23e2b0a",
   "metadata": {},
   "source": [
    "### <span style=\"color:#ff5f27;\">🤖 Saving the predictions (for monitoring) to a Feature Group</span>"
   ]
  },
  {
   "cell_type": "code",
   "id": "9d5d9436",
   "metadata": {
    "ExecuteTime": {
     "end_time": "2024-11-10T21:11:12.393361Z",
     "start_time": "2024-11-10T21:11:12.382870Z"
    }
   },
   "source": [
    "batch_data['street'] = street\n",
    "batch_data['city'] = city\n",
    "batch_data['country'] = country\n",
    "# Fill in the number of days before the date on which you made the forecast (base_date)\n",
    "batch_data['days_before_forecast_day'] = range(1, len(batch_data)+1)\n",
    "batch_data = batch_data.sort_values(by=['date'])\n",
    "batch_data"
   ],
   "outputs": [
    {
     "data": {
      "text/plain": [
       "                       date  temperature_2m_mean  precipitation_sum  \\\n",
       "3 2024-11-11 00:00:00+00:00                  7.2                0.0   \n",
       "1 2024-11-12 00:00:00+00:00                  7.7                0.0   \n",
       "5 2024-11-13 00:00:00+00:00                  4.7                0.0   \n",
       "2 2024-11-14 00:00:00+00:00                  7.9                0.0   \n",
       "6 2024-11-15 00:00:00+00:00                  8.2                0.0   \n",
       "0 2024-11-16 00:00:00+00:00                  7.9                0.0   \n",
       "8 2024-11-17 00:00:00+00:00                 12.9                0.0   \n",
       "7 2024-11-18 00:00:00+00:00                  4.9                0.2   \n",
       "4 2024-11-19 00:00:00+00:00                  7.4                0.0   \n",
       "\n",
       "   wind_speed_10m_max  wind_direction_10m_dominant        city  \\\n",
       "3            6.297428                   210.963684  reutlingen   \n",
       "1           17.760811                    72.299484  reutlingen   \n",
       "5            8.534353                    27.645891  reutlingen   \n",
       "2           10.041354                   284.534485  reutlingen   \n",
       "6            6.489992                    93.179771  reutlingen   \n",
       "0            3.219938                   153.435013  reutlingen   \n",
       "8            5.351785                   160.346085  reutlingen   \n",
       "7           25.420181                   257.735229  reutlingen   \n",
       "4           23.424910                   177.357513  reutlingen   \n",
       "\n",
       "   predicted_pm25           street  country  days_before_forecast_day  \n",
       "3        9.966185  zaisentalstraße  germany                         4  \n",
       "1        2.010247  zaisentalstraße  germany                         2  \n",
       "5       14.898968  zaisentalstraße  germany                         6  \n",
       "2        7.028033  zaisentalstraße  germany                         3  \n",
       "6        8.554244  zaisentalstraße  germany                         7  \n",
       "0       12.744499  zaisentalstraße  germany                         1  \n",
       "8        6.983200  zaisentalstraße  germany                         9  \n",
       "7        1.751899  zaisentalstraße  germany                         8  \n",
       "4        2.720562  zaisentalstraße  germany                         5  "
      ],
      "text/html": [
       "<div>\n",
       "<style scoped>\n",
       "    .dataframe tbody tr th:only-of-type {\n",
       "        vertical-align: middle;\n",
       "    }\n",
       "\n",
       "    .dataframe tbody tr th {\n",
       "        vertical-align: top;\n",
       "    }\n",
       "\n",
       "    .dataframe thead th {\n",
       "        text-align: right;\n",
       "    }\n",
       "</style>\n",
       "<table border=\"1\" class=\"dataframe\">\n",
       "  <thead>\n",
       "    <tr style=\"text-align: right;\">\n",
       "      <th></th>\n",
       "      <th>date</th>\n",
       "      <th>temperature_2m_mean</th>\n",
       "      <th>precipitation_sum</th>\n",
       "      <th>wind_speed_10m_max</th>\n",
       "      <th>wind_direction_10m_dominant</th>\n",
       "      <th>city</th>\n",
       "      <th>predicted_pm25</th>\n",
       "      <th>street</th>\n",
       "      <th>country</th>\n",
       "      <th>days_before_forecast_day</th>\n",
       "    </tr>\n",
       "  </thead>\n",
       "  <tbody>\n",
       "    <tr>\n",
       "      <th>3</th>\n",
       "      <td>2024-11-11 00:00:00+00:00</td>\n",
       "      <td>7.2</td>\n",
       "      <td>0.0</td>\n",
       "      <td>6.297428</td>\n",
       "      <td>210.963684</td>\n",
       "      <td>reutlingen</td>\n",
       "      <td>9.966185</td>\n",
       "      <td>zaisentalstraße</td>\n",
       "      <td>germany</td>\n",
       "      <td>4</td>\n",
       "    </tr>\n",
       "    <tr>\n",
       "      <th>1</th>\n",
       "      <td>2024-11-12 00:00:00+00:00</td>\n",
       "      <td>7.7</td>\n",
       "      <td>0.0</td>\n",
       "      <td>17.760811</td>\n",
       "      <td>72.299484</td>\n",
       "      <td>reutlingen</td>\n",
       "      <td>2.010247</td>\n",
       "      <td>zaisentalstraße</td>\n",
       "      <td>germany</td>\n",
       "      <td>2</td>\n",
       "    </tr>\n",
       "    <tr>\n",
       "      <th>5</th>\n",
       "      <td>2024-11-13 00:00:00+00:00</td>\n",
       "      <td>4.7</td>\n",
       "      <td>0.0</td>\n",
       "      <td>8.534353</td>\n",
       "      <td>27.645891</td>\n",
       "      <td>reutlingen</td>\n",
       "      <td>14.898968</td>\n",
       "      <td>zaisentalstraße</td>\n",
       "      <td>germany</td>\n",
       "      <td>6</td>\n",
       "    </tr>\n",
       "    <tr>\n",
       "      <th>2</th>\n",
       "      <td>2024-11-14 00:00:00+00:00</td>\n",
       "      <td>7.9</td>\n",
       "      <td>0.0</td>\n",
       "      <td>10.041354</td>\n",
       "      <td>284.534485</td>\n",
       "      <td>reutlingen</td>\n",
       "      <td>7.028033</td>\n",
       "      <td>zaisentalstraße</td>\n",
       "      <td>germany</td>\n",
       "      <td>3</td>\n",
       "    </tr>\n",
       "    <tr>\n",
       "      <th>6</th>\n",
       "      <td>2024-11-15 00:00:00+00:00</td>\n",
       "      <td>8.2</td>\n",
       "      <td>0.0</td>\n",
       "      <td>6.489992</td>\n",
       "      <td>93.179771</td>\n",
       "      <td>reutlingen</td>\n",
       "      <td>8.554244</td>\n",
       "      <td>zaisentalstraße</td>\n",
       "      <td>germany</td>\n",
       "      <td>7</td>\n",
       "    </tr>\n",
       "    <tr>\n",
       "      <th>0</th>\n",
       "      <td>2024-11-16 00:00:00+00:00</td>\n",
       "      <td>7.9</td>\n",
       "      <td>0.0</td>\n",
       "      <td>3.219938</td>\n",
       "      <td>153.435013</td>\n",
       "      <td>reutlingen</td>\n",
       "      <td>12.744499</td>\n",
       "      <td>zaisentalstraße</td>\n",
       "      <td>germany</td>\n",
       "      <td>1</td>\n",
       "    </tr>\n",
       "    <tr>\n",
       "      <th>8</th>\n",
       "      <td>2024-11-17 00:00:00+00:00</td>\n",
       "      <td>12.9</td>\n",
       "      <td>0.0</td>\n",
       "      <td>5.351785</td>\n",
       "      <td>160.346085</td>\n",
       "      <td>reutlingen</td>\n",
       "      <td>6.983200</td>\n",
       "      <td>zaisentalstraße</td>\n",
       "      <td>germany</td>\n",
       "      <td>9</td>\n",
       "    </tr>\n",
       "    <tr>\n",
       "      <th>7</th>\n",
       "      <td>2024-11-18 00:00:00+00:00</td>\n",
       "      <td>4.9</td>\n",
       "      <td>0.2</td>\n",
       "      <td>25.420181</td>\n",
       "      <td>257.735229</td>\n",
       "      <td>reutlingen</td>\n",
       "      <td>1.751899</td>\n",
       "      <td>zaisentalstraße</td>\n",
       "      <td>germany</td>\n",
       "      <td>8</td>\n",
       "    </tr>\n",
       "    <tr>\n",
       "      <th>4</th>\n",
       "      <td>2024-11-19 00:00:00+00:00</td>\n",
       "      <td>7.4</td>\n",
       "      <td>0.0</td>\n",
       "      <td>23.424910</td>\n",
       "      <td>177.357513</td>\n",
       "      <td>reutlingen</td>\n",
       "      <td>2.720562</td>\n",
       "      <td>zaisentalstraße</td>\n",
       "      <td>germany</td>\n",
       "      <td>5</td>\n",
       "    </tr>\n",
       "  </tbody>\n",
       "</table>\n",
       "</div>"
      ]
     },
     "execution_count": 40,
     "metadata": {},
     "output_type": "execute_result"
    }
   ],
   "execution_count": 40
  },
  {
   "cell_type": "code",
   "id": "00e6787b",
   "metadata": {
    "ExecuteTime": {
     "end_time": "2024-11-10T21:11:12.445633Z",
     "start_time": "2024-11-10T21:11:12.439836Z"
    }
   },
   "source": [
    "batch_data.info()"
   ],
   "outputs": [
    {
     "name": "stdout",
     "output_type": "stream",
     "text": [
      "<class 'pandas.core.frame.DataFrame'>\n",
      "Index: 9 entries, 3 to 4\n",
      "Data columns (total 10 columns):\n",
      " #   Column                       Non-Null Count  Dtype              \n",
      "---  ------                       --------------  -----              \n",
      " 0   date                         9 non-null      datetime64[us, UTC]\n",
      " 1   temperature_2m_mean          9 non-null      float32            \n",
      " 2   precipitation_sum            9 non-null      float32            \n",
      " 3   wind_speed_10m_max           9 non-null      float32            \n",
      " 4   wind_direction_10m_dominant  9 non-null      float32            \n",
      " 5   city                         9 non-null      object             \n",
      " 6   predicted_pm25               9 non-null      float32            \n",
      " 7   street                       9 non-null      object             \n",
      " 8   country                      9 non-null      object             \n",
      " 9   days_before_forecast_day     9 non-null      int64              \n",
      "dtypes: datetime64[us, UTC](1), float32(5), int64(1), object(3)\n",
      "memory usage: 612.0+ bytes\n"
     ]
    }
   ],
   "execution_count": 41
  },
  {
   "cell_type": "markdown",
   "id": "6ff10c12",
   "metadata": {},
   "source": [
    "### Create Forecast Graph\n",
    "Draw a graph of the predictions with dates as a PNG and save it to the github repo\n",
    "Show it on github pages"
   ]
  },
  {
   "cell_type": "code",
   "id": "9bb0f844",
   "metadata": {
    "ExecuteTime": {
     "end_time": "2024-11-10T21:11:12.978238Z",
     "start_time": "2024-11-10T21:11:12.491096Z"
    }
   },
   "source": [
    "file_path = \"../docs/pm25_forecast.png\"\n",
    "plt = util.plot_air_quality_forecast(city, street, batch_data, file_path)\n",
    "plt.show()"
   ],
   "outputs": [
    {
     "data": {
      "text/plain": [
       "<Figure size 1000x600 with 1 Axes>"
      ],
      "image/png": "[encoded data removed]"
     },
     "metadata": {},
     "output_type": "display_data"
    }
   ],
   "execution_count": 42
  },
  {
   "cell_type": "code",
   "id": "c418a791",
   "metadata": {
    "ExecuteTime": {
     "end_time": "2024-11-10T21:11:13.170763Z",
     "start_time": "2024-11-10T21:11:13.012989Z"
    }
   },
   "source": [
    "# Get or create feature group\n",
    "monitor_fg = fs.get_or_create_feature_group(\n",
    "    name='aq_predictions',\n",
    "    description='Air Quality prediction monitoring',\n",
    "    version=1,\n",
    "    primary_key=['city','street','date','days_before_forecast_day'],\n",
    "    event_time=\"date\"\n",
    ")"
   ],
   "outputs": [],
   "execution_count": 43
  },
  {
   "cell_type": "code",
   "id": "8992650a",
   "metadata": {
    "ExecuteTime": {
     "end_time": "2024-11-10T21:13:23.771370Z",
     "start_time": "2024-11-10T21:11:13.180868Z"
    }
   },
   "source": [
    "monitor_fg.insert(batch_data, write_options={\"wait_for_job\": True})"
   ],
   "outputs": [
    {
     "name": "stdout",
     "output_type": "stream",
     "text": [
      "Feature Group created successfully, explore it at \n",
      "https://c.app.hopsworks.ai:443/p/1157271/fs/1147974/fg/1344883\n"
     ]
    },
    {
     "data": {
      "text/plain": [
       "Uploading Dataframe: 0.00% |          | Rows 0/9 | Elapsed Time: 00:00 | Remaining Time: ?"
      ],
      "application/vnd.jupyter.widget-view+json": {
       "version_major": 2,
       "version_minor": 0,
       "model_id": "1d09047b7793469cb969db2d3a37b433"
      }
     },
     "metadata": {},
     "output_type": "display_data"
    },
    {
     "name": "stdout",
     "output_type": "stream",
     "text": [
      "Launching job: aq_predictions_1_offline_fg_materialization\n",
      "Job started successfully, you can follow the progress at \n",
      "https://c.app.hopsworks.ai/p/1157271/jobs/named/aq_predictions_1_offline_fg_materialization/executions\n"
     ]
    },
    {
     "data": {
      "text/plain": [
       "(<hsfs.core.job.Job at 0x175d5b74690>, None)"
      ]
     },
     "execution_count": 44,
     "metadata": {},
     "output_type": "execute_result"
    }
   ],
   "execution_count": 44
  },
  {
   "cell_type": "code",
   "id": "aa2c1b07",
   "metadata": {
    "ExecuteTime": {
     "end_time": "2024-11-10T21:13:25.079677Z",
     "start_time": "2024-11-10T21:13:23.782897Z"
    }
   },
   "source": [
    "# We will create a hindcast chart for  only the forecasts made 1 day beforehand\n",
    "monitoring_df = monitor_fg.filter(monitor_fg.days_before_forecast_day == 1).read()\n",
    "monitoring_df"
   ],
   "outputs": [
    {
     "name": "stdout",
     "output_type": "stream",
     "text": [
      "Finished: Reading data from Hopsworks, using Hopsworks Feature Query Service (0.58s) \n"
     ]
    },
    {
     "data": {
      "text/plain": [
       "                       date  temperature_2m_mean  precipitation_sum  \\\n",
       "0 2024-11-16 00:00:00+00:00                  7.9                0.0   \n",
       "\n",
       "   wind_speed_10m_max  wind_direction_10m_dominant        city  \\\n",
       "0            3.219938                   153.435013  reutlingen   \n",
       "\n",
       "   predicted_pm25           street  country  days_before_forecast_day  \n",
       "0       12.744499  zaisentalstraße  germany                         1  "
      ],
      "text/html": [
       "<div>\n",
       "<style scoped>\n",
       "    .dataframe tbody tr th:only-of-type {\n",
       "        vertical-align: middle;\n",
       "    }\n",
       "\n",
       "    .dataframe tbody tr th {\n",
       "        vertical-align: top;\n",
       "    }\n",
       "\n",
       "    .dataframe thead th {\n",
       "        text-align: right;\n",
       "    }\n",
       "</style>\n",
       "<table border=\"1\" class=\"dataframe\">\n",
       "  <thead>\n",
       "    <tr style=\"text-align: right;\">\n",
       "      <th></th>\n",
       "      <th>date</th>\n",
       "      <th>temperature_2m_mean</th>\n",
       "      <th>precipitation_sum</th>\n",
       "      <th>wind_speed_10m_max</th>\n",
       "      <th>wind_direction_10m_dominant</th>\n",
       "      <th>city</th>\n",
       "      <th>predicted_pm25</th>\n",
       "      <th>street</th>\n",
       "      <th>country</th>\n",
       "      <th>days_before_forecast_day</th>\n",
       "    </tr>\n",
       "  </thead>\n",
       "  <tbody>\n",
       "    <tr>\n",
       "      <th>0</th>\n",
       "      <td>2024-11-16 00:00:00+00:00</td>\n",
       "      <td>7.9</td>\n",
       "      <td>0.0</td>\n",
       "      <td>3.219938</td>\n",
       "      <td>153.435013</td>\n",
       "      <td>reutlingen</td>\n",
       "      <td>12.744499</td>\n",
       "      <td>zaisentalstraße</td>\n",
       "      <td>germany</td>\n",
       "      <td>1</td>\n",
       "    </tr>\n",
       "  </tbody>\n",
       "</table>\n",
       "</div>"
      ]
     },
     "execution_count": 45,
     "metadata": {},
     "output_type": "execute_result"
    }
   ],
   "execution_count": 45
  },
  {
   "cell_type": "code",
   "id": "8c3ff020",
   "metadata": {
    "ExecuteTime": {
     "end_time": "2024-11-10T21:13:26.673816Z",
     "start_time": "2024-11-10T21:13:25.115599Z"
    }
   },
   "source": [
    "air_quality_fg = fs.get_feature_group(\n",
    "    name='air_quality',\n",
    "    version=1,\n",
    ")\n",
    "air_quality_df = air_quality_fg.read()\n",
    "air_quality_df"
   ],
   "outputs": [
    {
     "name": "stdout",
     "output_type": "stream",
     "text": [
      "Finished: Reading data from Hopsworks, using Hopsworks Feature Query Service (1.00s) \n"
     ]
    },
    {
     "data": {
      "text/plain": [
       "                          date   pm25  country        city           street  \\\n",
       "0    2022-10-05 00:00:00+00:00   3.10  germany  reutlingen  zaisentalstraße   \n",
       "1    2023-04-07 00:00:00+00:00   4.12  germany  reutlingen  zaisentalstraße   \n",
       "2    2023-04-11 00:00:00+00:00   1.42  germany  reutlingen  zaisentalstraße   \n",
       "3    2021-09-15 00:00:00+00:00   3.80  germany  reutlingen  zaisentalstraße   \n",
       "4    2020-04-26 00:00:00+00:00   1.98  germany  reutlingen  zaisentalstraße   \n",
       "...                        ...    ...      ...         ...              ...   \n",
       "1781 2024-03-10 00:00:00+00:00   2.23  germany  reutlingen  zaisentalstraße   \n",
       "1782 2024-04-17 00:00:00+00:00   2.20  germany  reutlingen  zaisentalstraße   \n",
       "1783 2019-12-20 00:00:00+00:00   4.48  germany  reutlingen  zaisentalstraße   \n",
       "1784 2021-05-23 00:00:00+00:00   0.80  germany  reutlingen  zaisentalstraße   \n",
       "1785 2024-11-10 00:00:00+00:00  53.00  germany  reutlingen  zaisentalstraße   \n",
       "\n",
       "                                    url  \n",
       "0     https://api.waqi.info/feed/A54451  \n",
       "1     https://api.waqi.info/feed/A54451  \n",
       "2     https://api.waqi.info/feed/A54451  \n",
       "3     https://api.waqi.info/feed/A54451  \n",
       "4     https://api.waqi.info/feed/A54451  \n",
       "...                                 ...  \n",
       "1781  https://api.waqi.info/feed/A54451  \n",
       "1782  https://api.waqi.info/feed/A54451  \n",
       "1783  https://api.waqi.info/feed/A54451  \n",
       "1784  https://api.waqi.info/feed/A54451  \n",
       "1785  https://api.waqi.info/feed/A54451  \n",
       "\n",
       "[1786 rows x 6 columns]"
      ],
      "text/html": [
       "<div>\n",
       "<style scoped>\n",
       "    .dataframe tbody tr th:only-of-type {\n",
       "        vertical-align: middle;\n",
       "    }\n",
       "\n",
       "    .dataframe tbody tr th {\n",
       "        vertical-align: top;\n",
       "    }\n",
       "\n",
       "    .dataframe thead th {\n",
       "        text-align: right;\n",
       "    }\n",
       "</style>\n",
       "<table border=\"1\" class=\"dataframe\">\n",
       "  <thead>\n",
       "    <tr style=\"text-align: right;\">\n",
       "      <th></th>\n",
       "      <th>date</th>\n",
       "      <th>pm25</th>\n",
       "      <th>country</th>\n",
       "      <th>city</th>\n",
       "      <th>street</th>\n",
       "      <th>url</th>\n",
       "    </tr>\n",
       "  </thead>\n",
       "  <tbody>\n",
       "    <tr>\n",
       "      <th>0</th>\n",
       "      <td>2022-10-05 00:00:00+00:00</td>\n",
       "      <td>3.10</td>\n",
       "      <td>germany</td>\n",
       "      <td>reutlingen</td>\n",
       "      <td>zaisentalstraße</td>\n",
       "      <td>https://api.waqi.info/feed/A54451</td>\n",
       "    </tr>\n",
       "    <tr>\n",
       "      <th>1</th>\n",
       "      <td>2023-04-07 00:00:00+00:00</td>\n",
       "      <td>4.12</td>\n",
       "      <td>germany</td>\n",
       "      <td>reutlingen</td>\n",
       "      <td>zaisentalstraße</td>\n",
       "      <td>https://api.waqi.info/feed/A54451</td>\n",
       "    </tr>\n",
       "    <tr>\n",
       "      <th>2</th>\n",
       "      <td>2023-04-11 00:00:00+00:00</td>\n",
       "      <td>1.42</td>\n",
       "      <td>germany</td>\n",
       "      <td>reutlingen</td>\n",
       "      <td>zaisentalstraße</td>\n",
       "      <td>https://api.waqi.info/feed/A54451</td>\n",
       "    </tr>\n",
       "    <tr>\n",
       "      <th>3</th>\n",
       "      <td>2021-09-15 00:00:00+00:00</td>\n",
       "      <td>3.80</td>\n",
       "      <td>germany</td>\n",
       "      <td>reutlingen</td>\n",
       "      <td>zaisentalstraße</td>\n",
       "      <td>https://api.waqi.info/feed/A54451</td>\n",
       "    </tr>\n",
       "    <tr>\n",
       "      <th>4</th>\n",
       "      <td>2020-04-26 00:00:00+00:00</td>\n",
       "      <td>1.98</td>\n",
       "      <td>germany</td>\n",
       "      <td>reutlingen</td>\n",
       "      <td>zaisentalstraße</td>\n",
       "      <td>https://api.waqi.info/feed/A54451</td>\n",
       "    </tr>\n",
       "    <tr>\n",
       "      <th>...</th>\n",
       "      <td>...</td>\n",
       "      <td>...</td>\n",
       "      <td>...</td>\n",
       "      <td>...</td>\n",
       "      <td>...</td>\n",
       "      <td>...</td>\n",
       "    </tr>\n",
       "    <tr>\n",
       "      <th>1781</th>\n",
       "      <td>2024-03-10 00:00:00+00:00</td>\n",
       "      <td>2.23</td>\n",
       "      <td>germany</td>\n",
       "      <td>reutlingen</td>\n",
       "      <td>zaisentalstraße</td>\n",
       "      <td>https://api.waqi.info/feed/A54451</td>\n",
       "    </tr>\n",
       "    <tr>\n",
       "      <th>1782</th>\n",
       "      <td>2024-04-17 00:00:00+00:00</td>\n",
       "      <td>2.20</td>\n",
       "      <td>germany</td>\n",
       "      <td>reutlingen</td>\n",
       "      <td>zaisentalstraße</td>\n",
       "      <td>https://api.waqi.info/feed/A54451</td>\n",
       "    </tr>\n",
       "    <tr>\n",
       "      <th>1783</th>\n",
       "      <td>2019-12-20 00:00:00+00:00</td>\n",
       "      <td>4.48</td>\n",
       "      <td>germany</td>\n",
       "      <td>reutlingen</td>\n",
       "      <td>zaisentalstraße</td>\n",
       "      <td>https://api.waqi.info/feed/A54451</td>\n",
       "    </tr>\n",
       "    <tr>\n",
       "      <th>1784</th>\n",
       "      <td>2021-05-23 00:00:00+00:00</td>\n",
       "      <td>0.80</td>\n",
       "      <td>germany</td>\n",
       "      <td>reutlingen</td>\n",
       "      <td>zaisentalstraße</td>\n",
       "      <td>https://api.waqi.info/feed/A54451</td>\n",
       "    </tr>\n",
       "    <tr>\n",
       "      <th>1785</th>\n",
       "      <td>2024-11-10 00:00:00+00:00</td>\n",
       "      <td>53.00</td>\n",
       "      <td>germany</td>\n",
       "      <td>reutlingen</td>\n",
       "      <td>zaisentalstraße</td>\n",
       "      <td>https://api.waqi.info/feed/A54451</td>\n",
       "    </tr>\n",
       "  </tbody>\n",
       "</table>\n",
       "<p>1786 rows × 6 columns</p>\n",
       "</div>"
      ]
     },
     "execution_count": 46,
     "metadata": {},
     "output_type": "execute_result"
    }
   ],
   "execution_count": 46
  },
  {
   "cell_type": "code",
   "id": "6763f180",
   "metadata": {
    "ExecuteTime": {
     "end_time": "2024-11-10T21:14:59.451839Z",
     "start_time": "2024-11-10T21:13:27.279849Z"
    }
   },
   "source": [
    "outcome_df = air_quality_df[['date', 'pm25']]\n",
    "preds_df =  monitoring_df[['date', 'predicted_pm25']]\n",
    "\n",
    "hindcast_df = pd.merge(preds_df, outcome_df, on=\"date\")\n",
    "hindcast_df = hindcast_df.sort_values(by=['date'])\n",
    "\n",
    "# If there are no outcomes for predictions yet, generate some predictions/outcomes from existing data\n",
    "if len(hindcast_df) == 0:\n",
    "    hindcast_df = util.backfill_predictions_for_monitoring(weather_fg, air_quality_df, monitor_fg, retrieved_xgboost_model)\n",
    "hindcast_df"
   ],
   "outputs": [
    {
     "name": "stdout",
     "output_type": "stream",
     "text": [
      "Finished: Reading data from Hopsworks, using Hopsworks Feature Query Service (0.85s) \n"
     ]
    },
    {
     "data": {
      "text/plain": [
       "Uploading Dataframe: 0.00% |          | Rows 0/1 | Elapsed Time: 00:00 | Remaining Time: ?"
      ],
      "application/vnd.jupyter.widget-view+json": {
       "version_major": 2,
       "version_minor": 0,
       "model_id": "a8dd6d87913c40e489ac4453dd8de91e"
      }
     },
     "metadata": {},
     "output_type": "display_data"
    },
    {
     "name": "stdout",
     "output_type": "stream",
     "text": [
      "Launching job: aq_predictions_1_offline_fg_materialization\n",
      "Job started successfully, you can follow the progress at \n",
      "https://c.app.hopsworks.ai/p/1157271/jobs/named/aq_predictions_1_offline_fg_materialization/executions\n"
     ]
    },
    {
     "data": {
      "text/plain": [
       "                       date  temperature_2m_mean  precipitation_sum  \\\n",
       "0 2024-11-10 00:00:00+00:00                 5.95                0.0   \n",
       "\n",
       "   wind_speed_10m_max  wind_direction_10m_dominant        city  \\\n",
       "0            4.024922                    26.564985  reutlingen   \n",
       "\n",
       "   predicted_pm25  pm25           street  country  days_before_forecast_day  \n",
       "0       12.140126  53.0  zaisentalstraße  germany                         1  "
      ],
      "text/html": [
       "<div>\n",
       "<style scoped>\n",
       "    .dataframe tbody tr th:only-of-type {\n",
       "        vertical-align: middle;\n",
       "    }\n",
       "\n",
       "    .dataframe tbody tr th {\n",
       "        vertical-align: top;\n",
       "    }\n",
       "\n",
       "    .dataframe thead th {\n",
       "        text-align: right;\n",
       "    }\n",
       "</style>\n",
       "<table border=\"1\" class=\"dataframe\">\n",
       "  <thead>\n",
       "    <tr style=\"text-align: right;\">\n",
       "      <th></th>\n",
       "      <th>date</th>\n",
       "      <th>temperature_2m_mean</th>\n",
       "      <th>precipitation_sum</th>\n",
       "      <th>wind_speed_10m_max</th>\n",
       "      <th>wind_direction_10m_dominant</th>\n",
       "      <th>city</th>\n",
       "      <th>predicted_pm25</th>\n",
       "      <th>pm25</th>\n",
       "      <th>street</th>\n",
       "      <th>country</th>\n",
       "      <th>days_before_forecast_day</th>\n",
       "    </tr>\n",
       "  </thead>\n",
       "  <tbody>\n",
       "    <tr>\n",
       "      <th>0</th>\n",
       "      <td>2024-11-10 00:00:00+00:00</td>\n",
       "      <td>5.95</td>\n",
       "      <td>0.0</td>\n",
       "      <td>4.024922</td>\n",
       "      <td>26.564985</td>\n",
       "      <td>reutlingen</td>\n",
       "      <td>12.140126</td>\n",
       "      <td>53.0</td>\n",
       "      <td>zaisentalstraße</td>\n",
       "      <td>germany</td>\n",
       "      <td>1</td>\n",
       "    </tr>\n",
       "  </tbody>\n",
       "</table>\n",
       "</div>"
      ]
     },
     "execution_count": 47,
     "metadata": {},
     "output_type": "execute_result"
    }
   ],
   "execution_count": 47
  },
  {
   "cell_type": "markdown",
   "id": "9edb1552",
   "metadata": {},
   "source": [
    "### Plot the Hindcast comparing predicted with forecasted values (1-day prior forecast)\n",
    "\n",
    "__This graph will be empty to begin with - this is normal.__\n",
    "\n",
    "After a few days of predictions and observations, you will get data points in this graph."
   ]
  },
  {
   "cell_type": "code",
   "id": "31e62393",
   "metadata": {
    "ExecuteTime": {
     "end_time": "2024-11-10T21:15:00.089012Z",
     "start_time": "2024-11-10T21:14:59.516572Z"
    }
   },
   "source": [
    "file_path = \"../docs/pm25_hindcast.png\"\n",
    "plt = util.plot_air_quality_forecast(city, street, hindcast_df, file_path, hindcast=True)\n",
    "plt.show()"
   ],
   "outputs": [
    {
     "data": {
      "text/plain": [
       "<Figure size 1000x600 with 1 Axes>"
      ],
      "image/png": "[encoded data removed]"
     },
     "metadata": {},
     "output_type": "display_data"
    }
   ],
   "execution_count": 48
  },
  {
   "cell_type": "markdown",
   "id": "c29eb549",
   "metadata": {},
   "source": [
    "---"
   ]
  },
  {
   "metadata": {},
   "cell_type": "markdown",
   "source": "## More Evaluation",
   "id": "b394848cf8b3cd3b"
  },
  {
   "metadata": {
    "ExecuteTime": {
     "end_time": "2024-11-10T21:15:00.127610Z",
     "start_time": "2024-11-10T21:15:00.121165Z"
    }
   },
   "cell_type": "code",
   "source": [
    "# Check error depending on days before forecast\n",
    "hindcast_df['error'] = hindcast_df['pm25'] - hindcast_df['predicted_pm25']\n",
    "error_by_days_before_forecast = hindcast_df.groupby('days_before_forecast_day')['error'].mean()\n",
    "error_by_days_before_forecast"
   ],
   "id": "cdf5ff777f3a5691",
   "outputs": [
    {
     "data": {
      "text/plain": [
       "days_before_forecast_day\n",
       "1    40.859875\n",
       "Name: error, dtype: float32"
      ]
     },
     "execution_count": 49,
     "metadata": {},
     "output_type": "execute_result"
    }
   ],
   "execution_count": 49
  }
 ],
 "metadata": {
  "kernelspec": {
   "display_name": "Python 3 (ipykernel)",
   "language": "python",
   "name": "python3"
  },
  "language_info": {
   "codemirror_mode": {
    "name": "ipython",
    "version": 3
   },
   "file_extension": ".py",
   "mimetype": "text/x-python",
   "name": "python",
   "nbconvert_exporter": "python",
   "pygments_lexer": "ipython3",
   "version": "3.10.0"
  }
 },
 "nbformat": 4,
 "nbformat_minor": 5
}
