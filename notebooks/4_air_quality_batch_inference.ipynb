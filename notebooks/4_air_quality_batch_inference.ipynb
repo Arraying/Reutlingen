{
 "cells": [
  {
   "cell_type": "markdown",
   "id": "f16b7819",
   "metadata": {},
   "source": [
    "# <span style=\"font-width:bold; font-size: 3rem; color:#1EB182;\"> **Air Quality** </span><span style=\"font-width:bold; font-size: 3rem; color:#333;\">- Part 04: Batch Inference</span>\n",
    "\n",
    "## 🗒️ This notebook is divided into the following sections:\n",
    "\n",
    "1. Download model and batch inference data\n",
    "2. Make predictions, generate PNG for forecast\n",
    "3. Store predictions in a monitoring feature group adn generate PNG for hindcast"
   ]
  },
  {
   "cell_type": "markdown",
   "id": "49a84ee9",
   "metadata": {},
   "source": [
    "## <span style='color:#ff5f27'> 📝 Imports"
   ]
  },
  {
   "cell_type": "code",
   "id": "1f430c88",
   "metadata": {
    "ExecuteTime": {
     "end_time": "2024-11-10T22:43:31.975094Z",
     "start_time": "2024-11-10T22:43:21.337987Z"
    }
   },
   "source": [
    "import datetime\n",
    "import pandas as pd\n",
    "from xgboost import XGBRegressor\n",
    "import hopsworks\n",
    "import json\n",
    "from functions import util\n",
    "import os"
   ],
   "outputs": [],
   "execution_count": 1
  },
  {
   "cell_type": "code",
   "id": "bcfd27c1",
   "metadata": {
    "ExecuteTime": {
     "end_time": "2024-11-10T22:43:32.013023Z",
     "start_time": "2024-11-10T22:43:31.987637Z"
    }
   },
   "source": [
    "today = datetime.datetime.now() - datetime.timedelta(0)\n",
    "tomorrow = today + datetime.timedelta(days = 1)\n",
    "today"
   ],
   "outputs": [
    {
     "data": {
      "text/plain": [
       "datetime.datetime(2024, 11, 10, 23, 43, 31, 991170)"
      ]
     },
     "execution_count": 2,
     "metadata": {},
     "output_type": "execute_result"
    }
   ],
   "execution_count": 2
  },
  {
   "cell_type": "markdown",
   "id": "4e91e99d",
   "metadata": {},
   "source": [
    "## <span style=\"color:#ff5f27;\"> 📡 Connect to Hopsworks Feature Store </span>"
   ]
  },
  {
   "cell_type": "code",
   "id": "74a2c243",
   "metadata": {
    "ExecuteTime": {
     "end_time": "2024-11-10T22:43:35.629393Z",
     "start_time": "2024-11-10T22:43:32.246386Z"
    }
   },
   "source": [
    "project = hopsworks.login()\n",
    "if os.environ.get(\"HOPSWORKS_API_KEY\") is None:\n",
    "    os.environ[\"HOPSWORKS_API_KEY\"] = open(\".hw_key\").read()\n",
    "fs = project.get_feature_store() \n",
    "\n",
    "secrets = util.secrets_api(project.name)\n",
    "location_str = secrets.get_secret(\"SENSOR_LOCATION_JSON\").value\n",
    "location = json.loads(location_str)\n",
    "country=location['country']\n",
    "city=location['city']\n",
    "street=location['street']"
   ],
   "outputs": [
    {
     "name": "stdout",
     "output_type": "stream",
     "text": [
      "Connected. Call `.close()` to terminate connection gracefully.\n",
      "\n",
      "Logged in to project, explore it here https://c.app.hopsworks.ai:443/p/1157271\n",
      "Connected. Call `.close()` to terminate connection gracefully.\n",
      "Connected. Call `.close()` to terminate connection gracefully.\n"
     ]
    }
   ],
   "execution_count": 3
  },
  {
   "cell_type": "markdown",
   "id": "4f138859",
   "metadata": {},
   "source": [
    "## <span style=\"color:#ff5f27;\"> ⚙️ Feature View Retrieval</span>\n"
   ]
  },
  {
   "cell_type": "code",
   "id": "114b8e87",
   "metadata": {
    "ExecuteTime": {
     "end_time": "2024-11-10T22:43:37.184194Z",
     "start_time": "2024-11-10T22:43:35.649271Z"
    }
   },
   "source": [
    "feature_view = fs.get_feature_view(\n",
    "    name='air_quality_fv',\n",
    "    version=1,\n",
    ")"
   ],
   "outputs": [],
   "execution_count": 4
  },
  {
   "cell_type": "markdown",
   "id": "4cead441",
   "metadata": {},
   "source": [
    "## <span style=\"color:#ff5f27;\">🪝 Download the model from Model Registry</span>"
   ]
  },
  {
   "cell_type": "code",
   "id": "c6d70a2f",
   "metadata": {
    "ExecuteTime": {
     "end_time": "2024-11-10T22:43:40.843459Z",
     "start_time": "2024-11-10T22:43:37.222757Z"
    }
   },
   "source": [
    "mr = project.get_model_registry()\n",
    "\n",
    "retrieved_model = mr.get_model(\n",
    "    name=\"air_quality_xgboost_model\",\n",
    "    version=1,\n",
    ")\n",
    "\n",
    "# Download the saved model artifacts to a local directory\n",
    "saved_model_dir = retrieved_model.download()"
   ],
   "outputs": [
    {
     "name": "stdout",
     "output_type": "stream",
     "text": [
      "Connected. Call `.close()` to terminate connection gracefully.\n",
      "Downloading model artifact (0 dirs, 3 files)... DONE\r"
     ]
    }
   ],
   "execution_count": 5
  },
  {
   "cell_type": "code",
   "id": "a6cf6c06",
   "metadata": {
    "ExecuteTime": {
     "end_time": "2024-11-10T22:43:41.039716Z",
     "start_time": "2024-11-10T22:43:40.896850Z"
    }
   },
   "source": [
    "# Loading the XGBoost regressor model and label encoder from the saved model directory\n",
    "# retrieved_xgboost_model = joblib.load(saved_model_dir + \"/xgboost_regressor.pkl\")\n",
    "retrieved_xgboost_model = XGBRegressor()\n",
    "\n",
    "retrieved_xgboost_model.load_model(saved_model_dir + \"/model.json\")\n",
    "\n",
    "# Displaying the retrieved XGBoost regressor model\n",
    "retrieved_xgboost_model"
   ],
   "outputs": [
    {
     "data": {
      "text/plain": [
       "XGBRegressor(base_score='4.898471E0', booster='gbtree', callbacks=None,\n",
       "             colsample_bylevel=None, colsample_bynode=None,\n",
       "             colsample_bytree=None, device=None, early_stopping_rounds=None,\n",
       "             enable_categorical=False, eval_metric=None,\n",
       "             feature_types=['float', 'float', 'float', 'float'], gamma=None,\n",
       "             grow_policy=None, importance_type=None,\n",
       "             interaction_constraints=None, learning_rate=None, max_bin=None,\n",
       "             max_cat_threshold=None, max_cat_to_onehot=None,\n",
       "             max_delta_step=None, max_depth=None, max_leaves=None,\n",
       "             min_child_weight=None, missing=nan, monotone_constraints=None,\n",
       "             multi_strategy=None, n_estimators=None, n_jobs=None,\n",
       "             num_parallel_tree=None, random_state=None, ...)"
      ],
      "text/html": [
       "<style>#sk-container-id-1 {color: black;background-color: white;}#sk-container-id-1 pre{padding: 0;}#sk-container-id-1 div.sk-toggleable {background-color: white;}#sk-container-id-1 label.sk-toggleable__label {cursor: pointer;display: block;width: 100%;margin-bottom: 0;padding: 0.3em;box-sizing: border-box;text-align: center;}#sk-container-id-1 label.sk-toggleable__label-arrow:before {content: \"▸\";float: left;margin-right: 0.25em;color: #696969;}#sk-container-id-1 label.sk-toggleable__label-arrow:hover:before {color: black;}#sk-container-id-1 div.sk-estimator:hover label.sk-toggleable__label-arrow:before {color: black;}#sk-container-id-1 div.sk-toggleable__content {max-height: 0;max-width: 0;overflow: hidden;text-align: left;background-color: #f0f8ff;}#sk-container-id-1 div.sk-toggleable__content pre {margin: 0.2em;color: black;border-radius: 0.25em;background-color: #f0f8ff;}#sk-container-id-1 input.sk-toggleable__control:checked~div.sk-toggleable__content {max-height: 200px;max-width: 100%;overflow: auto;}#sk-container-id-1 input.sk-toggleable__control:checked~label.sk-toggleable__label-arrow:before {content: \"▾\";}#sk-container-id-1 div.sk-estimator input.sk-toggleable__control:checked~label.sk-toggleable__label {background-color: #d4ebff;}#sk-container-id-1 div.sk-label input.sk-toggleable__control:checked~label.sk-toggleable__label {background-color: #d4ebff;}#sk-container-id-1 input.sk-hidden--visually {border: 0;clip: rect(1px 1px 1px 1px);clip: rect(1px, 1px, 1px, 1px);height: 1px;margin: -1px;overflow: hidden;padding: 0;position: absolute;width: 1px;}#sk-container-id-1 div.sk-estimator {font-family: monospace;background-color: #f0f8ff;border: 1px dotted black;border-radius: 0.25em;box-sizing: border-box;margin-bottom: 0.5em;}#sk-container-id-1 div.sk-estimator:hover {background-color: #d4ebff;}#sk-container-id-1 div.sk-parallel-item::after {content: \"\";width: 100%;border-bottom: 1px solid gray;flex-grow: 1;}#sk-container-id-1 div.sk-label:hover label.sk-toggleable__label {background-color: #d4ebff;}#sk-container-id-1 div.sk-serial::before {content: \"\";position: absolute;border-left: 1px solid gray;box-sizing: border-box;top: 0;bottom: 0;left: 50%;z-index: 0;}#sk-container-id-1 div.sk-serial {display: flex;flex-direction: column;align-items: center;background-color: white;padding-right: 0.2em;padding-left: 0.2em;position: relative;}#sk-container-id-1 div.sk-item {position: relative;z-index: 1;}#sk-container-id-1 div.sk-parallel {display: flex;align-items: stretch;justify-content: center;background-color: white;position: relative;}#sk-container-id-1 div.sk-item::before, #sk-container-id-1 div.sk-parallel-item::before {content: \"\";position: absolute;border-left: 1px solid gray;box-sizing: border-box;top: 0;bottom: 0;left: 50%;z-index: -1;}#sk-container-id-1 div.sk-parallel-item {display: flex;flex-direction: column;z-index: 1;position: relative;background-color: white;}#sk-container-id-1 div.sk-parallel-item:first-child::after {align-self: flex-end;width: 50%;}#sk-container-id-1 div.sk-parallel-item:last-child::after {align-self: flex-start;width: 50%;}#sk-container-id-1 div.sk-parallel-item:only-child::after {width: 0;}#sk-container-id-1 div.sk-dashed-wrapped {border: 1px dashed gray;margin: 0 0.4em 0.5em 0.4em;box-sizing: border-box;padding-bottom: 0.4em;background-color: white;}#sk-container-id-1 div.sk-label label {font-family: monospace;font-weight: bold;display: inline-block;line-height: 1.2em;}#sk-container-id-1 div.sk-label-container {text-align: center;}#sk-container-id-1 div.sk-container {/* jupyter's `normalize.less` sets `[hidden] { display: none; }` but bootstrap.min.css set `[hidden] { display: none !important; }` so we also need the `!important` here to be able to override the default hidden behavior on the sphinx rendered scikit-learn.org. See: https://github.com/scikit-learn/scikit-learn/issues/21755 */display: inline-block !important;position: relative;}#sk-container-id-1 div.sk-text-repr-fallback {display: none;}</style><div id=\"sk-container-id-1\" class=\"sk-top-container\"><div class=\"sk-text-repr-fallback\"><pre>XGBRegressor(base_score=&#x27;4.898471E0&#x27;, booster=&#x27;gbtree&#x27;, callbacks=None,\n",
       "             colsample_bylevel=None, colsample_bynode=None,\n",
       "             colsample_bytree=None, device=None, early_stopping_rounds=None,\n",
       "             enable_categorical=False, eval_metric=None,\n",
       "             feature_types=[&#x27;float&#x27;, &#x27;float&#x27;, &#x27;float&#x27;, &#x27;float&#x27;], gamma=None,\n",
       "             grow_policy=None, importance_type=None,\n",
       "             interaction_constraints=None, learning_rate=None, max_bin=None,\n",
       "             max_cat_threshold=None, max_cat_to_onehot=None,\n",
       "             max_delta_step=None, max_depth=None, max_leaves=None,\n",
       "             min_child_weight=None, missing=nan, monotone_constraints=None,\n",
       "             multi_strategy=None, n_estimators=None, n_jobs=None,\n",
       "             num_parallel_tree=None, random_state=None, ...)</pre><b>In a Jupyter environment, please rerun this cell to show the HTML representation or trust the notebook. <br />On GitHub, the HTML representation is unable to render, please try loading this page with nbviewer.org.</b></div><div class=\"sk-container\" hidden><div class=\"sk-item\"><div class=\"sk-estimator sk-toggleable\"><input class=\"sk-toggleable__control sk-hidden--visually\" id=\"sk-estimator-id-1\" type=\"checkbox\" checked><label for=\"sk-estimator-id-1\" class=\"sk-toggleable__label sk-toggleable__label-arrow\">XGBRegressor</label><div class=\"sk-toggleable__content\"><pre>XGBRegressor(base_score=&#x27;4.898471E0&#x27;, booster=&#x27;gbtree&#x27;, callbacks=None,\n",
       "             colsample_bylevel=None, colsample_bynode=None,\n",
       "             colsample_bytree=None, device=None, early_stopping_rounds=None,\n",
       "             enable_categorical=False, eval_metric=None,\n",
       "             feature_types=[&#x27;float&#x27;, &#x27;float&#x27;, &#x27;float&#x27;, &#x27;float&#x27;], gamma=None,\n",
       "             grow_policy=None, importance_type=None,\n",
       "             interaction_constraints=None, learning_rate=None, max_bin=None,\n",
       "             max_cat_threshold=None, max_cat_to_onehot=None,\n",
       "             max_delta_step=None, max_depth=None, max_leaves=None,\n",
       "             min_child_weight=None, missing=nan, monotone_constraints=None,\n",
       "             multi_strategy=None, n_estimators=None, n_jobs=None,\n",
       "             num_parallel_tree=None, random_state=None, ...)</pre></div></div></div></div></div>"
      ]
     },
     "execution_count": 6,
     "metadata": {},
     "output_type": "execute_result"
    }
   ],
   "execution_count": 6
  },
  {
   "cell_type": "markdown",
   "id": "43ad941a",
   "metadata": {},
   "source": "## <span style=\"color:#ff5f27;\">✨ Get Weather Forecast Features with Feature View   </span>"
  },
  {
   "cell_type": "code",
   "id": "aaacae3c",
   "metadata": {
    "ExecuteTime": {
     "end_time": "2024-11-10T22:44:24.008899Z",
     "start_time": "2024-11-10T22:44:23.215205Z"
    }
   },
   "source": [
    "weather_fg = fs.get_feature_group(\n",
    "    name='weather',\n",
    "    version=1,\n",
    ")\n",
    "\n",
    "batch_data = weather_fg.filter(weather_fg.date >= today).read()\n",
    "batch_data"
   ],
   "outputs": [
    {
     "ename": "RestAPIError",
     "evalue": "Metadata operation error: (url: https://c.app.hopsworks.ai/hopsworks-api/api/project/1157271/featurestores/query). Server response: \nHTTP code: 422, HTTP reason: UNPROCESSABLE_ENTITY, body: b'{\"errorCode\":120001,\"usrMsg\":\"2024-11-10 23:43:31.991170\",\"errorMsg\":\"An argument was not provided or it was malformed.\"}', error code: 120001, error msg: An argument was not provided or it was malformed., user msg: 2024-11-10 23:43:31.991170",
     "output_type": "error",
     "traceback": [
      "\u001B[1;31m---------------------------------------------------------------------------\u001B[0m",
      "\u001B[1;31mRestAPIError\u001B[0m                              Traceback (most recent call last)",
      "Cell \u001B[1;32mIn[9], line 6\u001B[0m\n\u001B[0;32m      1\u001B[0m weather_fg \u001B[38;5;241m=\u001B[39m fs\u001B[38;5;241m.\u001B[39mget_feature_group(\n\u001B[0;32m      2\u001B[0m     name\u001B[38;5;241m=\u001B[39m\u001B[38;5;124m'\u001B[39m\u001B[38;5;124mweather\u001B[39m\u001B[38;5;124m'\u001B[39m,\n\u001B[0;32m      3\u001B[0m     version\u001B[38;5;241m=\u001B[39m\u001B[38;5;241m1\u001B[39m,\n\u001B[0;32m      4\u001B[0m )\n\u001B[1;32m----> 6\u001B[0m batch_data \u001B[38;5;241m=\u001B[39m weather_fg\u001B[38;5;241m.\u001B[39mfilter(weather_fg\u001B[38;5;241m.\u001B[39mdate \u001B[38;5;241m>\u001B[39m\u001B[38;5;241m=\u001B[39m today)\u001B[38;5;241m.\u001B[39mread()\n\u001B[0;32m      7\u001B[0m batch_data\n",
      "File \u001B[1;32m~\\anaconda3\\Lib\\site-packages\\hsfs\\constructor\\query.py:159\u001B[0m, in \u001B[0;36mQuery.read\u001B[1;34m(self, online, dataframe_type, read_options)\u001B[0m\n\u001B[0;32m    157\u001B[0m \u001B[38;5;28;01mif\u001B[39;00m \u001B[38;5;129;01mnot\u001B[39;00m read_options:\n\u001B[0;32m    158\u001B[0m     read_options \u001B[38;5;241m=\u001B[39m {}\n\u001B[1;32m--> 159\u001B[0m sql_query, online_conn \u001B[38;5;241m=\u001B[39m \u001B[38;5;28mself\u001B[39m\u001B[38;5;241m.\u001B[39m_prep_read(online, read_options)\n\u001B[0;32m    161\u001B[0m schema \u001B[38;5;241m=\u001B[39m \u001B[38;5;28;01mNone\u001B[39;00m\n\u001B[0;32m    162\u001B[0m \u001B[38;5;28;01mif\u001B[39;00m (\n\u001B[0;32m    163\u001B[0m     read_options\n\u001B[0;32m    164\u001B[0m     \u001B[38;5;129;01mand\u001B[39;00m \u001B[38;5;124m\"\u001B[39m\u001B[38;5;124mpandas_types\u001B[39m\u001B[38;5;124m\"\u001B[39m \u001B[38;5;129;01min\u001B[39;00m read_options\n\u001B[0;32m    165\u001B[0m     \u001B[38;5;129;01mand\u001B[39;00m read_options[\u001B[38;5;124m\"\u001B[39m\u001B[38;5;124mpandas_types\u001B[39m\u001B[38;5;124m\"\u001B[39m]\n\u001B[0;32m    166\u001B[0m ):\n",
      "File \u001B[1;32m~\\anaconda3\\Lib\\site-packages\\hsfs\\constructor\\query.py:74\u001B[0m, in \u001B[0;36mQuery._prep_read\u001B[1;34m(self, online, read_options)\u001B[0m\n\u001B[0;32m     72\u001B[0m \u001B[38;5;28;01mdef\u001B[39;00m \u001B[38;5;21m_prep_read\u001B[39m(\u001B[38;5;28mself\u001B[39m, online, read_options):\n\u001B[0;32m     73\u001B[0m     \u001B[38;5;28mself\u001B[39m\u001B[38;5;241m.\u001B[39m_check_read_supported(online)\n\u001B[1;32m---> 74\u001B[0m     fs_query \u001B[38;5;241m=\u001B[39m \u001B[38;5;28mself\u001B[39m\u001B[38;5;241m.\u001B[39m_query_constructor_api\u001B[38;5;241m.\u001B[39mconstruct_query(\u001B[38;5;28mself\u001B[39m)\n\u001B[0;32m     76\u001B[0m     \u001B[38;5;28;01mif\u001B[39;00m online:\n\u001B[0;32m     77\u001B[0m         sql_query \u001B[38;5;241m=\u001B[39m \u001B[38;5;28mself\u001B[39m\u001B[38;5;241m.\u001B[39m_to_string(fs_query, online)\n",
      "File \u001B[1;32m~\\anaconda3\\Lib\\site-packages\\hsfs\\core\\query_constructor_api.py:27\u001B[0m, in \u001B[0;36mQueryConstructorApi.construct_query\u001B[1;34m(self, query)\u001B[0m\n\u001B[0;32m     24\u001B[0m path_params \u001B[38;5;241m=\u001B[39m [\u001B[38;5;124m\"\u001B[39m\u001B[38;5;124mproject\u001B[39m\u001B[38;5;124m\"\u001B[39m, _client\u001B[38;5;241m.\u001B[39m_project_id, \u001B[38;5;124m\"\u001B[39m\u001B[38;5;124mfeaturestores\u001B[39m\u001B[38;5;124m\"\u001B[39m, \u001B[38;5;124m\"\u001B[39m\u001B[38;5;124mquery\u001B[39m\u001B[38;5;124m\"\u001B[39m]\n\u001B[0;32m     25\u001B[0m headers \u001B[38;5;241m=\u001B[39m {\u001B[38;5;124m\"\u001B[39m\u001B[38;5;124mcontent-type\u001B[39m\u001B[38;5;124m\"\u001B[39m: \u001B[38;5;124m\"\u001B[39m\u001B[38;5;124mapplication/json\u001B[39m\u001B[38;5;124m\"\u001B[39m}\n\u001B[0;32m     26\u001B[0m \u001B[38;5;28;01mreturn\u001B[39;00m fs_query\u001B[38;5;241m.\u001B[39mFsQuery\u001B[38;5;241m.\u001B[39mfrom_response_json(\n\u001B[1;32m---> 27\u001B[0m     _client\u001B[38;5;241m.\u001B[39m_send_request(\n\u001B[0;32m     28\u001B[0m         \u001B[38;5;124m\"\u001B[39m\u001B[38;5;124mPUT\u001B[39m\u001B[38;5;124m\"\u001B[39m, path_params, headers\u001B[38;5;241m=\u001B[39mheaders, data\u001B[38;5;241m=\u001B[39mquery\u001B[38;5;241m.\u001B[39mjson()\n\u001B[0;32m     29\u001B[0m     )\n\u001B[0;32m     30\u001B[0m )\n",
      "File \u001B[1;32m~\\anaconda3\\Lib\\site-packages\\hsfs\\decorators.py:35\u001B[0m, in \u001B[0;36mconnected.<locals>.if_connected\u001B[1;34m(inst, *args, **kwargs)\u001B[0m\n\u001B[0;32m     33\u001B[0m \u001B[38;5;28;01mif\u001B[39;00m \u001B[38;5;129;01mnot\u001B[39;00m inst\u001B[38;5;241m.\u001B[39m_connected:\n\u001B[0;32m     34\u001B[0m     \u001B[38;5;28;01mraise\u001B[39;00m NoHopsworksConnectionError\n\u001B[1;32m---> 35\u001B[0m \u001B[38;5;28;01mreturn\u001B[39;00m fn(inst, \u001B[38;5;241m*\u001B[39margs, \u001B[38;5;241m*\u001B[39m\u001B[38;5;241m*\u001B[39mkwargs)\n",
      "File \u001B[1;32m~\\anaconda3\\Lib\\site-packages\\hsfs\\client\\base.py:176\u001B[0m, in \u001B[0;36mClient._send_request\u001B[1;34m(self, method, path_params, query_params, headers, data, stream, files)\u001B[0m\n\u001B[0;32m    171\u001B[0m     response \u001B[38;5;241m=\u001B[39m \u001B[38;5;28mself\u001B[39m\u001B[38;5;241m.\u001B[39m_retry_token_expired(\n\u001B[0;32m    172\u001B[0m         request, stream, \u001B[38;5;28mself\u001B[39m\u001B[38;5;241m.\u001B[39mTOKEN_EXPIRED_RETRY_INTERVAL, \u001B[38;5;241m1\u001B[39m\n\u001B[0;32m    173\u001B[0m     )\n\u001B[0;32m    175\u001B[0m \u001B[38;5;28;01mif\u001B[39;00m response\u001B[38;5;241m.\u001B[39mstatus_code \u001B[38;5;241m/\u001B[39m\u001B[38;5;241m/\u001B[39m \u001B[38;5;241m100\u001B[39m \u001B[38;5;241m!=\u001B[39m \u001B[38;5;241m2\u001B[39m:\n\u001B[1;32m--> 176\u001B[0m     \u001B[38;5;28;01mraise\u001B[39;00m exceptions\u001B[38;5;241m.\u001B[39mRestAPIError(url, response)\n\u001B[0;32m    178\u001B[0m \u001B[38;5;28;01mif\u001B[39;00m stream:\n\u001B[0;32m    179\u001B[0m     \u001B[38;5;28;01mreturn\u001B[39;00m response\n",
      "\u001B[1;31mRestAPIError\u001B[0m: Metadata operation error: (url: https://c.app.hopsworks.ai/hopsworks-api/api/project/1157271/featurestores/query). Server response: \nHTTP code: 422, HTTP reason: UNPROCESSABLE_ENTITY, body: b'{\"errorCode\":120001,\"usrMsg\":\"2024-11-10 23:43:31.991170\",\"errorMsg\":\"An argument was not provided or it was malformed.\"}', error code: 120001, error msg: An argument was not provided or it was malformed., user msg: 2024-11-10 23:43:31.991170"
     ]
    }
   ],
   "execution_count": 9
  },
  {
   "cell_type": "markdown",
   "id": "804e4491",
   "metadata": {},
   "source": [
    "### <span style=\"color:#ff5f27;\">🤖 Making the predictions</span>"
   ]
  },
  {
   "cell_type": "code",
   "id": "4566b635",
   "metadata": {
    "ExecuteTime": {
     "end_time": "2024-11-10T22:43:44.759212900Z",
     "start_time": "2024-11-10T22:38:31.305879Z"
    }
   },
   "source": [
    "batch_data['predicted_pm25'] = retrieved_xgboost_model.predict(\n",
    "    batch_data[['temperature_2m_mean', 'precipitation_sum', 'wind_speed_10m_max', 'wind_direction_10m_dominant']])\n",
    "batch_data"
   ],
   "outputs": [
    {
     "data": {
      "text/plain": [
       "                       date  temperature_2m_mean  precipitation_sum  \\\n",
       "0 2024-11-16 00:00:00+00:00                  7.9                0.0   \n",
       "1 2024-11-12 00:00:00+00:00                  7.7                0.0   \n",
       "2 2024-11-14 00:00:00+00:00                  7.9                0.0   \n",
       "3 2024-11-11 00:00:00+00:00                  7.2                0.0   \n",
       "4 2024-11-19 00:00:00+00:00                  7.4                0.0   \n",
       "5 2024-11-13 00:00:00+00:00                  4.7                0.0   \n",
       "6 2024-11-15 00:00:00+00:00                  8.2                0.0   \n",
       "7 2024-11-18 00:00:00+00:00                  4.9                0.2   \n",
       "8 2024-11-17 00:00:00+00:00                 12.9                0.0   \n",
       "\n",
       "   wind_speed_10m_max  wind_direction_10m_dominant        city  predicted_pm25  \n",
       "0            3.219938                   153.435013  reutlingen       12.744499  \n",
       "1           17.760811                    72.299484  reutlingen        2.010247  \n",
       "2           10.041354                   284.534485  reutlingen        7.028033  \n",
       "3            6.297428                   210.963684  reutlingen        9.966185  \n",
       "4           23.424910                   177.357513  reutlingen        2.720562  \n",
       "5            8.534353                    27.645891  reutlingen       14.898968  \n",
       "6            6.489992                    93.179771  reutlingen        8.554244  \n",
       "7           25.420181                   257.735229  reutlingen        1.751899  \n",
       "8            5.351785                   160.346085  reutlingen        6.983200  "
      ],
      "text/html": [
       "<div>\n",
       "<style scoped>\n",
       "    .dataframe tbody tr th:only-of-type {\n",
       "        vertical-align: middle;\n",
       "    }\n",
       "\n",
       "    .dataframe tbody tr th {\n",
       "        vertical-align: top;\n",
       "    }\n",
       "\n",
       "    .dataframe thead th {\n",
       "        text-align: right;\n",
       "    }\n",
       "</style>\n",
       "<table border=\"1\" class=\"dataframe\">\n",
       "  <thead>\n",
       "    <tr style=\"text-align: right;\">\n",
       "      <th></th>\n",
       "      <th>date</th>\n",
       "      <th>temperature_2m_mean</th>\n",
       "      <th>precipitation_sum</th>\n",
       "      <th>wind_speed_10m_max</th>\n",
       "      <th>wind_direction_10m_dominant</th>\n",
       "      <th>city</th>\n",
       "      <th>predicted_pm25</th>\n",
       "    </tr>\n",
       "  </thead>\n",
       "  <tbody>\n",
       "    <tr>\n",
       "      <th>0</th>\n",
       "      <td>2024-11-16 00:00:00+00:00</td>\n",
       "      <td>7.9</td>\n",
       "      <td>0.0</td>\n",
       "      <td>3.219938</td>\n",
       "      <td>153.435013</td>\n",
       "      <td>reutlingen</td>\n",
       "      <td>12.744499</td>\n",
       "    </tr>\n",
       "    <tr>\n",
       "      <th>1</th>\n",
       "      <td>2024-11-12 00:00:00+00:00</td>\n",
       "      <td>7.7</td>\n",
       "      <td>0.0</td>\n",
       "      <td>17.760811</td>\n",
       "      <td>72.299484</td>\n",
       "      <td>reutlingen</td>\n",
       "      <td>2.010247</td>\n",
       "    </tr>\n",
       "    <tr>\n",
       "      <th>2</th>\n",
       "      <td>2024-11-14 00:00:00+00:00</td>\n",
       "      <td>7.9</td>\n",
       "      <td>0.0</td>\n",
       "      <td>10.041354</td>\n",
       "      <td>284.534485</td>\n",
       "      <td>reutlingen</td>\n",
       "      <td>7.028033</td>\n",
       "    </tr>\n",
       "    <tr>\n",
       "      <th>3</th>\n",
       "      <td>2024-11-11 00:00:00+00:00</td>\n",
       "      <td>7.2</td>\n",
       "      <td>0.0</td>\n",
       "      <td>6.297428</td>\n",
       "      <td>210.963684</td>\n",
       "      <td>reutlingen</td>\n",
       "      <td>9.966185</td>\n",
       "    </tr>\n",
       "    <tr>\n",
       "      <th>4</th>\n",
       "      <td>2024-11-19 00:00:00+00:00</td>\n",
       "      <td>7.4</td>\n",
       "      <td>0.0</td>\n",
       "      <td>23.424910</td>\n",
       "      <td>177.357513</td>\n",
       "      <td>reutlingen</td>\n",
       "      <td>2.720562</td>\n",
       "    </tr>\n",
       "    <tr>\n",
       "      <th>5</th>\n",
       "      <td>2024-11-13 00:00:00+00:00</td>\n",
       "      <td>4.7</td>\n",
       "      <td>0.0</td>\n",
       "      <td>8.534353</td>\n",
       "      <td>27.645891</td>\n",
       "      <td>reutlingen</td>\n",
       "      <td>14.898968</td>\n",
       "    </tr>\n",
       "    <tr>\n",
       "      <th>6</th>\n",
       "      <td>2024-11-15 00:00:00+00:00</td>\n",
       "      <td>8.2</td>\n",
       "      <td>0.0</td>\n",
       "      <td>6.489992</td>\n",
       "      <td>93.179771</td>\n",
       "      <td>reutlingen</td>\n",
       "      <td>8.554244</td>\n",
       "    </tr>\n",
       "    <tr>\n",
       "      <th>7</th>\n",
       "      <td>2024-11-18 00:00:00+00:00</td>\n",
       "      <td>4.9</td>\n",
       "      <td>0.2</td>\n",
       "      <td>25.420181</td>\n",
       "      <td>257.735229</td>\n",
       "      <td>reutlingen</td>\n",
       "      <td>1.751899</td>\n",
       "    </tr>\n",
       "    <tr>\n",
       "      <th>8</th>\n",
       "      <td>2024-11-17 00:00:00+00:00</td>\n",
       "      <td>12.9</td>\n",
       "      <td>0.0</td>\n",
       "      <td>5.351785</td>\n",
       "      <td>160.346085</td>\n",
       "      <td>reutlingen</td>\n",
       "      <td>6.983200</td>\n",
       "    </tr>\n",
       "  </tbody>\n",
       "</table>\n",
       "</div>"
      ]
     },
     "execution_count": 8,
     "metadata": {},
     "output_type": "execute_result"
    }
   ],
   "execution_count": 8
  },
  {
   "cell_type": "code",
   "id": "95d78ba2",
   "metadata": {
    "ExecuteTime": {
     "end_time": "2024-11-10T22:43:44.759212900Z",
     "start_time": "2024-11-10T22:38:31.460818Z"
    }
   },
   "source": [
    "batch_data.info()"
   ],
   "outputs": [
    {
     "name": "stdout",
     "output_type": "stream",
     "text": [
      "<class 'pandas.core.frame.DataFrame'>\n",
      "RangeIndex: 9 entries, 0 to 8\n",
      "Data columns (total 7 columns):\n",
      " #   Column                       Non-Null Count  Dtype              \n",
      "---  ------                       --------------  -----              \n",
      " 0   date                         9 non-null      datetime64[ns, UTC]\n",
      " 1   temperature_2m_mean          9 non-null      float32            \n",
      " 2   precipitation_sum            9 non-null      float32            \n",
      " 3   wind_speed_10m_max           9 non-null      float32            \n",
      " 4   wind_direction_10m_dominant  9 non-null      float32            \n",
      " 5   city                         9 non-null      object             \n",
      " 6   predicted_pm25               9 non-null      float32            \n",
      "dtypes: datetime64[ns, UTC](1), float32(5), object(1)\n",
      "memory usage: 456.0+ bytes\n"
     ]
    }
   ],
   "execution_count": 9
  },
  {
   "metadata": {
    "ExecuteTime": {
     "end_time": "2024-11-10T22:43:44.760213300Z",
     "start_time": "2024-11-10T22:38:31.713554Z"
    }
   },
   "cell_type": "code",
   "source": "",
   "id": "79ece8d4028a8e32",
   "outputs": [],
   "execution_count": null
  },
  {
   "cell_type": "markdown",
   "id": "d23e2b0a",
   "metadata": {},
   "source": [
    "### <span style=\"color:#ff5f27;\">🤖 Saving the predictions (for monitoring) to a Feature Group</span>"
   ]
  },
  {
   "cell_type": "code",
   "id": "9d5d9436",
   "metadata": {
    "ExecuteTime": {
     "end_time": "2024-11-10T22:43:44.760213300Z",
     "start_time": "2024-11-10T22:38:32.134333Z"
    }
   },
   "source": [
    "batch_data['street'] = street\n",
    "batch_data['city'] = city\n",
    "batch_data['country'] = country\n",
    "# Fill in the number of days before the date on which you made the forecast (base_date)\n",
    "batch_data['days_before_forecast_day'] = range(1, len(batch_data)+1)\n",
    "batch_data = batch_data.sort_values(by=['date'])\n",
    "batch_data"
   ],
   "outputs": [
    {
     "data": {
      "text/plain": [
       "                       date  temperature_2m_mean  precipitation_sum  \\\n",
       "3 2024-11-11 00:00:00+00:00                  7.2                0.0   \n",
       "1 2024-11-12 00:00:00+00:00                  7.7                0.0   \n",
       "5 2024-11-13 00:00:00+00:00                  4.7                0.0   \n",
       "2 2024-11-14 00:00:00+00:00                  7.9                0.0   \n",
       "6 2024-11-15 00:00:00+00:00                  8.2                0.0   \n",
       "0 2024-11-16 00:00:00+00:00                  7.9                0.0   \n",
       "8 2024-11-17 00:00:00+00:00                 12.9                0.0   \n",
       "7 2024-11-18 00:00:00+00:00                  4.9                0.2   \n",
       "4 2024-11-19 00:00:00+00:00                  7.4                0.0   \n",
       "\n",
       "   wind_speed_10m_max  wind_direction_10m_dominant        city  \\\n",
       "3            6.297428                   210.963684  reutlingen   \n",
       "1           17.760811                    72.299484  reutlingen   \n",
       "5            8.534353                    27.645891  reutlingen   \n",
       "2           10.041354                   284.534485  reutlingen   \n",
       "6            6.489992                    93.179771  reutlingen   \n",
       "0            3.219938                   153.435013  reutlingen   \n",
       "8            5.351785                   160.346085  reutlingen   \n",
       "7           25.420181                   257.735229  reutlingen   \n",
       "4           23.424910                   177.357513  reutlingen   \n",
       "\n",
       "   predicted_pm25           street  country  days_before_forecast_day  \n",
       "3        9.966185  zaisentalstraße  germany                         4  \n",
       "1        2.010247  zaisentalstraße  germany                         2  \n",
       "5       14.898968  zaisentalstraße  germany                         6  \n",
       "2        7.028033  zaisentalstraße  germany                         3  \n",
       "6        8.554244  zaisentalstraße  germany                         7  \n",
       "0       12.744499  zaisentalstraße  germany                         1  \n",
       "8        6.983200  zaisentalstraße  germany                         9  \n",
       "7        1.751899  zaisentalstraße  germany                         8  \n",
       "4        2.720562  zaisentalstraße  germany                         5  "
      ],
      "text/html": [
       "<div>\n",
       "<style scoped>\n",
       "    .dataframe tbody tr th:only-of-type {\n",
       "        vertical-align: middle;\n",
       "    }\n",
       "\n",
       "    .dataframe tbody tr th {\n",
       "        vertical-align: top;\n",
       "    }\n",
       "\n",
       "    .dataframe thead th {\n",
       "        text-align: right;\n",
       "    }\n",
       "</style>\n",
       "<table border=\"1\" class=\"dataframe\">\n",
       "  <thead>\n",
       "    <tr style=\"text-align: right;\">\n",
       "      <th></th>\n",
       "      <th>date</th>\n",
       "      <th>temperature_2m_mean</th>\n",
       "      <th>precipitation_sum</th>\n",
       "      <th>wind_speed_10m_max</th>\n",
       "      <th>wind_direction_10m_dominant</th>\n",
       "      <th>city</th>\n",
       "      <th>predicted_pm25</th>\n",
       "      <th>street</th>\n",
       "      <th>country</th>\n",
       "      <th>days_before_forecast_day</th>\n",
       "    </tr>\n",
       "  </thead>\n",
       "  <tbody>\n",
       "    <tr>\n",
       "      <th>3</th>\n",
       "      <td>2024-11-11 00:00:00+00:00</td>\n",
       "      <td>7.2</td>\n",
       "      <td>0.0</td>\n",
       "      <td>6.297428</td>\n",
       "      <td>210.963684</td>\n",
       "      <td>reutlingen</td>\n",
       "      <td>9.966185</td>\n",
       "      <td>zaisentalstraße</td>\n",
       "      <td>germany</td>\n",
       "      <td>4</td>\n",
       "    </tr>\n",
       "    <tr>\n",
       "      <th>1</th>\n",
       "      <td>2024-11-12 00:00:00+00:00</td>\n",
       "      <td>7.7</td>\n",
       "      <td>0.0</td>\n",
       "      <td>17.760811</td>\n",
       "      <td>72.299484</td>\n",
       "      <td>reutlingen</td>\n",
       "      <td>2.010247</td>\n",
       "      <td>zaisentalstraße</td>\n",
       "      <td>germany</td>\n",
       "      <td>2</td>\n",
       "    </tr>\n",
       "    <tr>\n",
       "      <th>5</th>\n",
       "      <td>2024-11-13 00:00:00+00:00</td>\n",
       "      <td>4.7</td>\n",
       "      <td>0.0</td>\n",
       "      <td>8.534353</td>\n",
       "      <td>27.645891</td>\n",
       "      <td>reutlingen</td>\n",
       "      <td>14.898968</td>\n",
       "      <td>zaisentalstraße</td>\n",
       "      <td>germany</td>\n",
       "      <td>6</td>\n",
       "    </tr>\n",
       "    <tr>\n",
       "      <th>2</th>\n",
       "      <td>2024-11-14 00:00:00+00:00</td>\n",
       "      <td>7.9</td>\n",
       "      <td>0.0</td>\n",
       "      <td>10.041354</td>\n",
       "      <td>284.534485</td>\n",
       "      <td>reutlingen</td>\n",
       "      <td>7.028033</td>\n",
       "      <td>zaisentalstraße</td>\n",
       "      <td>germany</td>\n",
       "      <td>3</td>\n",
       "    </tr>\n",
       "    <tr>\n",
       "      <th>6</th>\n",
       "      <td>2024-11-15 00:00:00+00:00</td>\n",
       "      <td>8.2</td>\n",
       "      <td>0.0</td>\n",
       "      <td>6.489992</td>\n",
       "      <td>93.179771</td>\n",
       "      <td>reutlingen</td>\n",
       "      <td>8.554244</td>\n",
       "      <td>zaisentalstraße</td>\n",
       "      <td>germany</td>\n",
       "      <td>7</td>\n",
       "    </tr>\n",
       "    <tr>\n",
       "      <th>0</th>\n",
       "      <td>2024-11-16 00:00:00+00:00</td>\n",
       "      <td>7.9</td>\n",
       "      <td>0.0</td>\n",
       "      <td>3.219938</td>\n",
       "      <td>153.435013</td>\n",
       "      <td>reutlingen</td>\n",
       "      <td>12.744499</td>\n",
       "      <td>zaisentalstraße</td>\n",
       "      <td>germany</td>\n",
       "      <td>1</td>\n",
       "    </tr>\n",
       "    <tr>\n",
       "      <th>8</th>\n",
       "      <td>2024-11-17 00:00:00+00:00</td>\n",
       "      <td>12.9</td>\n",
       "      <td>0.0</td>\n",
       "      <td>5.351785</td>\n",
       "      <td>160.346085</td>\n",
       "      <td>reutlingen</td>\n",
       "      <td>6.983200</td>\n",
       "      <td>zaisentalstraße</td>\n",
       "      <td>germany</td>\n",
       "      <td>9</td>\n",
       "    </tr>\n",
       "    <tr>\n",
       "      <th>7</th>\n",
       "      <td>2024-11-18 00:00:00+00:00</td>\n",
       "      <td>4.9</td>\n",
       "      <td>0.2</td>\n",
       "      <td>25.420181</td>\n",
       "      <td>257.735229</td>\n",
       "      <td>reutlingen</td>\n",
       "      <td>1.751899</td>\n",
       "      <td>zaisentalstraße</td>\n",
       "      <td>germany</td>\n",
       "      <td>8</td>\n",
       "    </tr>\n",
       "    <tr>\n",
       "      <th>4</th>\n",
       "      <td>2024-11-19 00:00:00+00:00</td>\n",
       "      <td>7.4</td>\n",
       "      <td>0.0</td>\n",
       "      <td>23.424910</td>\n",
       "      <td>177.357513</td>\n",
       "      <td>reutlingen</td>\n",
       "      <td>2.720562</td>\n",
       "      <td>zaisentalstraße</td>\n",
       "      <td>germany</td>\n",
       "      <td>5</td>\n",
       "    </tr>\n",
       "  </tbody>\n",
       "</table>\n",
       "</div>"
      ]
     },
     "execution_count": 10,
     "metadata": {},
     "output_type": "execute_result"
    }
   ],
   "execution_count": 10
  },
  {
   "cell_type": "code",
   "id": "00e6787b",
   "metadata": {
    "ExecuteTime": {
     "end_time": "2024-11-10T22:43:44.761213400Z",
     "start_time": "2024-11-10T22:38:32.357686Z"
    }
   },
   "source": [
    "batch_data.info()"
   ],
   "outputs": [
    {
     "name": "stdout",
     "output_type": "stream",
     "text": [
      "<class 'pandas.core.frame.DataFrame'>\n",
      "Index: 9 entries, 3 to 4\n",
      "Data columns (total 10 columns):\n",
      " #   Column                       Non-Null Count  Dtype              \n",
      "---  ------                       --------------  -----              \n",
      " 0   date                         9 non-null      datetime64[ns, UTC]\n",
      " 1   temperature_2m_mean          9 non-null      float32            \n",
      " 2   precipitation_sum            9 non-null      float32            \n",
      " 3   wind_speed_10m_max           9 non-null      float32            \n",
      " 4   wind_direction_10m_dominant  9 non-null      float32            \n",
      " 5   city                         9 non-null      object             \n",
      " 6   predicted_pm25               9 non-null      float32            \n",
      " 7   street                       9 non-null      object             \n",
      " 8   country                      9 non-null      object             \n",
      " 9   days_before_forecast_day     9 non-null      int64              \n",
      "dtypes: datetime64[ns, UTC](1), float32(5), int64(1), object(3)\n",
      "memory usage: 612.0+ bytes\n"
     ]
    }
   ],
   "execution_count": 11
  },
  {
   "cell_type": "markdown",
   "id": "6ff10c12",
   "metadata": {},
   "source": [
    "### Create Forecast Graph\n",
    "Draw a graph of the predictions with dates as a PNG and save it to the github repo\n",
    "Show it on github pages"
   ]
  },
  {
   "cell_type": "code",
   "id": "9bb0f844",
   "metadata": {
    "ExecuteTime": {
     "end_time": "2024-11-10T22:43:44.761213400Z",
     "start_time": "2024-11-10T22:38:32.621779Z"
    }
   },
   "source": [
    "file_path = \"../docs/pm25_forecast.png\"\n",
    "plt = util.plot_air_quality_forecast(city, street, batch_data, file_path)\n",
    "plt.show()"
   ],
   "outputs": [
    {
     "data": {
      "text/plain": [
       "<Figure size 1000x600 with 1 Axes>"
      ],
      "image/png": "[encoded data removed]"
     },
     "metadata": {},
     "output_type": "display_data"
    }
   ],
   "execution_count": 12
  },
  {
   "cell_type": "code",
   "id": "c418a791",
   "metadata": {
    "ExecuteTime": {
     "end_time": "2024-11-10T22:43:44.762213500Z",
     "start_time": "2024-11-10T22:38:34.532114Z"
    }
   },
   "source": [
    "# Get or create feature group\n",
    "monitor_fg = fs.get_or_create_feature_group(\n",
    "    name='aq_predictions',\n",
    "    description='Air Quality prediction monitoring',\n",
    "    version=1,\n",
    "    primary_key=['city','street','date','days_before_forecast_day'],\n",
    "    event_time=\"date\"\n",
    ")"
   ],
   "outputs": [],
   "execution_count": 13
  },
  {
   "cell_type": "code",
   "id": "8992650a",
   "metadata": {
    "ExecuteTime": {
     "end_time": "2024-11-10T22:43:44.762213500Z",
     "start_time": "2024-11-10T22:38:34.859646Z"
    }
   },
   "source": [
    "monitor_fg.insert(batch_data, write_options={\"wait_for_job\": True})"
   ],
   "outputs": [
    {
     "name": "stdout",
     "output_type": "stream",
     "text": [
      "2024-11-10 23:38:34,866 WARNING: FutureWarning: is_sparse is deprecated and will be removed in a future version. Check `isinstance(dtype, pd.SparseDtype)` instead.\n",
      "\n",
      "2024-11-10 23:38:35,461 WARNING: DeprecationWarning: The `ipykernel.comm.Comm` class has been deprecated. Please use the `comm` module instead.For creating comms, use the function `from comm import create_comm`.\n",
      "\n"
     ]
    },
    {
     "data": {
      "text/plain": [
       "Uploading Dataframe: 0.00% |          | Rows 0/9 | Elapsed Time: 00:00 | Remaining Time: ?"
      ],
      "application/vnd.jupyter.widget-view+json": {
       "version_major": 2,
       "version_minor": 0,
       "model_id": "539c6129223f4ee686576b2d032e0a60"
      }
     },
     "metadata": {},
     "output_type": "display_data"
    },
    {
     "name": "stdout",
     "output_type": "stream",
     "text": [
      "Launching job: aq_predictions_1_offline_fg_materialization\n",
      "Job started successfully, you can follow the progress at \n",
      "https://c.app.hopsworks.ai/p/1157271/jobs/named/aq_predictions_1_offline_fg_materialization/executions\n"
     ]
    },
    {
     "data": {
      "text/plain": [
       "(<hsfs.core.job.Job at 0x1de91d6d210>, None)"
      ]
     },
     "execution_count": 14,
     "metadata": {},
     "output_type": "execute_result"
    }
   ],
   "execution_count": 14
  },
  {
   "cell_type": "code",
   "id": "aa2c1b07",
   "metadata": {
    "ExecuteTime": {
     "end_time": "2024-11-10T22:43:44.762213500Z",
     "start_time": "2024-11-10T22:40:03.848811Z"
    }
   },
   "source": [
    "# We will create a hindcast chart for  only the forecasts made 1 day beforehand\n",
    "monitoring_df = monitor_fg.filter(monitor_fg.days_before_forecast_day == 1).read()\n",
    "monitoring_df"
   ],
   "outputs": [
    {
     "name": "stdout",
     "output_type": "stream",
     "text": [
      "Finished: Reading data from Hopsworks, using Hopsworks Feature Query Service (0.73s) \n"
     ]
    },
    {
     "data": {
      "text/plain": [
       "                       date  temperature_2m_mean  precipitation_sum  \\\n",
       "0 2024-11-16 00:00:00+00:00                 7.90                0.0   \n",
       "1 2024-11-10 00:00:00+00:00                 5.95                0.0   \n",
       "\n",
       "   wind_speed_10m_max  wind_direction_10m_dominant        city  \\\n",
       "0            3.219938                   153.435013  reutlingen   \n",
       "1            4.024922                    26.564985  reutlingen   \n",
       "\n",
       "   predicted_pm25           street  country  days_before_forecast_day  \n",
       "0       12.744499  zaisentalstraße  germany                         1  \n",
       "1       12.140126  zaisentalstraße  germany                         1  "
      ],
      "text/html": [
       "<div>\n",
       "<style scoped>\n",
       "    .dataframe tbody tr th:only-of-type {\n",
       "        vertical-align: middle;\n",
       "    }\n",
       "\n",
       "    .dataframe tbody tr th {\n",
       "        vertical-align: top;\n",
       "    }\n",
       "\n",
       "    .dataframe thead th {\n",
       "        text-align: right;\n",
       "    }\n",
       "</style>\n",
       "<table border=\"1\" class=\"dataframe\">\n",
       "  <thead>\n",
       "    <tr style=\"text-align: right;\">\n",
       "      <th></th>\n",
       "      <th>date</th>\n",
       "      <th>temperature_2m_mean</th>\n",
       "      <th>precipitation_sum</th>\n",
       "      <th>wind_speed_10m_max</th>\n",
       "      <th>wind_direction_10m_dominant</th>\n",
       "      <th>city</th>\n",
       "      <th>predicted_pm25</th>\n",
       "      <th>street</th>\n",
       "      <th>country</th>\n",
       "      <th>days_before_forecast_day</th>\n",
       "    </tr>\n",
       "  </thead>\n",
       "  <tbody>\n",
       "    <tr>\n",
       "      <th>0</th>\n",
       "      <td>2024-11-16 00:00:00+00:00</td>\n",
       "      <td>7.90</td>\n",
       "      <td>0.0</td>\n",
       "      <td>3.219938</td>\n",
       "      <td>153.435013</td>\n",
       "      <td>reutlingen</td>\n",
       "      <td>12.744499</td>\n",
       "      <td>zaisentalstraße</td>\n",
       "      <td>germany</td>\n",
       "      <td>1</td>\n",
       "    </tr>\n",
       "    <tr>\n",
       "      <th>1</th>\n",
       "      <td>2024-11-10 00:00:00+00:00</td>\n",
       "      <td>5.95</td>\n",
       "      <td>0.0</td>\n",
       "      <td>4.024922</td>\n",
       "      <td>26.564985</td>\n",
       "      <td>reutlingen</td>\n",
       "      <td>12.140126</td>\n",
       "      <td>zaisentalstraße</td>\n",
       "      <td>germany</td>\n",
       "      <td>1</td>\n",
       "    </tr>\n",
       "  </tbody>\n",
       "</table>\n",
       "</div>"
      ]
     },
     "execution_count": 15,
     "metadata": {},
     "output_type": "execute_result"
    }
   ],
   "execution_count": 15
  },
  {
   "cell_type": "code",
   "id": "8c3ff020",
   "metadata": {
    "ExecuteTime": {
     "end_time": "2024-11-10T22:43:44.790545800Z",
     "start_time": "2024-11-10T22:40:05.301033Z"
    }
   },
   "source": [
    "air_quality_fg = fs.get_feature_group(\n",
    "    name='air_quality',\n",
    "    version=1,\n",
    ")\n",
    "air_quality_df = air_quality_fg.read()\n",
    "air_quality_df"
   ],
   "outputs": [
    {
     "name": "stdout",
     "output_type": "stream",
     "text": [
      "Finished: Reading data from Hopsworks, using Hopsworks Feature Query Service (1.29s) \n"
     ]
    },
    {
     "data": {
      "text/plain": [
       "                          date   pm25  country        city           street  \\\n",
       "0    2022-10-05 00:00:00+00:00   3.10  germany  reutlingen  zaisentalstraße   \n",
       "1    2023-04-07 00:00:00+00:00   4.12  germany  reutlingen  zaisentalstraße   \n",
       "2    2023-04-11 00:00:00+00:00   1.42  germany  reutlingen  zaisentalstraße   \n",
       "3    2021-09-15 00:00:00+00:00   3.80  germany  reutlingen  zaisentalstraße   \n",
       "4    2020-04-26 00:00:00+00:00   1.98  germany  reutlingen  zaisentalstraße   \n",
       "...                        ...    ...      ...         ...              ...   \n",
       "1781 2024-03-10 00:00:00+00:00   2.23  germany  reutlingen  zaisentalstraße   \n",
       "1782 2024-04-17 00:00:00+00:00   2.20  germany  reutlingen  zaisentalstraße   \n",
       "1783 2019-12-20 00:00:00+00:00   4.48  germany  reutlingen  zaisentalstraße   \n",
       "1784 2021-05-23 00:00:00+00:00   0.80  germany  reutlingen  zaisentalstraße   \n",
       "1785 2024-11-10 00:00:00+00:00  50.00  germany  reutlingen  zaisentalstraße   \n",
       "\n",
       "                                    url  \n",
       "0     https://api.waqi.info/feed/A54451  \n",
       "1     https://api.waqi.info/feed/A54451  \n",
       "2     https://api.waqi.info/feed/A54451  \n",
       "3     https://api.waqi.info/feed/A54451  \n",
       "4     https://api.waqi.info/feed/A54451  \n",
       "...                                 ...  \n",
       "1781  https://api.waqi.info/feed/A54451  \n",
       "1782  https://api.waqi.info/feed/A54451  \n",
       "1783  https://api.waqi.info/feed/A54451  \n",
       "1784  https://api.waqi.info/feed/A54451  \n",
       "1785  https://api.waqi.info/feed/A54451  \n",
       "\n",
       "[1786 rows x 6 columns]"
      ],
      "text/html": [
       "<div>\n",
       "<style scoped>\n",
       "    .dataframe tbody tr th:only-of-type {\n",
       "        vertical-align: middle;\n",
       "    }\n",
       "\n",
       "    .dataframe tbody tr th {\n",
       "        vertical-align: top;\n",
       "    }\n",
       "\n",
       "    .dataframe thead th {\n",
       "        text-align: right;\n",
       "    }\n",
       "</style>\n",
       "<table border=\"1\" class=\"dataframe\">\n",
       "  <thead>\n",
       "    <tr style=\"text-align: right;\">\n",
       "      <th></th>\n",
       "      <th>date</th>\n",
       "      <th>pm25</th>\n",
       "      <th>country</th>\n",
       "      <th>city</th>\n",
       "      <th>street</th>\n",
       "      <th>url</th>\n",
       "    </tr>\n",
       "  </thead>\n",
       "  <tbody>\n",
       "    <tr>\n",
       "      <th>0</th>\n",
       "      <td>2022-10-05 00:00:00+00:00</td>\n",
       "      <td>3.10</td>\n",
       "      <td>germany</td>\n",
       "      <td>reutlingen</td>\n",
       "      <td>zaisentalstraße</td>\n",
       "      <td>https://api.waqi.info/feed/A54451</td>\n",
       "    </tr>\n",
       "    <tr>\n",
       "      <th>1</th>\n",
       "      <td>2023-04-07 00:00:00+00:00</td>\n",
       "      <td>4.12</td>\n",
       "      <td>germany</td>\n",
       "      <td>reutlingen</td>\n",
       "      <td>zaisentalstraße</td>\n",
       "      <td>https://api.waqi.info/feed/A54451</td>\n",
       "    </tr>\n",
       "    <tr>\n",
       "      <th>2</th>\n",
       "      <td>2023-04-11 00:00:00+00:00</td>\n",
       "      <td>1.42</td>\n",
       "      <td>germany</td>\n",
       "      <td>reutlingen</td>\n",
       "      <td>zaisentalstraße</td>\n",
       "      <td>https://api.waqi.info/feed/A54451</td>\n",
       "    </tr>\n",
       "    <tr>\n",
       "      <th>3</th>\n",
       "      <td>2021-09-15 00:00:00+00:00</td>\n",
       "      <td>3.80</td>\n",
       "      <td>germany</td>\n",
       "      <td>reutlingen</td>\n",
       "      <td>zaisentalstraße</td>\n",
       "      <td>https://api.waqi.info/feed/A54451</td>\n",
       "    </tr>\n",
       "    <tr>\n",
       "      <th>4</th>\n",
       "      <td>2020-04-26 00:00:00+00:00</td>\n",
       "      <td>1.98</td>\n",
       "      <td>germany</td>\n",
       "      <td>reutlingen</td>\n",
       "      <td>zaisentalstraße</td>\n",
       "      <td>https://api.waqi.info/feed/A54451</td>\n",
       "    </tr>\n",
       "    <tr>\n",
       "      <th>...</th>\n",
       "      <td>...</td>\n",
       "      <td>...</td>\n",
       "      <td>...</td>\n",
       "      <td>...</td>\n",
       "      <td>...</td>\n",
       "      <td>...</td>\n",
       "    </tr>\n",
       "    <tr>\n",
       "      <th>1781</th>\n",
       "      <td>2024-03-10 00:00:00+00:00</td>\n",
       "      <td>2.23</td>\n",
       "      <td>germany</td>\n",
       "      <td>reutlingen</td>\n",
       "      <td>zaisentalstraße</td>\n",
       "      <td>https://api.waqi.info/feed/A54451</td>\n",
       "    </tr>\n",
       "    <tr>\n",
       "      <th>1782</th>\n",
       "      <td>2024-04-17 00:00:00+00:00</td>\n",
       "      <td>2.20</td>\n",
       "      <td>germany</td>\n",
       "      <td>reutlingen</td>\n",
       "      <td>zaisentalstraße</td>\n",
       "      <td>https://api.waqi.info/feed/A54451</td>\n",
       "    </tr>\n",
       "    <tr>\n",
       "      <th>1783</th>\n",
       "      <td>2019-12-20 00:00:00+00:00</td>\n",
       "      <td>4.48</td>\n",
       "      <td>germany</td>\n",
       "      <td>reutlingen</td>\n",
       "      <td>zaisentalstraße</td>\n",
       "      <td>https://api.waqi.info/feed/A54451</td>\n",
       "    </tr>\n",
       "    <tr>\n",
       "      <th>1784</th>\n",
       "      <td>2021-05-23 00:00:00+00:00</td>\n",
       "      <td>0.80</td>\n",
       "      <td>germany</td>\n",
       "      <td>reutlingen</td>\n",
       "      <td>zaisentalstraße</td>\n",
       "      <td>https://api.waqi.info/feed/A54451</td>\n",
       "    </tr>\n",
       "    <tr>\n",
       "      <th>1785</th>\n",
       "      <td>2024-11-10 00:00:00+00:00</td>\n",
       "      <td>50.00</td>\n",
       "      <td>germany</td>\n",
       "      <td>reutlingen</td>\n",
       "      <td>zaisentalstraße</td>\n",
       "      <td>https://api.waqi.info/feed/A54451</td>\n",
       "    </tr>\n",
       "  </tbody>\n",
       "</table>\n",
       "<p>1786 rows × 6 columns</p>\n",
       "</div>"
      ]
     },
     "execution_count": 16,
     "metadata": {},
     "output_type": "execute_result"
    }
   ],
   "execution_count": 16
  },
  {
   "cell_type": "code",
   "id": "6763f180",
   "metadata": {
    "ExecuteTime": {
     "end_time": "2024-11-10T22:43:44.791879700Z",
     "start_time": "2024-11-10T22:42:26.727846Z"
    }
   },
   "source": [
    "outcome_df = air_quality_df[['date', 'pm25']]\n",
    "preds_df =  monitoring_df[['date', 'predicted_pm25', 'days_before_forecast_day']]\n",
    "\n",
    "hindcast_df = pd.merge(preds_df, outcome_df, on=\"date\")\n",
    "hindcast_df = hindcast_df.sort_values(by=['date'])\n",
    "\n",
    "# If there are no outcomes for predictions yet, generate some predictions/outcomes from existing data\n",
    "if len(hindcast_df) == 0:\n",
    "    hindcast_df = util.backfill_predictions_for_monitoring(weather_fg, air_quality_df, monitor_fg, retrieved_xgboost_model)\n",
    "hindcast_df"
   ],
   "outputs": [
    {
     "data": {
      "text/plain": [
       "                       date  predicted_pm25  days_before_forecast_day  pm25\n",
       "0 2024-11-10 00:00:00+00:00       12.140126                         1  50.0"
      ],
      "text/html": [
       "<div>\n",
       "<style scoped>\n",
       "    .dataframe tbody tr th:only-of-type {\n",
       "        vertical-align: middle;\n",
       "    }\n",
       "\n",
       "    .dataframe tbody tr th {\n",
       "        vertical-align: top;\n",
       "    }\n",
       "\n",
       "    .dataframe thead th {\n",
       "        text-align: right;\n",
       "    }\n",
       "</style>\n",
       "<table border=\"1\" class=\"dataframe\">\n",
       "  <thead>\n",
       "    <tr style=\"text-align: right;\">\n",
       "      <th></th>\n",
       "      <th>date</th>\n",
       "      <th>predicted_pm25</th>\n",
       "      <th>days_before_forecast_day</th>\n",
       "      <th>pm25</th>\n",
       "    </tr>\n",
       "  </thead>\n",
       "  <tbody>\n",
       "    <tr>\n",
       "      <th>0</th>\n",
       "      <td>2024-11-10 00:00:00+00:00</td>\n",
       "      <td>12.140126</td>\n",
       "      <td>1</td>\n",
       "      <td>50.0</td>\n",
       "    </tr>\n",
       "  </tbody>\n",
       "</table>\n",
       "</div>"
      ]
     },
     "execution_count": 21,
     "metadata": {},
     "output_type": "execute_result"
    }
   ],
   "execution_count": 21
  },
  {
   "cell_type": "markdown",
   "id": "9edb1552",
   "metadata": {},
   "source": [
    "### Plot the Hindcast comparing predicted with forecasted values (1-day prior forecast)\n",
    "\n",
    "__This graph will be empty to begin with - this is normal.__\n",
    "\n",
    "After a few days of predictions and observations, you will get data points in this graph."
   ]
  },
  {
   "cell_type": "code",
   "id": "31e62393",
   "metadata": {
    "ExecuteTime": {
     "end_time": "2024-11-10T22:43:44.791879700Z",
     "start_time": "2024-11-10T22:42:30.731776Z"
    }
   },
   "source": [
    "file_path = \"../docs/pm25_hindcast.png\"\n",
    "plt = util.plot_air_quality_forecast(city, street, hindcast_df, file_path, hindcast=True)\n",
    "plt.show()"
   ],
   "outputs": [
    {
     "data": {
      "text/plain": [
       "<Figure size 1000x600 with 1 Axes>"
      ],
      "image/png": "[encoded data removed]"
     },
     "metadata": {},
     "output_type": "display_data"
    }
   ],
   "execution_count": 22
  },
  {
   "cell_type": "markdown",
   "id": "c29eb549",
   "metadata": {},
   "source": [
    "---"
   ]
  },
  {
   "metadata": {},
   "cell_type": "markdown",
   "source": "## More Evaluation",
   "id": "b394848cf8b3cd3b"
  },
  {
   "metadata": {
    "ExecuteTime": {
     "end_time": "2024-11-10T22:45:48.224327Z",
     "start_time": "2024-11-10T22:45:48.164483Z"
    }
   },
   "cell_type": "code",
   "source": [
    "# Check error depending on days before forecast\n",
    "\n",
    "# Check if days_before_forecast_day is a column in the hindcast_df\n",
    "if 'days_before_forecast_day' in hindcast_df.columns:\n",
    "    hindcast_df['error'] = hindcast_df['pm25'] - hindcast_df['predicted_pm25']\n",
    "    error_by_days_before_forecast = hindcast_df.groupby('days_before_forecast_day')['error'].mean()\n",
    "    error_by_days_before_forecast.head()"
   ],
   "id": "cdf5ff777f3a5691",
   "outputs": [
    {
     "ename": "NameError",
     "evalue": "name 'hindcast_df' is not defined",
     "output_type": "error",
     "traceback": [
      "\u001B[1;31m---------------------------------------------------------------------------\u001B[0m",
      "\u001B[1;31mNameError\u001B[0m                                 Traceback (most recent call last)",
      "Cell \u001B[1;32mIn[10], line 4\u001B[0m\n\u001B[0;32m      1\u001B[0m \u001B[38;5;66;03m# Check error depending on days before forecast\u001B[39;00m\n\u001B[0;32m      2\u001B[0m \n\u001B[0;32m      3\u001B[0m \u001B[38;5;66;03m# Check if days_before_forecast_day is a column in the hindcast_df\u001B[39;00m\n\u001B[1;32m----> 4\u001B[0m \u001B[38;5;28;01mif\u001B[39;00m \u001B[38;5;124m'\u001B[39m\u001B[38;5;124mdays_before_forecast_day\u001B[39m\u001B[38;5;124m'\u001B[39m \u001B[38;5;129;01min\u001B[39;00m hindcast_df\u001B[38;5;241m.\u001B[39mcolumns:\n\u001B[0;32m      5\u001B[0m     hindcast_df[\u001B[38;5;124m'\u001B[39m\u001B[38;5;124merror\u001B[39m\u001B[38;5;124m'\u001B[39m] \u001B[38;5;241m=\u001B[39m hindcast_df[\u001B[38;5;124m'\u001B[39m\u001B[38;5;124mpm25\u001B[39m\u001B[38;5;124m'\u001B[39m] \u001B[38;5;241m-\u001B[39m hindcast_df[\u001B[38;5;124m'\u001B[39m\u001B[38;5;124mpredicted_pm25\u001B[39m\u001B[38;5;124m'\u001B[39m]\n\u001B[0;32m      6\u001B[0m     error_by_days_before_forecast \u001B[38;5;241m=\u001B[39m hindcast_df\u001B[38;5;241m.\u001B[39mgroupby(\u001B[38;5;124m'\u001B[39m\u001B[38;5;124mdays_before_forecast_day\u001B[39m\u001B[38;5;124m'\u001B[39m)[\u001B[38;5;124m'\u001B[39m\u001B[38;5;124merror\u001B[39m\u001B[38;5;124m'\u001B[39m]\u001B[38;5;241m.\u001B[39mmean()\n",
      "\u001B[1;31mNameError\u001B[0m: name 'hindcast_df' is not defined"
     ]
    }
   ],
   "execution_count": 10
  }
 ],
 "metadata": {
  "kernelspec": {
   "display_name": "Python 3 (ipykernel)",
   "language": "python",
   "name": "python3"
  },
  "language_info": {
   "codemirror_mode": {
    "name": "ipython",
    "version": 3
   },
   "file_extension": ".py",
   "mimetype": "text/x-python",
   "name": "python",
   "nbconvert_exporter": "python",
   "pygments_lexer": "ipython3",
   "version": "3.10.0"
  }
 },
 "nbformat": 4,
 "nbformat_minor": 5
}
