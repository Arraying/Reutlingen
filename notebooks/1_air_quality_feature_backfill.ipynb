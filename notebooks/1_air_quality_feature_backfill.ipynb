{
 "cells": [
  {
   "cell_type": "markdown",
   "id": "595ac540",
   "metadata": {},
   "source": [
    "<span style=\"font-width:bold; font-size: 3rem; color:#333;\">- Part 01: Feature Backfill</span>\n",
    "\n",
    "\n",
    "## 🗒️ This notebook is divided into the following sections:\n",
    "1. Fetch historical data\n",
    "2. Connect to the Hopsworks feature store\n",
    "3. Create feature groups and insert them to the feature store\n",
    "\n"
   ]
  },
  {
   "cell_type": "markdown",
   "id": "35441349",
   "metadata": {},
   "source": [
    "### <span style='color:#ff5f27'> 📝 Imports"
   ]
  },
  {
   "cell_type": "code",
   "id": "7a2987c0",
   "metadata": {
    "ExecuteTime": {
     "end_time": "2024-11-05T12:41:44.915675Z",
     "start_time": "2024-11-05T12:41:39.023591Z"
    }
   },
   "source": [
    "\n",
    "import pandas as pd\n",
    "import warnings\n",
    "import datetime\n",
    "warnings.filterwarnings(\"ignore\")"
   ],
   "outputs": [],
   "execution_count": 1
  },
  {
   "cell_type": "markdown",
   "id": "bbeb6e6e",
   "metadata": {},
   "source": [
    "---"
   ]
  },
  {
   "cell_type": "markdown",
   "id": "ebe62842",
   "metadata": {},
   "source": [
    "## <span style='color:#ff5f27'> 🌍 Representing the Target cities </span>"
   ]
  },
  {
   "cell_type": "code",
   "id": "c077ddee",
   "metadata": {
    "tags": [],
    "ExecuteTime": {
     "end_time": "2024-11-05T12:43:38.749760Z",
     "start_time": "2024-11-05T12:43:38.677358Z"
    }
   },
   "source": [
    "country=\"germany\"\n",
    "city=\"reutlingen\"\n",
    "street=\"Zaisentalstraße\"\n",
    "today = datetime.date.today()\n",
    "\n",
    "df = pd.read_csv(\"../data/reutlingen.csv\",  parse_dates=['date'], skipinitialspace=True, skiprows=3)\n",
    "df"
   ],
   "outputs": [
    {
     "data": {
      "text/plain": [
       "                          date   min    max  pm25    q1     q3  stdev  count\n",
       "0    2019-12-09 00:00:00+00:00  0.50   1.95  0.82  0.68   0.99  0.259    316\n",
       "1    2019-12-10 00:00:00+00:00  1.11  16.70  2.63  2.06   4.36  3.166    402\n",
       "2    2019-12-11 00:00:00+00:00  1.10  11.12  5.27  4.07   5.95  1.760    434\n",
       "3    2019-12-12 00:00:00+00:00  0.50  17.73  2.31  1.32   3.26  1.752    492\n",
       "4    2019-12-13 00:00:00+00:00  0.45   6.89  1.18  0.86   1.63  0.724    565\n",
       "...                        ...   ...    ...   ...   ...    ...    ...    ...\n",
       "1780 2024-11-01 00:00:00+00:00  1.12  14.50  5.30  3.00   6.70  3.245    569\n",
       "1781 2024-11-02 00:00:00+00:00  2.60  17.32  8.60  6.47  10.70  2.775    567\n",
       "1782 2024-11-03 00:00:00+00:00  3.77  15.40  7.40  5.97   8.68  1.780    569\n",
       "1783 2024-11-04 00:00:00+00:00  2.50  13.50  6.42  5.10   8.27  2.281    538\n",
       "1784 2024-11-05 00:00:00+00:00  4.87   9.70  7.10  6.67   7.67  0.842     81\n",
       "\n",
       "[1785 rows x 8 columns]"
      ],
      "text/html": [
       "<div>\n",
       "<style scoped>\n",
       "    .dataframe tbody tr th:only-of-type {\n",
       "        vertical-align: middle;\n",
       "    }\n",
       "\n",
       "    .dataframe tbody tr th {\n",
       "        vertical-align: top;\n",
       "    }\n",
       "\n",
       "    .dataframe thead th {\n",
       "        text-align: right;\n",
       "    }\n",
       "</style>\n",
       "<table border=\"1\" class=\"dataframe\">\n",
       "  <thead>\n",
       "    <tr style=\"text-align: right;\">\n",
       "      <th></th>\n",
       "      <th>date</th>\n",
       "      <th>min</th>\n",
       "      <th>max</th>\n",
       "      <th>pm25</th>\n",
       "      <th>q1</th>\n",
       "      <th>q3</th>\n",
       "      <th>stdev</th>\n",
       "      <th>count</th>\n",
       "    </tr>\n",
       "  </thead>\n",
       "  <tbody>\n",
       "    <tr>\n",
       "      <th>0</th>\n",
       "      <td>2019-12-09 00:00:00+00:00</td>\n",
       "      <td>0.50</td>\n",
       "      <td>1.95</td>\n",
       "      <td>0.82</td>\n",
       "      <td>0.68</td>\n",
       "      <td>0.99</td>\n",
       "      <td>0.259</td>\n",
       "      <td>316</td>\n",
       "    </tr>\n",
       "    <tr>\n",
       "      <th>1</th>\n",
       "      <td>2019-12-10 00:00:00+00:00</td>\n",
       "      <td>1.11</td>\n",
       "      <td>16.70</td>\n",
       "      <td>2.63</td>\n",
       "      <td>2.06</td>\n",
       "      <td>4.36</td>\n",
       "      <td>3.166</td>\n",
       "      <td>402</td>\n",
       "    </tr>\n",
       "    <tr>\n",
       "      <th>2</th>\n",
       "      <td>2019-12-11 00:00:00+00:00</td>\n",
       "      <td>1.10</td>\n",
       "      <td>11.12</td>\n",
       "      <td>5.27</td>\n",
       "      <td>4.07</td>\n",
       "      <td>5.95</td>\n",
       "      <td>1.760</td>\n",
       "      <td>434</td>\n",
       "    </tr>\n",
       "    <tr>\n",
       "      <th>3</th>\n",
       "      <td>2019-12-12 00:00:00+00:00</td>\n",
       "      <td>0.50</td>\n",
       "      <td>17.73</td>\n",
       "      <td>2.31</td>\n",
       "      <td>1.32</td>\n",
       "      <td>3.26</td>\n",
       "      <td>1.752</td>\n",
       "      <td>492</td>\n",
       "    </tr>\n",
       "    <tr>\n",
       "      <th>4</th>\n",
       "      <td>2019-12-13 00:00:00+00:00</td>\n",
       "      <td>0.45</td>\n",
       "      <td>6.89</td>\n",
       "      <td>1.18</td>\n",
       "      <td>0.86</td>\n",
       "      <td>1.63</td>\n",
       "      <td>0.724</td>\n",
       "      <td>565</td>\n",
       "    </tr>\n",
       "    <tr>\n",
       "      <th>...</th>\n",
       "      <td>...</td>\n",
       "      <td>...</td>\n",
       "      <td>...</td>\n",
       "      <td>...</td>\n",
       "      <td>...</td>\n",
       "      <td>...</td>\n",
       "      <td>...</td>\n",
       "      <td>...</td>\n",
       "    </tr>\n",
       "    <tr>\n",
       "      <th>1780</th>\n",
       "      <td>2024-11-01 00:00:00+00:00</td>\n",
       "      <td>1.12</td>\n",
       "      <td>14.50</td>\n",
       "      <td>5.30</td>\n",
       "      <td>3.00</td>\n",
       "      <td>6.70</td>\n",
       "      <td>3.245</td>\n",
       "      <td>569</td>\n",
       "    </tr>\n",
       "    <tr>\n",
       "      <th>1781</th>\n",
       "      <td>2024-11-02 00:00:00+00:00</td>\n",
       "      <td>2.60</td>\n",
       "      <td>17.32</td>\n",
       "      <td>8.60</td>\n",
       "      <td>6.47</td>\n",
       "      <td>10.70</td>\n",
       "      <td>2.775</td>\n",
       "      <td>567</td>\n",
       "    </tr>\n",
       "    <tr>\n",
       "      <th>1782</th>\n",
       "      <td>2024-11-03 00:00:00+00:00</td>\n",
       "      <td>3.77</td>\n",
       "      <td>15.40</td>\n",
       "      <td>7.40</td>\n",
       "      <td>5.97</td>\n",
       "      <td>8.68</td>\n",
       "      <td>1.780</td>\n",
       "      <td>569</td>\n",
       "    </tr>\n",
       "    <tr>\n",
       "      <th>1783</th>\n",
       "      <td>2024-11-04 00:00:00+00:00</td>\n",
       "      <td>2.50</td>\n",
       "      <td>13.50</td>\n",
       "      <td>6.42</td>\n",
       "      <td>5.10</td>\n",
       "      <td>8.27</td>\n",
       "      <td>2.281</td>\n",
       "      <td>538</td>\n",
       "    </tr>\n",
       "    <tr>\n",
       "      <th>1784</th>\n",
       "      <td>2024-11-05 00:00:00+00:00</td>\n",
       "      <td>4.87</td>\n",
       "      <td>9.70</td>\n",
       "      <td>7.10</td>\n",
       "      <td>6.67</td>\n",
       "      <td>7.67</td>\n",
       "      <td>0.842</td>\n",
       "      <td>81</td>\n",
       "    </tr>\n",
       "  </tbody>\n",
       "</table>\n",
       "<p>1785 rows × 8 columns</p>\n",
       "</div>"
      ]
     },
     "execution_count": 4,
     "metadata": {},
     "output_type": "execute_result"
    }
   ],
   "execution_count": 4
  },
  {
   "cell_type": "code",
   "id": "661d953a",
   "metadata": {
    "ExecuteTime": {
     "end_time": "2024-11-05T12:43:47.075030Z",
     "start_time": "2024-11-05T12:43:47.056703Z"
    }
   },
   "source": [
    "df.info()"
   ],
   "outputs": [
    {
     "name": "stdout",
     "output_type": "stream",
     "text": [
      "<class 'pandas.core.frame.DataFrame'>\n",
      "RangeIndex: 1785 entries, 0 to 1784\n",
      "Data columns (total 8 columns):\n",
      " #   Column  Non-Null Count  Dtype              \n",
      "---  ------  --------------  -----              \n",
      " 0   date    1785 non-null   datetime64[ns, UTC]\n",
      " 1   min     1785 non-null   float64            \n",
      " 2   max     1785 non-null   float64            \n",
      " 3   pm25    1785 non-null   float64            \n",
      " 4   q1      1785 non-null   float64            \n",
      " 5   q3      1785 non-null   float64            \n",
      " 6   stdev   1785 non-null   float64            \n",
      " 7   count   1785 non-null   int64              \n",
      "dtypes: datetime64[ns, UTC](1), float64(6), int64(1)\n",
      "memory usage: 111.7 KB\n"
     ]
    }
   ],
   "execution_count": 5
  },
  {
   "cell_type": "code",
   "id": "154cbf29",
   "metadata": {
    "ExecuteTime": {
     "end_time": "2024-11-05T12:58:29.373812Z",
     "start_time": "2024-11-05T12:58:27.547699Z"
    }
   },
   "source": [
    "from notebooks.utils.functions import *\n",
    "\n",
    "df2 = df[['date', 'pm25']]\n",
    "df2['city']=city\n",
    "df2['street']=street\n",
    "\n",
    "latitude, longitude = get_city_coordinates(city)"
   ],
   "outputs": [
    {
     "name": "stdout",
     "output_type": "stream",
     "text": [
      "2024-11-05 13:58:28,714 WARNING: Retrying (Retry(total=1, connect=None, read=None, redirect=None, status=None)) after connection broken by 'ReadTimeoutError(\"HTTPSConnectionPool(host='nominatim.openstreetmap.org', port=443): Read timed out. (read timeout=1)\")': /search?q=reutlingen&format=json&limit=1\n"
     ]
    }
   ],
   "execution_count": 26
  },
  {
   "cell_type": "code",
   "id": "61ef101b",
   "metadata": {
    "ExecuteTime": {
     "end_time": "2024-11-05T12:45:55.781023Z",
     "start_time": "2024-11-05T12:45:55.763620Z"
    }
   },
   "source": [
    "df2['pm25'] = df2['pm25'].astype('float32')\n",
    "df2[\"pm25_yesterday\"] = df2[\"pm25\"].shift(1)\n",
    "df2"
   ],
   "outputs": [
    {
     "data": {
      "text/plain": [
       "                          date  pm25        city           street  \\\n",
       "0    2019-12-09 00:00:00+00:00  0.82  reutlingen  Zaisentalstraße   \n",
       "1    2019-12-10 00:00:00+00:00  2.63  reutlingen  Zaisentalstraße   \n",
       "2    2019-12-11 00:00:00+00:00  5.27  reutlingen  Zaisentalstraße   \n",
       "3    2019-12-12 00:00:00+00:00  2.31  reutlingen  Zaisentalstraße   \n",
       "4    2019-12-13 00:00:00+00:00  1.18  reutlingen  Zaisentalstraße   \n",
       "...                        ...   ...         ...              ...   \n",
       "1780 2024-11-01 00:00:00+00:00  5.30  reutlingen  Zaisentalstraße   \n",
       "1781 2024-11-02 00:00:00+00:00  8.60  reutlingen  Zaisentalstraße   \n",
       "1782 2024-11-03 00:00:00+00:00  7.40  reutlingen  Zaisentalstraße   \n",
       "1783 2024-11-04 00:00:00+00:00  6.42  reutlingen  Zaisentalstraße   \n",
       "1784 2024-11-05 00:00:00+00:00  7.10  reutlingen  Zaisentalstraße   \n",
       "\n",
       "      pm25_yesterday  \n",
       "0                NaN  \n",
       "1               0.82  \n",
       "2               2.63  \n",
       "3               5.27  \n",
       "4               2.31  \n",
       "...              ...  \n",
       "1780            5.55  \n",
       "1781            5.30  \n",
       "1782            8.60  \n",
       "1783            7.40  \n",
       "1784            6.42  \n",
       "\n",
       "[1785 rows x 5 columns]"
      ],
      "text/html": [
       "<div>\n",
       "<style scoped>\n",
       "    .dataframe tbody tr th:only-of-type {\n",
       "        vertical-align: middle;\n",
       "    }\n",
       "\n",
       "    .dataframe tbody tr th {\n",
       "        vertical-align: top;\n",
       "    }\n",
       "\n",
       "    .dataframe thead th {\n",
       "        text-align: right;\n",
       "    }\n",
       "</style>\n",
       "<table border=\"1\" class=\"dataframe\">\n",
       "  <thead>\n",
       "    <tr style=\"text-align: right;\">\n",
       "      <th></th>\n",
       "      <th>date</th>\n",
       "      <th>pm25</th>\n",
       "      <th>city</th>\n",
       "      <th>street</th>\n",
       "      <th>pm25_yesterday</th>\n",
       "    </tr>\n",
       "  </thead>\n",
       "  <tbody>\n",
       "    <tr>\n",
       "      <th>0</th>\n",
       "      <td>2019-12-09 00:00:00+00:00</td>\n",
       "      <td>0.82</td>\n",
       "      <td>reutlingen</td>\n",
       "      <td>Zaisentalstraße</td>\n",
       "      <td>NaN</td>\n",
       "    </tr>\n",
       "    <tr>\n",
       "      <th>1</th>\n",
       "      <td>2019-12-10 00:00:00+00:00</td>\n",
       "      <td>2.63</td>\n",
       "      <td>reutlingen</td>\n",
       "      <td>Zaisentalstraße</td>\n",
       "      <td>0.82</td>\n",
       "    </tr>\n",
       "    <tr>\n",
       "      <th>2</th>\n",
       "      <td>2019-12-11 00:00:00+00:00</td>\n",
       "      <td>5.27</td>\n",
       "      <td>reutlingen</td>\n",
       "      <td>Zaisentalstraße</td>\n",
       "      <td>2.63</td>\n",
       "    </tr>\n",
       "    <tr>\n",
       "      <th>3</th>\n",
       "      <td>2019-12-12 00:00:00+00:00</td>\n",
       "      <td>2.31</td>\n",
       "      <td>reutlingen</td>\n",
       "      <td>Zaisentalstraße</td>\n",
       "      <td>5.27</td>\n",
       "    </tr>\n",
       "    <tr>\n",
       "      <th>4</th>\n",
       "      <td>2019-12-13 00:00:00+00:00</td>\n",
       "      <td>1.18</td>\n",
       "      <td>reutlingen</td>\n",
       "      <td>Zaisentalstraße</td>\n",
       "      <td>2.31</td>\n",
       "    </tr>\n",
       "    <tr>\n",
       "      <th>...</th>\n",
       "      <td>...</td>\n",
       "      <td>...</td>\n",
       "      <td>...</td>\n",
       "      <td>...</td>\n",
       "      <td>...</td>\n",
       "    </tr>\n",
       "    <tr>\n",
       "      <th>1780</th>\n",
       "      <td>2024-11-01 00:00:00+00:00</td>\n",
       "      <td>5.30</td>\n",
       "      <td>reutlingen</td>\n",
       "      <td>Zaisentalstraße</td>\n",
       "      <td>5.55</td>\n",
       "    </tr>\n",
       "    <tr>\n",
       "      <th>1781</th>\n",
       "      <td>2024-11-02 00:00:00+00:00</td>\n",
       "      <td>8.60</td>\n",
       "      <td>reutlingen</td>\n",
       "      <td>Zaisentalstraße</td>\n",
       "      <td>5.30</td>\n",
       "    </tr>\n",
       "    <tr>\n",
       "      <th>1782</th>\n",
       "      <td>2024-11-03 00:00:00+00:00</td>\n",
       "      <td>7.40</td>\n",
       "      <td>reutlingen</td>\n",
       "      <td>Zaisentalstraße</td>\n",
       "      <td>8.60</td>\n",
       "    </tr>\n",
       "    <tr>\n",
       "      <th>1783</th>\n",
       "      <td>2024-11-04 00:00:00+00:00</td>\n",
       "      <td>6.42</td>\n",
       "      <td>reutlingen</td>\n",
       "      <td>Zaisentalstraße</td>\n",
       "      <td>7.40</td>\n",
       "    </tr>\n",
       "    <tr>\n",
       "      <th>1784</th>\n",
       "      <td>2024-11-05 00:00:00+00:00</td>\n",
       "      <td>7.10</td>\n",
       "      <td>reutlingen</td>\n",
       "      <td>Zaisentalstraße</td>\n",
       "      <td>6.42</td>\n",
       "    </tr>\n",
       "  </tbody>\n",
       "</table>\n",
       "<p>1785 rows × 5 columns</p>\n",
       "</div>"
      ]
     },
     "execution_count": 8,
     "metadata": {},
     "output_type": "execute_result"
    }
   ],
   "execution_count": 8
  },
  {
   "cell_type": "code",
   "id": "f9a76f69",
   "metadata": {
    "ExecuteTime": {
     "end_time": "2024-11-05T12:50:33.961943Z",
     "start_time": "2024-11-05T12:50:33.939169Z"
    }
   },
   "source": [
    "df2.dropna(inplace=True)\n",
    "df2"
   ],
   "outputs": [
    {
     "data": {
      "text/plain": [
       "                          date  pm25        city           street  \\\n",
       "1    2019-12-10 00:00:00+00:00  2.63  reutlingen  Zaisentalstraße   \n",
       "2    2019-12-11 00:00:00+00:00  5.27  reutlingen  Zaisentalstraße   \n",
       "3    2019-12-12 00:00:00+00:00  2.31  reutlingen  Zaisentalstraße   \n",
       "4    2019-12-13 00:00:00+00:00  1.18  reutlingen  Zaisentalstraße   \n",
       "5    2019-12-14 00:00:00+00:00  1.02  reutlingen  Zaisentalstraße   \n",
       "...                        ...   ...         ...              ...   \n",
       "1780 2024-11-01 00:00:00+00:00  5.30  reutlingen  Zaisentalstraße   \n",
       "1781 2024-11-02 00:00:00+00:00  8.60  reutlingen  Zaisentalstraße   \n",
       "1782 2024-11-03 00:00:00+00:00  7.40  reutlingen  Zaisentalstraße   \n",
       "1783 2024-11-04 00:00:00+00:00  6.42  reutlingen  Zaisentalstraße   \n",
       "1784 2024-11-05 00:00:00+00:00  7.10  reutlingen  Zaisentalstraße   \n",
       "\n",
       "      pm25_yesterday  \n",
       "1               0.82  \n",
       "2               2.63  \n",
       "3               5.27  \n",
       "4               2.31  \n",
       "5               1.18  \n",
       "...              ...  \n",
       "1780            5.55  \n",
       "1781            5.30  \n",
       "1782            8.60  \n",
       "1783            7.40  \n",
       "1784            6.42  \n",
       "\n",
       "[1784 rows x 5 columns]"
      ],
      "text/html": [
       "<div>\n",
       "<style scoped>\n",
       "    .dataframe tbody tr th:only-of-type {\n",
       "        vertical-align: middle;\n",
       "    }\n",
       "\n",
       "    .dataframe tbody tr th {\n",
       "        vertical-align: top;\n",
       "    }\n",
       "\n",
       "    .dataframe thead th {\n",
       "        text-align: right;\n",
       "    }\n",
       "</style>\n",
       "<table border=\"1\" class=\"dataframe\">\n",
       "  <thead>\n",
       "    <tr style=\"text-align: right;\">\n",
       "      <th></th>\n",
       "      <th>date</th>\n",
       "      <th>pm25</th>\n",
       "      <th>city</th>\n",
       "      <th>street</th>\n",
       "      <th>pm25_yesterday</th>\n",
       "    </tr>\n",
       "  </thead>\n",
       "  <tbody>\n",
       "    <tr>\n",
       "      <th>1</th>\n",
       "      <td>2019-12-10 00:00:00+00:00</td>\n",
       "      <td>2.63</td>\n",
       "      <td>reutlingen</td>\n",
       "      <td>Zaisentalstraße</td>\n",
       "      <td>0.82</td>\n",
       "    </tr>\n",
       "    <tr>\n",
       "      <th>2</th>\n",
       "      <td>2019-12-11 00:00:00+00:00</td>\n",
       "      <td>5.27</td>\n",
       "      <td>reutlingen</td>\n",
       "      <td>Zaisentalstraße</td>\n",
       "      <td>2.63</td>\n",
       "    </tr>\n",
       "    <tr>\n",
       "      <th>3</th>\n",
       "      <td>2019-12-12 00:00:00+00:00</td>\n",
       "      <td>2.31</td>\n",
       "      <td>reutlingen</td>\n",
       "      <td>Zaisentalstraße</td>\n",
       "      <td>5.27</td>\n",
       "    </tr>\n",
       "    <tr>\n",
       "      <th>4</th>\n",
       "      <td>2019-12-13 00:00:00+00:00</td>\n",
       "      <td>1.18</td>\n",
       "      <td>reutlingen</td>\n",
       "      <td>Zaisentalstraße</td>\n",
       "      <td>2.31</td>\n",
       "    </tr>\n",
       "    <tr>\n",
       "      <th>5</th>\n",
       "      <td>2019-12-14 00:00:00+00:00</td>\n",
       "      <td>1.02</td>\n",
       "      <td>reutlingen</td>\n",
       "      <td>Zaisentalstraße</td>\n",
       "      <td>1.18</td>\n",
       "    </tr>\n",
       "    <tr>\n",
       "      <th>...</th>\n",
       "      <td>...</td>\n",
       "      <td>...</td>\n",
       "      <td>...</td>\n",
       "      <td>...</td>\n",
       "      <td>...</td>\n",
       "    </tr>\n",
       "    <tr>\n",
       "      <th>1780</th>\n",
       "      <td>2024-11-01 00:00:00+00:00</td>\n",
       "      <td>5.30</td>\n",
       "      <td>reutlingen</td>\n",
       "      <td>Zaisentalstraße</td>\n",
       "      <td>5.55</td>\n",
       "    </tr>\n",
       "    <tr>\n",
       "      <th>1781</th>\n",
       "      <td>2024-11-02 00:00:00+00:00</td>\n",
       "      <td>8.60</td>\n",
       "      <td>reutlingen</td>\n",
       "      <td>Zaisentalstraße</td>\n",
       "      <td>5.30</td>\n",
       "    </tr>\n",
       "    <tr>\n",
       "      <th>1782</th>\n",
       "      <td>2024-11-03 00:00:00+00:00</td>\n",
       "      <td>7.40</td>\n",
       "      <td>reutlingen</td>\n",
       "      <td>Zaisentalstraße</td>\n",
       "      <td>8.60</td>\n",
       "    </tr>\n",
       "    <tr>\n",
       "      <th>1783</th>\n",
       "      <td>2024-11-04 00:00:00+00:00</td>\n",
       "      <td>6.42</td>\n",
       "      <td>reutlingen</td>\n",
       "      <td>Zaisentalstraße</td>\n",
       "      <td>7.40</td>\n",
       "    </tr>\n",
       "    <tr>\n",
       "      <th>1784</th>\n",
       "      <td>2024-11-05 00:00:00+00:00</td>\n",
       "      <td>7.10</td>\n",
       "      <td>reutlingen</td>\n",
       "      <td>Zaisentalstraße</td>\n",
       "      <td>6.42</td>\n",
       "    </tr>\n",
       "  </tbody>\n",
       "</table>\n",
       "<p>1784 rows × 5 columns</p>\n",
       "</div>"
      ]
     },
     "execution_count": 9,
     "metadata": {},
     "output_type": "execute_result"
    }
   ],
   "execution_count": 9
  },
  {
   "cell_type": "code",
   "id": "0d8c8102",
   "metadata": {
    "ExecuteTime": {
     "end_time": "2024-11-05T12:50:41.867236Z",
     "start_time": "2024-11-05T12:50:41.856368Z"
    }
   },
   "source": [
    "earliest_aq_date = pd.Series.min(df2['date'])"
   ],
   "outputs": [],
   "execution_count": 10
  },
  {
   "cell_type": "code",
   "id": "e5506a8d",
   "metadata": {
    "ExecuteTime": {
     "end_time": "2024-11-05T12:50:44.436223Z",
     "start_time": "2024-11-05T12:50:44.431440Z"
    }
   },
   "source": [
    "earliest_aq_date = earliest_aq_date.strftime('%Y-%m-%d')\n",
    "earliest_aq_date"
   ],
   "outputs": [
    {
     "data": {
      "text/plain": [
       "'2019-12-10'"
      ]
     },
     "execution_count": 11,
     "metadata": {},
     "output_type": "execute_result"
    }
   ],
   "execution_count": 11
  },
  {
   "cell_type": "code",
   "id": "97979ad6",
   "metadata": {
    "ExecuteTime": {
     "end_time": "2024-11-05T12:50:46.825396Z",
     "start_time": "2024-11-05T12:50:46.816053Z"
    }
   },
   "source": [
    "df_air_quality=df2\n",
    "df_air_quality.info()"
   ],
   "outputs": [
    {
     "name": "stdout",
     "output_type": "stream",
     "text": [
      "<class 'pandas.core.frame.DataFrame'>\n",
      "Index: 1784 entries, 1 to 1784\n",
      "Data columns (total 5 columns):\n",
      " #   Column          Non-Null Count  Dtype              \n",
      "---  ------          --------------  -----              \n",
      " 0   date            1784 non-null   datetime64[ns, UTC]\n",
      " 1   pm25            1784 non-null   float32            \n",
      " 2   city            1784 non-null   object             \n",
      " 3   street          1784 non-null   object             \n",
      " 4   pm25_yesterday  1784 non-null   float32            \n",
      "dtypes: datetime64[ns, UTC](1), float32(2), object(2)\n",
      "memory usage: 69.7+ KB\n"
     ]
    }
   ],
   "execution_count": 12
  },
  {
   "cell_type": "markdown",
   "id": "534ee4b1",
   "metadata": {
    "tags": []
   },
   "source": [
    "### <span style=\"color:#ff5f27;\">🛠 Feature Engineering</span>"
   ]
  },
  {
   "cell_type": "code",
   "id": "84b7130c",
   "metadata": {
    "tags": [],
    "ExecuteTime": {
     "end_time": "2024-11-05T12:50:54.655440Z",
     "start_time": "2024-11-05T12:50:54.649710Z"
    }
   },
   "source": [
    "# Print the shape (number of rows and columns) of the df_air_quality DataFrame\n",
    "df_air_quality.shape"
   ],
   "outputs": [
    {
     "data": {
      "text/plain": [
       "(1784, 5)"
      ]
     },
     "execution_count": 13,
     "metadata": {},
     "output_type": "execute_result"
    }
   ],
   "execution_count": 13
  },
  {
   "cell_type": "code",
   "id": "f79b756e",
   "metadata": {
    "tags": [],
    "ExecuteTime": {
     "end_time": "2024-11-05T12:51:15.783807Z",
     "start_time": "2024-11-05T12:51:15.778232Z"
    }
   },
   "source": [
    "# Retrieve and display the column names of the df_air_quality DataFrame\n",
    "df_air_quality.columns"
   ],
   "outputs": [
    {
     "data": {
      "text/plain": [
       "Index(['date', 'pm25', 'city', 'street', 'pm25_yesterday'], dtype='object')"
      ]
     },
     "execution_count": 14,
     "metadata": {},
     "output_type": "execute_result"
    }
   ],
   "execution_count": 14
  },
  {
   "cell_type": "markdown",
   "id": "b2ebde90",
   "metadata": {},
   "source": [
    "---"
   ]
  },
  {
   "cell_type": "markdown",
   "id": "d9957904",
   "metadata": {
    "tags": []
   },
   "source": [
    "## <span style='color:#ff5f27'> 🌦 Loading Weather Data from [Open Meteo](https://open-meteo.com/en/docs)"
   ]
  },
  {
   "cell_type": "markdown",
   "id": "a31021c1",
   "metadata": {},
   "source": [
    "## Instructions for weather\n",
    "https://open-meteo.com/en/docs/historical-weather-api#hourly=&daily=temperature_2m_mean,precipitation_sum,wind_speed_10m_max,wind_direction_10m_dominant"
   ]
  },
  {
   "cell_type": "code",
   "id": "67a84010",
   "metadata": {
    "ExecuteTime": {
     "end_time": "2024-11-05T12:51:51.153321Z",
     "start_time": "2024-11-05T12:51:49.918764Z"
    }
   },
   "source": [
    "weather_df = get_historical_weather(city, earliest_aq_date, str(today))"
   ],
   "outputs": [
    {
     "name": "stdout",
     "output_type": "stream",
     "text": [
      "Coordinates 48.47100067138672°N 9.075630187988281°E\n",
      "Elevation 385.0 m asl\n",
      "Timezone None None\n",
      "Timezone difference to GMT+0 0 s\n"
     ]
    }
   ],
   "execution_count": 15
  },
  {
   "cell_type": "code",
   "id": "413ccbcc",
   "metadata": {
    "ExecuteTime": {
     "end_time": "2024-11-05T12:53:00.230109Z",
     "start_time": "2024-11-05T12:53:00.218385Z"
    }
   },
   "source": [
    "weather_df.info()"
   ],
   "outputs": [
    {
     "name": "stdout",
     "output_type": "stream",
     "text": [
      "<class 'pandas.core.frame.DataFrame'>\n",
      "Index: 1791 entries, 0 to 1790\n",
      "Data columns (total 6 columns):\n",
      " #   Column                       Non-Null Count  Dtype         \n",
      "---  ------                       --------------  -----         \n",
      " 0   date                         1791 non-null   datetime64[ns]\n",
      " 1   temperature_2m_mean          1791 non-null   float32       \n",
      " 2   precipitation_sum            1791 non-null   float32       \n",
      " 3   wind_speed_10m_max           1791 non-null   float32       \n",
      " 4   wind_direction_10m_dominant  1791 non-null   float32       \n",
      " 5   city                         1791 non-null   object        \n",
      "dtypes: datetime64[ns](1), float32(4), object(1)\n",
      "memory usage: 70.0+ KB\n"
     ]
    }
   ],
   "execution_count": 16
  },
  {
   "cell_type": "code",
   "id": "027a6bb0",
   "metadata": {
    "ExecuteTime": {
     "end_time": "2024-11-05T12:54:06.596689Z",
     "start_time": "2024-11-05T12:54:06.588055Z"
    }
   },
   "source": [
    "import great_expectations as ge\n",
    "aq_expectation_suite = ge.core.ExpectationSuite(\n",
    "    expectation_suite_name=\"aq_expectation_suite\"\n",
    ")\n",
    "\n",
    "aq_expectation_suite.add_expectation(\n",
    "    ge.core.ExpectationConfiguration(\n",
    "        expectation_type=\"expect_column_min_to_be_between\",\n",
    "        kwargs={\n",
    "            \"column\":\"pm25\",\n",
    "            \"min_value\":-0.1,\n",
    "            \"max_value\":999.9,\n",
    "            \"strict_min\":True\n",
    "        }\n",
    "    )\n",
    ")"
   ],
   "outputs": [
    {
     "data": {
      "text/plain": [
       "{\"expectation_type\": \"expect_column_min_to_be_between\", \"kwargs\": {\"column\": \"pm25\", \"min_value\": -0.1, \"max_value\": 999.9, \"strict_min\": true}, \"meta\": {}}"
      ]
     },
     "execution_count": 17,
     "metadata": {},
     "output_type": "execute_result"
    }
   ],
   "execution_count": 17
  },
  {
   "cell_type": "code",
   "id": "200bb67f",
   "metadata": {
    "ExecuteTime": {
     "end_time": "2024-11-05T12:54:16.683486Z",
     "start_time": "2024-11-05T12:54:16.668879Z"
    }
   },
   "source": [
    "import great_expectations as ge\n",
    "weather_expectation_suite = ge.core.ExpectationSuite(\n",
    "    expectation_suite_name=\"weather_expectation_suite\"\n",
    ")\n",
    "\n",
    "def expect_greater_than_zero(col):\n",
    "    weather_expectation_suite.add_expectation(\n",
    "        ge.core.ExpectationConfiguration(\n",
    "            expectation_type=\"expect_column_min_to_be_between\",\n",
    "            kwargs={\n",
    "                \"column\":col,\n",
    "                \"min_value\":-0.1,\n",
    "                \"max_value\":1000.0,\n",
    "                \"strict_min\":True\n",
    "            }\n",
    "        )\n",
    "    )\n",
    "expect_greater_than_zero(\"precipitation_sum\")\n",
    "expect_greater_than_zero(\"wind_speed_10m_max\")"
   ],
   "outputs": [],
   "execution_count": 18
  },
  {
   "cell_type": "markdown",
   "id": "d78fdb0e",
   "metadata": {},
   "source": [
    "---"
   ]
  },
  {
   "cell_type": "markdown",
   "id": "0c6d7b77",
   "metadata": {},
   "source": [
    "---"
   ]
  },
  {
   "cell_type": "markdown",
   "id": "6f3ed9f8",
   "metadata": {},
   "source": [
    "### <span style=\"color:#ff5f27;\"> 🔮 Connecting to Hopsworks Feature Store </span>"
   ]
  },
  {
   "cell_type": "code",
   "id": "20757217",
   "metadata": {
    "ExecuteTime": {
     "end_time": "2024-11-05T12:54:38.464958Z",
     "start_time": "2024-11-05T12:54:22.126490Z"
    }
   },
   "source": [
    "import hopsworks\n",
    "\n",
    "project = hopsworks.login()\n",
    "\n",
    "fs = project.get_feature_store() "
   ],
   "outputs": [
    {
     "name": "stdout",
     "output_type": "stream",
     "text": [
      "Copy your Api Key (first register/login): https://c.app.hopsworks.ai/account/api/generated\n",
      "Connected. Call `.close()` to terminate connection gracefully.\n",
      "\n",
      "Logged in to project, explore it here https://c.app.hopsworks.ai:443/p/1157271\n",
      "Connected. Call `.close()` to terminate connection gracefully.\n"
     ]
    }
   ],
   "execution_count": 19
  },
  {
   "cell_type": "markdown",
   "id": "dedf2ca3",
   "metadata": {},
   "source": [
    "## <span style=\"color:#ff5f27;\">🪄 Creating Feature Groups</span>"
   ]
  },
  {
   "cell_type": "markdown",
   "id": "04232810",
   "metadata": {},
   "source": [
    "### <span style='color:#ff5f27'> 🌫 Air Quality Data"
   ]
  },
  {
   "cell_type": "code",
   "id": "31bf5aa3",
   "metadata": {
    "scrolled": true,
    "tags": [],
    "ExecuteTime": {
     "end_time": "2024-11-05T12:55:37.635171Z",
     "start_time": "2024-11-05T12:55:37.479228Z"
    }
   },
   "source": [
    "# Get or create feature group\n",
    "air_quality_fg = fs.get_or_create_feature_group(\n",
    "    name='air_quality',\n",
    "    description='Air Quality characteristics of each day',\n",
    "    version=1,\n",
    "    primary_key=['city','street','date'],\n",
    "    event_time=\"date\",\n",
    "    expectation_suite=aq_expectation_suite\n",
    ")    "
   ],
   "outputs": [],
   "execution_count": 20
  },
  {
   "cell_type": "code",
   "id": "7dd91383",
   "metadata": {
    "ExecuteTime": {
     "end_time": "2024-11-05T12:56:14.384529Z",
     "start_time": "2024-11-05T12:56:02.589098Z"
    }
   },
   "source": [
    "# Insert data\n",
    "air_quality_fg.insert(df_air_quality)"
   ],
   "outputs": [
    {
     "name": "stdout",
     "output_type": "stream",
     "text": [
      "Feature Group created successfully, explore it at \n",
      "https://c.app.hopsworks.ai:443/p/1157271/fs/1147974/fg/1336668\n",
      "2024-11-05 13:56:04,414 INFO: \t1 expectation(s) included in expectation_suite.\n",
      "Validation succeeded.\n",
      "Validation Report saved successfully, explore a summary at https://c.app.hopsworks.ai:443/p/1157271/fs/1147974/fg/1336668\n"
     ]
    },
    {
     "data": {
      "text/plain": [
       "Uploading Dataframe: 0.00% |          | Rows 0/1784 | Elapsed Time: 00:00 | Remaining Time: ?"
      ],
      "application/vnd.jupyter.widget-view+json": {
       "version_major": 2,
       "version_minor": 0,
       "model_id": "bcf572e6ceaf4a2f8430f65b52b0fdae"
      }
     },
     "metadata": {},
     "output_type": "display_data"
    },
    {
     "name": "stdout",
     "output_type": "stream",
     "text": [
      "Launching job: air_quality_1_offline_fg_materialization\n",
      "Job started successfully, you can follow the progress at \n",
      "https://c.app.hopsworks.ai/p/1157271/jobs/named/air_quality_1_offline_fg_materialization/executions\n"
     ]
    },
    {
     "data": {
      "text/plain": [
       "(<hsfs.core.job.Job at 0x151c98ed550>,\n",
       " {\n",
       "   \"success\": true,\n",
       "   \"results\": [\n",
       "     {\n",
       "       \"success\": true,\n",
       "       \"expectation_config\": {\n",
       "         \"expectation_type\": \"expect_column_min_to_be_between\",\n",
       "         \"kwargs\": {\n",
       "           \"column\": \"pm25\",\n",
       "           \"min_value\": -0.1,\n",
       "           \"max_value\": 999.9,\n",
       "           \"strict_min\": true\n",
       "         },\n",
       "         \"meta\": {\n",
       "           \"expectationId\": 659460\n",
       "         }\n",
       "       },\n",
       "       \"result\": {\n",
       "         \"observed_value\": 0.550000011920929,\n",
       "         \"element_count\": 1784,\n",
       "         \"missing_count\": null,\n",
       "         \"missing_percent\": null\n",
       "       },\n",
       "       \"meta\": {\n",
       "         \"ingestionResult\": \"INGESTED\",\n",
       "         \"validationTime\": \"2024-11-05T12:56:04.000414Z\"\n",
       "       },\n",
       "       \"exception_info\": {\n",
       "         \"raised_exception\": false,\n",
       "         \"exception_message\": null,\n",
       "         \"exception_traceback\": null\n",
       "       }\n",
       "     }\n",
       "   ],\n",
       "   \"evaluation_parameters\": {},\n",
       "   \"statistics\": {\n",
       "     \"evaluated_expectations\": 1,\n",
       "     \"successful_expectations\": 1,\n",
       "     \"unsuccessful_expectations\": 0,\n",
       "     \"success_percent\": 100.0\n",
       "   },\n",
       "   \"meta\": {\n",
       "     \"great_expectations_version\": \"0.18.12\",\n",
       "     \"expectation_suite_name\": \"aq_expectation_suite\",\n",
       "     \"run_id\": {\n",
       "       \"run_name\": null,\n",
       "       \"run_time\": \"2024-11-05T13:56:04.414225+01:00\"\n",
       "     },\n",
       "     \"batch_kwargs\": {\n",
       "       \"ge_batch_id\": \"50fefead-9b75-11ef-a8ec-106fd9a0c81d\"\n",
       "     },\n",
       "     \"batch_markers\": {},\n",
       "     \"batch_parameters\": {},\n",
       "     \"validation_time\": \"20241105T125604.414225Z\",\n",
       "     \"expectation_suite_meta\": {\n",
       "       \"great_expectations_version\": \"0.18.12\"\n",
       "     }\n",
       "   }\n",
       " })"
      ]
     },
     "execution_count": 21,
     "metadata": {},
     "output_type": "execute_result"
    }
   ],
   "execution_count": 21
  },
  {
   "cell_type": "code",
   "id": "f0803758",
   "metadata": {
    "ExecuteTime": {
     "end_time": "2024-11-05T12:56:56.531030Z",
     "start_time": "2024-11-05T12:56:54.767388Z"
    }
   },
   "source": [
    "air_quality_fg.update_feature_description(\"date\", \"Date of measurement of air quality\")\n",
    "air_quality_fg.update_feature_description(\"city\", \"Place where the air quality was measured (sometimes a country in acqcn.org)\")\n",
    "air_quality_fg.update_feature_description(\"street\", \"Street in the city where the air quality was measured\")\n",
    "air_quality_fg.update_feature_description(\"pm25\", \"Particles less than 2.5 micrometers in diameter (fine particles) pose health risk\")"
   ],
   "outputs": [
    {
     "data": {
      "text/plain": [
       "<hsfs.feature_group.FeatureGroup at 0x151c96fab10>"
      ]
     },
     "execution_count": 22,
     "metadata": {},
     "output_type": "execute_result"
    }
   ],
   "execution_count": 22
  },
  {
   "cell_type": "markdown",
   "id": "d84bf3cb",
   "metadata": {},
   "source": [
    "### <span style='color:#ff5f27'> 🌦 Weather Data"
   ]
  },
  {
   "cell_type": "code",
   "id": "608510f4",
   "metadata": {
    "ExecuteTime": {
     "end_time": "2024-11-05T12:57:07.901108Z",
     "start_time": "2024-11-05T12:57:07.744752Z"
    }
   },
   "source": [
    "# Get or create feature group \n",
    "weather_fg = fs.get_or_create_feature_group(\n",
    "    name='weather',\n",
    "    description='Weather characteristics of each day',\n",
    "    version=1,\n",
    "    primary_key=['city','date'],\n",
    "    event_time=\"date\",\n",
    "    expectation_suite=weather_expectation_suite\n",
    ") "
   ],
   "outputs": [],
   "execution_count": 23
  },
  {
   "cell_type": "code",
   "id": "4f5a0dea",
   "metadata": {
    "tags": [],
    "ExecuteTime": {
     "end_time": "2024-11-05T12:57:20.480170Z",
     "start_time": "2024-11-05T12:57:09.390868Z"
    }
   },
   "source": [
    "# Insert data\n",
    "weather_fg.insert(weather_df)"
   ],
   "outputs": [
    {
     "name": "stdout",
     "output_type": "stream",
     "text": [
      "Feature Group created successfully, explore it at \n",
      "https://c.app.hopsworks.ai:443/p/1157271/fs/1147974/fg/1336669\n",
      "2024-11-05 13:57:10,818 INFO: \t2 expectation(s) included in expectation_suite.\n",
      "Validation succeeded.\n",
      "Validation Report saved successfully, explore a summary at https://c.app.hopsworks.ai:443/p/1157271/fs/1147974/fg/1336669\n"
     ]
    },
    {
     "data": {
      "text/plain": [
       "Uploading Dataframe: 0.00% |          | Rows 0/1791 | Elapsed Time: 00:00 | Remaining Time: ?"
      ],
      "application/vnd.jupyter.widget-view+json": {
       "version_major": 2,
       "version_minor": 0,
       "model_id": "e488358a99904e4d9a9e06dd227f0941"
      }
     },
     "metadata": {},
     "output_type": "display_data"
    },
    {
     "name": "stdout",
     "output_type": "stream",
     "text": [
      "Launching job: weather_1_offline_fg_materialization\n",
      "Job started successfully, you can follow the progress at \n",
      "https://c.app.hopsworks.ai/p/1157271/jobs/named/weather_1_offline_fg_materialization/executions\n"
     ]
    },
    {
     "data": {
      "text/plain": [
       "(<hsfs.core.job.Job at 0x151c96fa390>,\n",
       " {\n",
       "   \"success\": true,\n",
       "   \"results\": [\n",
       "     {\n",
       "       \"success\": true,\n",
       "       \"expectation_config\": {\n",
       "         \"expectation_type\": \"expect_column_min_to_be_between\",\n",
       "         \"kwargs\": {\n",
       "           \"column\": \"wind_speed_10m_max\",\n",
       "           \"min_value\": -0.1,\n",
       "           \"max_value\": 1000.0,\n",
       "           \"strict_min\": true\n",
       "         },\n",
       "         \"meta\": {\n",
       "           \"expectationId\": 659461\n",
       "         }\n",
       "       },\n",
       "       \"result\": {\n",
       "         \"observed_value\": 4.33497428894043,\n",
       "         \"element_count\": 1791,\n",
       "         \"missing_count\": null,\n",
       "         \"missing_percent\": null\n",
       "       },\n",
       "       \"meta\": {\n",
       "         \"ingestionResult\": \"INGESTED\",\n",
       "         \"validationTime\": \"2024-11-05T12:57:10.000818Z\"\n",
       "       },\n",
       "       \"exception_info\": {\n",
       "         \"raised_exception\": false,\n",
       "         \"exception_message\": null,\n",
       "         \"exception_traceback\": null\n",
       "       }\n",
       "     },\n",
       "     {\n",
       "       \"success\": true,\n",
       "       \"expectation_config\": {\n",
       "         \"expectation_type\": \"expect_column_min_to_be_between\",\n",
       "         \"kwargs\": {\n",
       "           \"column\": \"precipitation_sum\",\n",
       "           \"min_value\": -0.1,\n",
       "           \"max_value\": 1000.0,\n",
       "           \"strict_min\": true\n",
       "         },\n",
       "         \"meta\": {\n",
       "           \"expectationId\": 659462\n",
       "         }\n",
       "       },\n",
       "       \"result\": {\n",
       "         \"observed_value\": 0.0,\n",
       "         \"element_count\": 1791,\n",
       "         \"missing_count\": null,\n",
       "         \"missing_percent\": null\n",
       "       },\n",
       "       \"meta\": {\n",
       "         \"ingestionResult\": \"INGESTED\",\n",
       "         \"validationTime\": \"2024-11-05T12:57:10.000818Z\"\n",
       "       },\n",
       "       \"exception_info\": {\n",
       "         \"raised_exception\": false,\n",
       "         \"exception_message\": null,\n",
       "         \"exception_traceback\": null\n",
       "       }\n",
       "     }\n",
       "   ],\n",
       "   \"evaluation_parameters\": {},\n",
       "   \"statistics\": {\n",
       "     \"evaluated_expectations\": 2,\n",
       "     \"successful_expectations\": 2,\n",
       "     \"unsuccessful_expectations\": 0,\n",
       "     \"success_percent\": 100.0\n",
       "   },\n",
       "   \"meta\": {\n",
       "     \"great_expectations_version\": \"0.18.12\",\n",
       "     \"expectation_suite_name\": \"weather_expectation_suite\",\n",
       "     \"run_id\": {\n",
       "       \"run_name\": null,\n",
       "       \"run_time\": \"2024-11-05T13:57:10.818344+01:00\"\n",
       "     },\n",
       "     \"batch_kwargs\": {\n",
       "       \"ge_batch_id\": \"78937595-9b75-11ef-8720-106fd9a0c81d\"\n",
       "     },\n",
       "     \"batch_markers\": {},\n",
       "     \"batch_parameters\": {},\n",
       "     \"validation_time\": \"20241105T125710.818344Z\",\n",
       "     \"expectation_suite_meta\": {\n",
       "       \"great_expectations_version\": \"0.18.12\"\n",
       "     }\n",
       "   }\n",
       " })"
      ]
     },
     "execution_count": 24,
     "metadata": {},
     "output_type": "execute_result"
    }
   ],
   "execution_count": 24
  },
  {
   "cell_type": "code",
   "id": "c2ec651c",
   "metadata": {
    "ExecuteTime": {
     "end_time": "2024-11-05T12:57:25.743474Z",
     "start_time": "2024-11-05T12:57:23.015392Z"
    }
   },
   "source": [
    "weather_fg.update_feature_description(\"date\", \"Date of measurement of weather\")\n",
    "weather_fg.update_feature_description(\"city\", \"City where weather is measured/forecast for\")\n",
    "weather_fg.update_feature_description(\"temperature_2m_mean\", \"Temperature in Celsius\")\n",
    "weather_fg.update_feature_description(\"precipitation_sum\", \"Precipitation (rain/snow) in mm\")\n",
    "weather_fg.update_feature_description(\"wind_speed_10m_max\", \"Wind speed at 10m abouve ground\")\n",
    "weather_fg.update_feature_description(\"wind_direction_10m_dominant\", \"Dominant Wind direction over the dayd\")"
   ],
   "outputs": [
    {
     "data": {
      "text/plain": [
       "<hsfs.feature_group.FeatureGroup at 0x151c97447d0>"
      ]
     },
     "execution_count": 25,
     "metadata": {},
     "output_type": "execute_result"
    }
   ],
   "execution_count": 25
  },
  {
   "cell_type": "markdown",
   "id": "a599d16b",
   "metadata": {},
   "source": [
    "## <span style=\"color:#ff5f27;\">⏭️ **Next:** Part 02: Feature Pipeline \n",
    " </span> \n",
    "\n",
    "In the following notebook you will parse data and insert it into Feature Groups."
   ]
  },
  {
   "cell_type": "markdown",
   "id": "36c5c37a",
   "metadata": {},
   "source": [
    "## <span style=\"color:#ff5f27;\">⏭️ **Exercises:** \n",
    " </span> \n",
    "    \n",
    "    * Add a rolling window of 3 days and 5 days for 'pm25'\n",
    "        df.set_index(\"date\").rolling(3).mean().head()\n"
   ]
  },
  {
   "cell_type": "code",
   "execution_count": null,
   "id": "9dbd981d",
   "metadata": {},
   "outputs": [],
   "source": []
  }
 ],
 "metadata": {
  "kernelspec": {
   "display_name": "Python 3",
   "language": "python",
   "name": "python3"
  },
  "language_info": {
   "codemirror_mode": {
    "name": "ipython",
    "version": 3
   },
   "file_extension": ".py",
   "mimetype": "text/x-python",
   "name": "python",
   "nbconvert_exporter": "python",
   "pygments_lexer": "ipython3",
   "version": "3.10.11"
  }
 },
 "nbformat": 4,
 "nbformat_minor": 5
}
