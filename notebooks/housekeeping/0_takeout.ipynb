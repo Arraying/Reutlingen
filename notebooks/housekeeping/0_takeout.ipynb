{
 "cells": [
  {
   "cell_type": "code",
   "id": "initial_id",
   "metadata": {
    "collapsed": true,
    "ExecuteTime": {
     "end_time": "2024-11-11T12:21:55.062588Z",
     "start_time": "2024-11-11T12:21:50.099306Z"
    }
   },
   "source": [
    "import hopsworks\n",
    "import os"
   ],
   "outputs": [],
   "execution_count": 1
  },
  {
   "metadata": {
    "ExecuteTime": {
     "end_time": "2024-11-11T12:22:03.537865Z",
     "start_time": "2024-11-11T12:22:01.084494Z"
    }
   },
   "cell_type": "code",
   "source": [
    "if os.environ.get(\"HOPSWORKS_API_KEY\") is None:\n",
    "    os.environ[\"HOPSWORKS_API_KEY\"] = open(\".hw_key\").read()\n",
    "\n",
    "project = hopsworks.login()\n",
    "fs = project.get_feature_store()"
   ],
   "id": "ff48e23bb8a63d2d",
   "outputs": [
    {
     "name": "stdout",
     "output_type": "stream",
     "text": [
      "Connected. Call `.close()` to terminate connection gracefully.\n",
      "\n",
      "Logged in to project, explore it here https://c.app.hopsworks.ai:443/p/1157271\n",
      "Connected. Call `.close()` to terminate connection gracefully.\n",
      "Connected. Call `.close()` to terminate connection gracefully.\n"
     ]
    }
   ],
   "execution_count": 2
  },
  {
   "metadata": {
    "ExecuteTime": {
     "end_time": "2024-11-11T12:25:43.638709Z",
     "start_time": "2024-11-11T12:25:41.049976Z"
    }
   },
   "cell_type": "code",
   "source": [
    "monitor_fg = fs.get_feature_group(\"aq_predictions\")\n",
    "monitor_df = monitor_fg.read()\n",
    "monitor_df.to_csv(\"aq_predictions.csv\", index=False)"
   ],
   "id": "fa01750e7c0f2e18",
   "outputs": [
    {
     "name": "stdout",
     "output_type": "stream",
     "text": [
      "2024-11-11 13:25:41,051 WARNING: VersionWarning: No version provided for getting feature group `aq_predictions`, defaulting to `1`.\n",
      "\n",
      "Finished: Reading data from Hopsworks, using Hopsworks Feature Query Service (0.79s) \n"
     ]
    }
   ],
   "execution_count": 8
  },
  {
   "metadata": {},
   "cell_type": "code",
   "outputs": [],
   "execution_count": null,
   "source": [
    "aq_fg = fs.get_feature_group(\"air_quality\")\n",
    "aq_df = aq_fg.read()\n",
    "monitor_df.to_csv(\"air_quality.csv\", index=False)"
   ],
   "id": "4ce04b821979c8b0"
  },
  {
   "metadata": {},
   "cell_type": "code",
   "outputs": [],
   "execution_count": null,
   "source": [
    "weather_fg = fs.get_feature_group(\"weather\")\n",
    "weather_df = weather_fg.read()\n",
    "weather_df.to_csv(\"weather.csv\", index=False)"
   ],
   "id": "25e308354b57f8c4"
  }
 ],
 "metadata": {
  "kernelspec": {
   "display_name": "Python 3",
   "language": "python",
   "name": "python3"
  },
  "language_info": {
   "codemirror_mode": {
    "name": "ipython",
    "version": 2
   },
   "file_extension": ".py",
   "mimetype": "text/x-python",
   "name": "python",
   "nbconvert_exporter": "python",
   "pygments_lexer": "ipython2",
   "version": "2.7.6"
  }
 },
 "nbformat": 4,
 "nbformat_minor": 5
}
