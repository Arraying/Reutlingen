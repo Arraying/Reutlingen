{
 "cells": [
  {
   "cell_type": "markdown",
   "source": [
    "# Setup"
   ],
   "metadata": {
    "collapsed": false
   }
  },
  {
   "cell_type": "code",
   "execution_count": 27,
   "metadata": {
    "collapsed": true
   },
   "outputs": [],
   "source": [
    "import datetime\n",
    "import time\n",
    "import requests\n",
    "import pandas as pd\n",
    "import hopsworks\n",
    "import json\n",
    "import os\n",
    "import warnings\n",
    "import openmeteo_requests\n",
    "warnings.filterwarnings(\"ignore\")"
   ]
  },
  {
   "cell_type": "code",
   "execution_count": 28,
   "outputs": [],
   "source": [
    "with open(\"data/hopsworks-token.txt\") as f:\n",
    "    hopsworks_api_key = f.read().rstrip()"
   ],
   "metadata": {
    "collapsed": false
   }
  },
  {
   "cell_type": "code",
   "execution_count": 29,
   "outputs": [
    {
     "name": "stdout",
     "output_type": "stream",
     "text": [
      "Connection closed.\n",
      "Connected. Call `.close()` to terminate connection gracefully.\n",
      "\n",
      "Logged in to project, explore it here https://c.app.hopsworks.ai:443/p/1160342\n",
      "Connected. Call `.close()` to terminate connection gracefully.\n",
      "Connected. Call `.close()` to terminate connection gracefully.\n"
     ]
    }
   ],
   "source": [
    "project = hopsworks.login(api_key_value=hopsworks_api_key)\n",
    "fs = project.get_feature_store()\n",
    "secrets = hopsworks.connection(host=\"c.app.hopsworks.ai\", api_key_value=hopsworks_api_key).get_secrets_api()"
   ],
   "metadata": {
    "collapsed": false
   }
  },
  {
   "cell_type": "code",
   "execution_count": 30,
   "outputs": [
    {
     "data": {
      "text/plain": "'{\"country\": \"germany\", \"city\": \"reutlingen\", \"street\": \"zaisentalstra\\\\u00dfe\", \"aqicn_url\": \"https://api.waqi.info/feed/A54451\", \"latitude\": 48.50052694662806, \"longitude\": 9.194111640132975}'"
     },
     "execution_count": 30,
     "metadata": {},
     "output_type": "execute_result"
    }
   ],
   "source": [
    "aqi_token = secrets.get_secret(\"AQI_API_KEY\").value\n",
    "location_str = secrets.get_secret(\"SENSOR_LOCATION_JSON\").value\n",
    "location = json.loads(location_str)\n",
    "\n",
    "country = location[\"country\"]\n",
    "city = location[\"city\"]\n",
    "street = location[\"street\"]\n",
    "aqicn_url = location[\"aqicn_url\"]\n",
    "latitude = location[\"latitude\"]\n",
    "longitude = location[\"longitude\"]\n",
    "\n",
    "today = datetime.date.today()\n",
    "location_str"
   ],
   "metadata": {
    "collapsed": false
   }
  },
  {
   "cell_type": "code",
   "execution_count": 31,
   "outputs": [],
   "source": [
    "air_quality_fg = fs.get_feature_group(\n",
    "    name='air_quality',\n",
    "    version=1,\n",
    ")\n",
    "weather_fg = fs.get_feature_group(\n",
    "    name='weather',\n",
    "    version=1,\n",
    ")"
   ],
   "metadata": {
    "collapsed": false
   }
  },
  {
   "cell_type": "markdown",
   "source": [
    "# Current air quality"
   ],
   "metadata": {
    "collapsed": false
   }
  },
  {
   "cell_type": "code",
   "execution_count": 32,
   "outputs": [
    {
     "name": "stdout",
     "output_type": "stream",
     "text": [
      "Finished: Reading data from Hopsworks, using Hopsworks Feature Query Service (1.11s) \n"
     ]
    }
   ],
   "source": [
    "current_data = air_quality_fg.read()\n",
    "current_data = current_data.sort_values(\"date\", ascending=False).head(3)\n",
    "lagged = current_data[\"pm25\"].mean()"
   ],
   "metadata": {
    "collapsed": false
   }
  },
  {
   "cell_type": "code",
   "execution_count": 33,
   "outputs": [
    {
     "name": "stdout",
     "output_type": "stream",
     "text": [
      "<class 'pandas.core.frame.DataFrame'>\n",
      "RangeIndex: 1 entries, 0 to 0\n",
      "Data columns (total 7 columns):\n",
      " #   Column   Non-Null Count  Dtype         \n",
      "---  ------   --------------  -----         \n",
      " 0   pm25     1 non-null      float64       \n",
      " 1   lagged   1 non-null      float64       \n",
      " 2   country  1 non-null      object        \n",
      " 3   city     1 non-null      object        \n",
      " 4   street   1 non-null      object        \n",
      " 5   date     1 non-null      datetime64[ns]\n",
      " 6   url      1 non-null      object        \n",
      "dtypes: datetime64[ns](1), float64(2), object(4)\n",
      "memory usage: 188.0+ bytes\n"
     ]
    }
   ],
   "source": [
    "air_quality_raw = requests.get(aqicn_url + \"?token=\" + aqi_token).json()\n",
    "assert air_quality_raw[\"status\"] == \"ok\"\n",
    "data = air_quality_raw[\"data\"]\n",
    "# Mostly taken from book.\n",
    "air_quality_df = pd.DataFrame()\n",
    "air_quality_df[\"pm25\"] = [data[\"iaqi\"].get(\"pm25\", {}).get(\"v\", None)]\n",
    "air_quality_df[\"pm25\"] = air_quality_df[\"pm25\"].astype(\"float64\")\n",
    "air_quality_df[\"lagged\"] = lagged\n",
    "air_quality_df[\"country\"] = country\n",
    "air_quality_df[\"city\"] = city\n",
    "air_quality_df[\"street\"] = street\n",
    "air_quality_df[\"date\"] = today\n",
    "air_quality_df[\"date\"] = pd.to_datetime(air_quality_df['date'])\n",
    "air_quality_df[\"url\"] = aqicn_url\n",
    "air_quality_df.info()"
   ],
   "metadata": {
    "collapsed": false
   }
  },
  {
   "cell_type": "markdown",
   "source": [
    "# Current weather forecast"
   ],
   "metadata": {
    "collapsed": false
   }
  },
  {
   "cell_type": "code",
   "execution_count": 34,
   "outputs": [],
   "source": [
    "om = openmeteo_requests.Client()\n",
    "openmeteo_url = \"https://api.open-meteo.com/v1/ecmwf\"\n",
    "today = datetime.date.today()"
   ],
   "metadata": {
    "collapsed": false
   }
  },
  {
   "cell_type": "code",
   "execution_count": 35,
   "outputs": [
    {
     "name": "stdout",
     "output_type": "stream",
     "text": [
      "Coordinates 48.75°N 9.25°E\n",
      "Elevation 378.0 m asl\n",
      "Timezone None None\n",
      "Timezone difference to GMT+0 0 s\n",
      "<class 'pandas.core.frame.DataFrame'>\n",
      "RangeIndex: 10 entries, 0 to 9\n",
      "Data columns (total 6 columns):\n",
      " #   Column                       Non-Null Count  Dtype         \n",
      "---  ------                       --------------  -----         \n",
      " 0   date                         10 non-null     datetime64[ns]\n",
      " 1   temperature_2m_mean          10 non-null     float32       \n",
      " 2   precipitation_sum            10 non-null     float32       \n",
      " 3   wind_speed_10m_max           10 non-null     float32       \n",
      " 4   wind_direction_10m_dominant  10 non-null     float32       \n",
      " 5   city                         10 non-null     object        \n",
      "dtypes: datetime64[ns](1), float32(4), object(1)\n",
      "memory usage: 452.0+ bytes\n"
     ]
    }
   ],
   "source": [
    "params = {\n",
    "    \"latitude\": latitude,\n",
    "    \"longitude\": longitude,\n",
    "    \"hourly\": [\"temperature_2m\", \"precipitation\", \"wind_speed_10m\", \"wind_direction_10m\"]\n",
    "}\n",
    "responses = om.weather_api(openmeteo_url, params=params)\n",
    "response = responses[0]\n",
    "print(f\"Coordinates {response.Latitude()}°N {response.Longitude()}°E\")\n",
    "print(f\"Elevation {response.Elevation()} m asl\")\n",
    "print(f\"Timezone {response.Timezone()} {response.TimezoneAbbreviation()}\")\n",
    "print(f\"Timezone difference to GMT+0 {response.UtcOffsetSeconds()} s\")\n",
    "# Stolen from the repository.\n",
    "hourly = response.Hourly()\n",
    "hourly_temperature_2m = hourly.Variables(0).ValuesAsNumpy()\n",
    "hourly_precipitation = hourly.Variables(1).ValuesAsNumpy()\n",
    "hourly_wind_speed_10m = hourly.Variables(2).ValuesAsNumpy()\n",
    "hourly_wind_direction_10m = hourly.Variables(3).ValuesAsNumpy()\n",
    "hourly_data = {\"date\": pd.date_range(\n",
    "    start=pd.to_datetime(hourly.Time(), unit=\"s\"),\n",
    "    end=pd.to_datetime(hourly.TimeEnd(), unit=\"s\"),\n",
    "    freq=pd.Timedelta(seconds=hourly.Interval()),\n",
    "    inclusive=\"left\"\n",
    "), \"temperature_2m_mean\": hourly_temperature_2m, \"precipitation_sum\": hourly_precipitation,\n",
    "    \"wind_speed_10m_max\": hourly_wind_speed_10m, \"wind_direction_10m_dominant\": hourly_wind_direction_10m}\n",
    "hourly_dataframe = pd.DataFrame(data = hourly_data)\n",
    "hourly_dataframe = hourly_dataframe.dropna()\n",
    "hourly_dataframe = hourly_dataframe.set_index(\"date\")\n",
    "daily_df = hourly_dataframe.between_time(\"11:59\", \"12:01\")\n",
    "daily_df = daily_df.reset_index()\n",
    "daily_df[\"date\"] = pd.to_datetime(daily_df[\"date\"]).dt.date\n",
    "daily_df[\"date\"] = pd.to_datetime(daily_df[\"date\"])\n",
    "daily_df[\"city\"] = city\n",
    "daily_df.info()"
   ],
   "metadata": {
    "collapsed": false
   }
  },
  {
   "cell_type": "markdown",
   "source": [
    "# Update feature store"
   ],
   "metadata": {
    "collapsed": false
   }
  },
  {
   "cell_type": "code",
   "execution_count": 36,
   "outputs": [
    {
     "name": "stdout",
     "output_type": "stream",
     "text": [
      "2024-11-08 13:16:46,685 INFO: \t1 expectation(s) included in expectation_suite.\n",
      "Validation succeeded.\n",
      "Validation Report saved successfully, explore a summary at https://c.app.hopsworks.ai:443/p/1160342/fs/1151045/fg/1341788\n"
     ]
    },
    {
     "data": {
      "text/plain": "Uploading Dataframe: 0.00% |          | Rows 0/1 | Elapsed Time: 00:00 | Remaining Time: ?",
      "application/vnd.jupyter.widget-view+json": {
       "version_major": 2,
       "version_minor": 0,
       "model_id": "caadaac647854e9eb77cf85a5fa78472"
      }
     },
     "metadata": {},
     "output_type": "display_data"
    },
    {
     "name": "stdout",
     "output_type": "stream",
     "text": [
      "Launching job: air_quality_1_offline_fg_materialization\n",
      "Job started successfully, you can follow the progress at \n",
      "https://c.app.hopsworks.ai/p/1160342/jobs/named/air_quality_1_offline_fg_materialization/executions\n"
     ]
    },
    {
     "data": {
      "text/plain": "(<hsfs.core.job.Job at 0x28e3bca70>,\n {\n   \"success\": true,\n   \"results\": [\n     {\n       \"success\": true,\n       \"expectation_config\": {\n         \"expectation_type\": \"expect_column_min_to_be_between\",\n         \"kwargs\": {\n           \"column\": \"pm25\",\n           \"min_value\": -0.1,\n           \"max_value\": 500.0,\n           \"strict_min\": true\n         },\n         \"meta\": {\n           \"expectationId\": 665614\n         }\n       },\n       \"result\": {\n         \"observed_value\": 12.0,\n         \"element_count\": 1,\n         \"missing_count\": null,\n         \"missing_percent\": null\n       },\n       \"meta\": {\n         \"ingestionResult\": \"INGESTED\",\n         \"validationTime\": \"2024-11-08T12:16:46.000684Z\"\n       },\n       \"exception_info\": {\n         \"raised_exception\": false,\n         \"exception_message\": null,\n         \"exception_traceback\": null\n       }\n     }\n   ],\n   \"evaluation_parameters\": {},\n   \"statistics\": {\n     \"evaluated_expectations\": 1,\n     \"successful_expectations\": 1,\n     \"unsuccessful_expectations\": 0,\n     \"success_percent\": 100.0\n   },\n   \"meta\": {\n     \"great_expectations_version\": \"0.18.12\",\n     \"expectation_suite_name\": \"aq_expect\",\n     \"run_id\": {\n       \"run_name\": null,\n       \"run_time\": \"2024-11-08T13:16:46.685341+01:00\"\n     },\n     \"batch_kwargs\": {\n       \"ge_batch_id\": \"52ea4b86-9dcb-11ef-90fb-264168630e67\"\n     },\n     \"batch_markers\": {},\n     \"batch_parameters\": {},\n     \"validation_time\": \"20241108T121646.684993Z\",\n     \"expectation_suite_meta\": {\n       \"great_expectations_version\": \"0.18.12\"\n     }\n   }\n })"
     },
     "execution_count": 36,
     "metadata": {},
     "output_type": "execute_result"
    }
   ],
   "source": [
    "air_quality_fg.insert(air_quality_df)"
   ],
   "metadata": {
    "collapsed": false
   }
  },
  {
   "cell_type": "code",
   "execution_count": 37,
   "outputs": [
    {
     "name": "stdout",
     "output_type": "stream",
     "text": [
      "2024-11-08 13:16:57,926 INFO: \t2 expectation(s) included in expectation_suite.\n",
      "Validation succeeded.\n",
      "Validation Report saved successfully, explore a summary at https://c.app.hopsworks.ai:443/p/1160342/fs/1151045/fg/1342800\n"
     ]
    },
    {
     "data": {
      "text/plain": "Uploading Dataframe: 0.00% |          | Rows 0/10 | Elapsed Time: 00:00 | Remaining Time: ?",
      "application/vnd.jupyter.widget-view+json": {
       "version_major": 2,
       "version_minor": 0,
       "model_id": "ff0ef4a0b6bf47e398e6763a46faa846"
      }
     },
     "metadata": {},
     "output_type": "display_data"
    },
    {
     "name": "stdout",
     "output_type": "stream",
     "text": [
      "Launching job: weather_1_offline_fg_materialization\n",
      "Job started successfully, you can follow the progress at \n",
      "https://c.app.hopsworks.ai/p/1160342/jobs/named/weather_1_offline_fg_materialization/executions\n"
     ]
    },
    {
     "data": {
      "text/plain": "(<hsfs.core.job.Job at 0x28e2c3770>,\n {\n   \"success\": true,\n   \"results\": [\n     {\n       \"success\": true,\n       \"expectation_config\": {\n         \"expectation_type\": \"expect_column_min_to_be_between\",\n         \"kwargs\": {\n           \"column\": \"precipitation_sum\",\n           \"min_value\": -0.1,\n           \"max_value\": 1000.0,\n           \"strict_min\": true\n         },\n         \"meta\": {\n           \"expectationId\": 666631\n         }\n       },\n       \"result\": {\n         \"observed_value\": 0.0,\n         \"element_count\": 10,\n         \"missing_count\": null,\n         \"missing_percent\": null\n       },\n       \"meta\": {\n         \"ingestionResult\": \"INGESTED\",\n         \"validationTime\": \"2024-11-08T12:16:57.000926Z\"\n       },\n       \"exception_info\": {\n         \"raised_exception\": false,\n         \"exception_message\": null,\n         \"exception_traceback\": null\n       }\n     },\n     {\n       \"success\": true,\n       \"expectation_config\": {\n         \"expectation_type\": \"expect_column_min_to_be_between\",\n         \"kwargs\": {\n           \"column\": \"wind_speed_10m_max\",\n           \"min_value\": -0.1,\n           \"max_value\": 1000.0,\n           \"strict_min\": true\n         },\n         \"meta\": {\n           \"expectationId\": 666630\n         }\n       },\n       \"result\": {\n         \"observed_value\": 2.545584201812744,\n         \"element_count\": 10,\n         \"missing_count\": null,\n         \"missing_percent\": null\n       },\n       \"meta\": {\n         \"ingestionResult\": \"INGESTED\",\n         \"validationTime\": \"2024-11-08T12:16:57.000926Z\"\n       },\n       \"exception_info\": {\n         \"raised_exception\": false,\n         \"exception_message\": null,\n         \"exception_traceback\": null\n       }\n     }\n   ],\n   \"evaluation_parameters\": {},\n   \"statistics\": {\n     \"evaluated_expectations\": 2,\n     \"successful_expectations\": 2,\n     \"unsuccessful_expectations\": 0,\n     \"success_percent\": 100.0\n   },\n   \"meta\": {\n     \"great_expectations_version\": \"0.18.12\",\n     \"expectation_suite_name\": \"weather_expectation_suite\",\n     \"run_id\": {\n       \"run_name\": null,\n       \"run_time\": \"2024-11-08T13:16:57.926411+01:00\"\n     },\n     \"batch_kwargs\": {\n       \"ge_batch_id\": \"599e655c-9dcb-11ef-90fb-264168630e67\"\n     },\n     \"batch_markers\": {},\n     \"batch_parameters\": {},\n     \"validation_time\": \"20241108T121657.926201Z\",\n     \"expectation_suite_meta\": {\n       \"great_expectations_version\": \"0.18.12\"\n     }\n   }\n })"
     },
     "execution_count": 37,
     "metadata": {},
     "output_type": "execute_result"
    }
   ],
   "source": [
    "weather_fg.insert(daily_df)"
   ],
   "metadata": {
    "collapsed": false
   }
  }
 ],
 "metadata": {
  "kernelspec": {
   "display_name": "Python 3",
   "language": "python",
   "name": "python3"
  },
  "language_info": {
   "codemirror_mode": {
    "name": "ipython",
    "version": 2
   },
   "file_extension": ".py",
   "mimetype": "text/x-python",
   "name": "python",
   "nbconvert_exporter": "python",
   "pygments_lexer": "ipython2",
   "version": "2.7.6"
  }
 },
 "nbformat": 4,
 "nbformat_minor": 0
}
