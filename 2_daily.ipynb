{
 "cells": [
  {
   "cell_type": "markdown",
   "source": [
    "# Setup"
   ],
   "metadata": {
    "collapsed": false
   }
  },
  {
   "cell_type": "code",
   "execution_count": 26,
   "metadata": {
    "collapsed": true
   },
   "outputs": [],
   "source": [
    "import datetime\n",
    "import time\n",
    "import requests\n",
    "import pandas as pd\n",
    "import hopsworks\n",
    "import json\n",
    "import os\n",
    "import warnings\n",
    "import openmeteo_requests\n",
    "warnings.filterwarnings(\"ignore\")"
   ]
  },
  {
   "cell_type": "code",
   "execution_count": 8,
   "outputs": [],
   "source": [
    "with open(\"data/hopsworks-token.txt\") as f:\n",
    "    hopsworks_api_key = f.read().rstrip()"
   ],
   "metadata": {
    "collapsed": false
   }
  },
  {
   "cell_type": "code",
   "execution_count": 9,
   "outputs": [
    {
     "name": "stdout",
     "output_type": "stream",
     "text": [
      "Connection closed.\n",
      "Connected. Call `.close()` to terminate connection gracefully.\n",
      "\n",
      "Logged in to project, explore it here https://c.app.hopsworks.ai:443/p/1160342\n",
      "Connected. Call `.close()` to terminate connection gracefully.\n",
      "Connected. Call `.close()` to terminate connection gracefully.\n"
     ]
    }
   ],
   "source": [
    "project = hopsworks.login(api_key_value=hopsworks_api_key)\n",
    "fs = project.get_feature_store()\n",
    "secrets = hopsworks.connection(host=\"c.app.hopsworks.ai\", api_key_value=hopsworks_api_key).get_secrets_api()"
   ],
   "metadata": {
    "collapsed": false
   }
  },
  {
   "cell_type": "code",
   "execution_count": 10,
   "outputs": [
    {
     "data": {
      "text/plain": "'{\"country\": \"germany\", \"city\": \"reutlingen\", \"street\": \"zaisentalstra\\\\u00dfe\", \"aqicn_url\": \"https://api.waqi.info/feed/A54451\", \"latitude\": 48.50052694662806, \"longitude\": 9.194111640132975}'"
     },
     "execution_count": 10,
     "metadata": {},
     "output_type": "execute_result"
    }
   ],
   "source": [
    "aqi_token = secrets.get_secret(\"AQI_API_KEY\").value\n",
    "location_str = secrets.get_secret(\"SENSOR_LOCATION_JSON\").value\n",
    "location = json.loads(location_str)\n",
    "\n",
    "country = location[\"country\"]\n",
    "city = location[\"city\"]\n",
    "street = location[\"street\"]\n",
    "aqicn_url = location[\"aqicn_url\"]\n",
    "latitude = location[\"latitude\"]\n",
    "longitude = location[\"longitude\"]\n",
    "\n",
    "today = datetime.date.today()\n",
    "location_str"
   ],
   "metadata": {
    "collapsed": false
   }
  },
  {
   "cell_type": "code",
   "execution_count": 11,
   "outputs": [],
   "source": [
    "air_quality_fg = fs.get_feature_group(\n",
    "    name='air_quality',\n",
    "    version=1,\n",
    ")\n",
    "weather_fg = fs.get_feature_group(\n",
    "    name='weather',\n",
    "    version=1,\n",
    ")"
   ],
   "metadata": {
    "collapsed": false
   }
  },
  {
   "cell_type": "markdown",
   "source": [
    "# Current air quality"
   ],
   "metadata": {
    "collapsed": false
   }
  },
  {
   "cell_type": "code",
   "execution_count": 45,
   "outputs": [
    {
     "name": "stdout",
     "output_type": "stream",
     "text": [
      "<class 'pandas.core.frame.DataFrame'>\n",
      "RangeIndex: 1 entries, 0 to 0\n",
      "Data columns (total 6 columns):\n",
      " #   Column   Non-Null Count  Dtype         \n",
      "---  ------   --------------  -----         \n",
      " 0   pm25     1 non-null      float64       \n",
      " 1   country  1 non-null      object        \n",
      " 2   city     1 non-null      object        \n",
      " 3   street   1 non-null      object        \n",
      " 4   date     1 non-null      datetime64[ns]\n",
      " 5   url      1 non-null      object        \n",
      "dtypes: datetime64[ns](1), float64(1), object(4)\n",
      "memory usage: 180.0+ bytes\n"
     ]
    }
   ],
   "source": [
    "air_quality_raw = requests.get(aqicn_url + \"?token=\" + aqi_token).json()\n",
    "assert air_quality_raw[\"status\"] == \"ok\"\n",
    "data = air_quality_raw[\"data\"]\n",
    "# Mostly taken from book.\n",
    "air_quality_df = pd.DataFrame()\n",
    "air_quality_df[\"pm25\"] = [data[\"iaqi\"].get(\"pm25\", {}).get(\"v\", None)]\n",
    "air_quality_df[\"pm25\"] = air_quality_df[\"pm25\"].astype(\"float64\")\n",
    "air_quality_df[\"country\"] = country\n",
    "air_quality_df[\"city\"] = city\n",
    "air_quality_df[\"street\"] = street\n",
    "air_quality_df[\"date\"] = today\n",
    "air_quality_df[\"date\"] = pd.to_datetime(air_quality_df['date'])\n",
    "air_quality_df[\"url\"] = aqicn_url\n",
    "air_quality_df.info()"
   ],
   "metadata": {
    "collapsed": false
   }
  },
  {
   "cell_type": "markdown",
   "source": [
    "# Current weather forecast"
   ],
   "metadata": {
    "collapsed": false
   }
  },
  {
   "cell_type": "code",
   "execution_count": 46,
   "outputs": [],
   "source": [
    "om = openmeteo_requests.Client()\n",
    "openmeteo_url = \"https://api.open-meteo.com/v1/ecmwf\"\n",
    "today = datetime.date.today()"
   ],
   "metadata": {
    "collapsed": false
   }
  },
  {
   "cell_type": "code",
   "execution_count": 47,
   "outputs": [
    {
     "name": "stdout",
     "output_type": "stream",
     "text": [
      "Coordinates 48.75°N 9.25°E\n",
      "Elevation 378.0 m asl\n",
      "Timezone None None\n",
      "Timezone difference to GMT+0 0 s\n",
      "<class 'pandas.core.frame.DataFrame'>\n",
      "RangeIndex: 10 entries, 0 to 9\n",
      "Data columns (total 6 columns):\n",
      " #   Column                       Non-Null Count  Dtype         \n",
      "---  ------                       --------------  -----         \n",
      " 0   date                         10 non-null     datetime64[ns]\n",
      " 1   temperature_2m_mean          10 non-null     float32       \n",
      " 2   precipitation_sum            10 non-null     float32       \n",
      " 3   wind_speed_10m_max           10 non-null     float32       \n",
      " 4   wind_direction_10m_dominant  10 non-null     float32       \n",
      " 5   city                         10 non-null     object        \n",
      "dtypes: datetime64[ns](1), float32(4), object(1)\n",
      "memory usage: 452.0+ bytes\n"
     ]
    }
   ],
   "source": [
    "params = {\n",
    "    \"latitude\": latitude,\n",
    "    \"longitude\": longitude,\n",
    "    \"hourly\": [\"temperature_2m\", \"precipitation\", \"wind_speed_10m\", \"wind_direction_10m\"]\n",
    "}\n",
    "responses = om.weather_api(openmeteo_url, params=params)\n",
    "response = responses[0]\n",
    "print(f\"Coordinates {response.Latitude()}°N {response.Longitude()}°E\")\n",
    "print(f\"Elevation {response.Elevation()} m asl\")\n",
    "print(f\"Timezone {response.Timezone()} {response.TimezoneAbbreviation()}\")\n",
    "print(f\"Timezone difference to GMT+0 {response.UtcOffsetSeconds()} s\")\n",
    "# Stolen from the repository.\n",
    "hourly = response.Hourly()\n",
    "hourly_temperature_2m = hourly.Variables(0).ValuesAsNumpy()\n",
    "hourly_precipitation = hourly.Variables(1).ValuesAsNumpy()\n",
    "hourly_wind_speed_10m = hourly.Variables(2).ValuesAsNumpy()\n",
    "hourly_wind_direction_10m = hourly.Variables(3).ValuesAsNumpy()\n",
    "hourly_data = {\"date\": pd.date_range(\n",
    "    start=pd.to_datetime(hourly.Time(), unit=\"s\"),\n",
    "    end=pd.to_datetime(hourly.TimeEnd(), unit=\"s\"),\n",
    "    freq=pd.Timedelta(seconds=hourly.Interval()),\n",
    "    inclusive=\"left\"\n",
    "), \"temperature_2m_mean\": hourly_temperature_2m, \"precipitation_sum\": hourly_precipitation,\n",
    "    \"wind_speed_10m_max\": hourly_wind_speed_10m, \"wind_direction_10m_dominant\": hourly_wind_direction_10m}\n",
    "hourly_dataframe = pd.DataFrame(data = hourly_data)\n",
    "hourly_dataframe = hourly_dataframe.dropna()\n",
    "hourly_dataframe = hourly_dataframe.set_index(\"date\")\n",
    "daily_df = hourly_dataframe.between_time(\"11:59\", \"12:01\")\n",
    "daily_df = daily_df.reset_index()\n",
    "daily_df[\"date\"] = pd.to_datetime(daily_df[\"date\"]).dt.date\n",
    "daily_df[\"date\"] = pd.to_datetime(daily_df[\"date\"])\n",
    "daily_df[\"city\"] = city\n",
    "daily_df.info()"
   ],
   "metadata": {
    "collapsed": false
   }
  },
  {
   "cell_type": "markdown",
   "source": [
    "# Update feature store"
   ],
   "metadata": {
    "collapsed": false
   }
  },
  {
   "cell_type": "code",
   "execution_count": 48,
   "outputs": [
    {
     "name": "stdout",
     "output_type": "stream",
     "text": [
      "2024-11-06 18:03:11,587 INFO: \t1 expectation(s) included in expectation_suite.\n",
      "Validation succeeded.\n",
      "Validation Report saved successfully, explore a summary at https://c.app.hopsworks.ai:443/p/1160342/fs/1151045/fg/1338721\n"
     ]
    },
    {
     "data": {
      "text/plain": "Uploading Dataframe: 0.00% |          | Rows 0/1 | Elapsed Time: 00:00 | Remaining Time: ?",
      "application/vnd.jupyter.widget-view+json": {
       "version_major": 2,
       "version_minor": 0,
       "model_id": "1a2b3a2f55774b4989b21b2403d31ee6"
      }
     },
     "metadata": {},
     "output_type": "display_data"
    },
    {
     "name": "stdout",
     "output_type": "stream",
     "text": [
      "Launching job: air_quality_1_offline_fg_materialization\n",
      "Job started successfully, you can follow the progress at \n",
      "https://c.app.hopsworks.ai/p/1160342/jobs/named/air_quality_1_offline_fg_materialization/executions\n"
     ]
    },
    {
     "data": {
      "text/plain": "(<hsfs.core.job.Job at 0x109959df0>,\n {\n   \"success\": true,\n   \"results\": [\n     {\n       \"success\": true,\n       \"expectation_config\": {\n         \"expectation_type\": \"expect_column_min_to_be_between\",\n         \"kwargs\": {\n           \"column\": \"pm25\",\n           \"min_value\": -0.1,\n           \"max_value\": 500.0,\n           \"strict_min\": true\n         },\n         \"meta\": {\n           \"expectationId\": 662535\n         }\n       },\n       \"result\": {\n         \"observed_value\": 55.0,\n         \"element_count\": 1,\n         \"missing_count\": null,\n         \"missing_percent\": null\n       },\n       \"meta\": {\n         \"ingestionResult\": \"INGESTED\",\n         \"validationTime\": \"2024-11-06T05:03:11.000587Z\"\n       },\n       \"exception_info\": {\n         \"raised_exception\": false,\n         \"exception_message\": null,\n         \"exception_traceback\": null\n       }\n     }\n   ],\n   \"evaluation_parameters\": {},\n   \"statistics\": {\n     \"evaluated_expectations\": 1,\n     \"successful_expectations\": 1,\n     \"unsuccessful_expectations\": 0,\n     \"success_percent\": 100.0\n   },\n   \"meta\": {\n     \"great_expectations_version\": \"0.18.12\",\n     \"expectation_suite_name\": \"aq_expect\",\n     \"run_id\": {\n       \"run_name\": null,\n       \"run_time\": \"2024-11-06T18:03:11.587524+01:00\"\n     },\n     \"batch_kwargs\": {\n       \"ge_batch_id\": \"0116d9b6-9c61-11ef-afc6-264168630e67\"\n     },\n     \"batch_markers\": {},\n     \"batch_parameters\": {},\n     \"validation_time\": \"20241106T170311.587262Z\",\n     \"expectation_suite_meta\": {\n       \"great_expectations_version\": \"0.18.12\"\n     }\n   }\n })"
     },
     "execution_count": 48,
     "metadata": {},
     "output_type": "execute_result"
    }
   ],
   "source": [
    "air_quality_fg.insert(air_quality_df)"
   ],
   "metadata": {
    "collapsed": false
   }
  },
  {
   "cell_type": "code",
   "execution_count": 49,
   "outputs": [
    {
     "name": "stdout",
     "output_type": "stream",
     "text": [
      "2024-11-06 18:03:29,575 INFO: \t2 expectation(s) included in expectation_suite.\n",
      "Validation succeeded.\n",
      "Validation Report saved successfully, explore a summary at https://c.app.hopsworks.ai:443/p/1160342/fs/1151045/fg/1337696\n"
     ]
    },
    {
     "data": {
      "text/plain": "Uploading Dataframe: 0.00% |          | Rows 0/10 | Elapsed Time: 00:00 | Remaining Time: ?",
      "application/vnd.jupyter.widget-view+json": {
       "version_major": 2,
       "version_minor": 0,
       "model_id": "9c981543600c450fbed2ea6156817b81"
      }
     },
     "metadata": {},
     "output_type": "display_data"
    },
    {
     "name": "stdout",
     "output_type": "stream",
     "text": [
      "Launching job: weather_1_offline_fg_materialization\n",
      "Job started successfully, you can follow the progress at \n",
      "https://c.app.hopsworks.ai/p/1160342/jobs/named/weather_1_offline_fg_materialization/executions\n"
     ]
    },
    {
     "data": {
      "text/plain": "(<hsfs.core.job.Job at 0x10a5e34d0>,\n {\n   \"success\": true,\n   \"results\": [\n     {\n       \"success\": true,\n       \"expectation_config\": {\n         \"expectation_type\": \"expect_column_min_to_be_between\",\n         \"kwargs\": {\n           \"column\": \"precipitation_sum\",\n           \"min_value\": -0.1,\n           \"max_value\": 1000.0,\n           \"strict_min\": true\n         },\n         \"meta\": {\n           \"expectationId\": 661512\n         }\n       },\n       \"result\": {\n         \"observed_value\": 0.0,\n         \"element_count\": 10,\n         \"missing_count\": null,\n         \"missing_percent\": null\n       },\n       \"meta\": {\n         \"ingestionResult\": \"INGESTED\",\n         \"validationTime\": \"2024-11-06T05:03:29.000575Z\"\n       },\n       \"exception_info\": {\n         \"raised_exception\": false,\n         \"exception_message\": null,\n         \"exception_traceback\": null\n       }\n     },\n     {\n       \"success\": true,\n       \"expectation_config\": {\n         \"expectation_type\": \"expect_column_min_to_be_between\",\n         \"kwargs\": {\n           \"column\": \"wind_speed_10m_max\",\n           \"min_value\": -0.1,\n           \"max_value\": 1000.0,\n           \"strict_min\": true\n         },\n         \"meta\": {\n           \"expectationId\": 661511\n         }\n       },\n       \"result\": {\n         \"observed_value\": 2.2768397331237793,\n         \"element_count\": 10,\n         \"missing_count\": null,\n         \"missing_percent\": null\n       },\n       \"meta\": {\n         \"ingestionResult\": \"INGESTED\",\n         \"validationTime\": \"2024-11-06T05:03:29.000575Z\"\n       },\n       \"exception_info\": {\n         \"raised_exception\": false,\n         \"exception_message\": null,\n         \"exception_traceback\": null\n       }\n     }\n   ],\n   \"evaluation_parameters\": {},\n   \"statistics\": {\n     \"evaluated_expectations\": 2,\n     \"successful_expectations\": 2,\n     \"unsuccessful_expectations\": 0,\n     \"success_percent\": 100.0\n   },\n   \"meta\": {\n     \"great_expectations_version\": \"0.18.12\",\n     \"expectation_suite_name\": \"weather_expectation_suite\",\n     \"run_id\": {\n       \"run_name\": null,\n       \"run_time\": \"2024-11-06T18:03:29.575393+01:00\"\n     },\n     \"batch_kwargs\": {\n       \"ge_batch_id\": \"0bd06552-9c61-11ef-afc6-264168630e67\"\n     },\n     \"batch_markers\": {},\n     \"batch_parameters\": {},\n     \"validation_time\": \"20241106T170329.575244Z\",\n     \"expectation_suite_meta\": {\n       \"great_expectations_version\": \"0.18.12\"\n     }\n   }\n })"
     },
     "execution_count": 49,
     "metadata": {},
     "output_type": "execute_result"
    }
   ],
   "source": [
    "weather_fg.insert(daily_df)"
   ],
   "metadata": {
    "collapsed": false
   }
  },
  {
   "cell_type": "code",
   "execution_count": null,
   "outputs": [],
   "source": [],
   "metadata": {
    "collapsed": false
   }
  }
 ],
 "metadata": {
  "kernelspec": {
   "display_name": "Python 3",
   "language": "python",
   "name": "python3"
  },
  "language_info": {
   "codemirror_mode": {
    "name": "ipython",
    "version": 2
   },
   "file_extension": ".py",
   "mimetype": "text/x-python",
   "name": "python",
   "nbconvert_exporter": "python",
   "pygments_lexer": "ipython2",
   "version": "2.7.6"
  }
 },
 "nbformat": 4,
 "nbformat_minor": 0
}
