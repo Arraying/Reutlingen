{
 "cells": [
  {
   "cell_type": "markdown",
   "source": [
    "# Setup"
   ],
   "metadata": {
    "collapsed": false
   }
  },
  {
   "cell_type": "code",
   "execution_count": 1,
   "outputs": [],
   "source": [
    "import datetime\n",
    "import requests\n",
    "import pandas as pd\n",
    "import hopsworks\n",
    "import datetime\n",
    "import json\n",
    "import re\n",
    "import os\n",
    "import warnings\n",
    "import openmeteo_requests\n",
    "import great_expectations as ge\n",
    "warnings.filterwarnings(\"ignore\")"
   ],
   "metadata": {
    "collapsed": false
   }
  },
  {
   "cell_type": "code",
   "execution_count": 2,
   "outputs": [],
   "source": [
    "with open(\"data/hopsworks-token.txt\") as f:\n",
    "    hopsworks_api_key = f.read().rstrip()\n",
    "with open(\"data/aqi-token.txt\") as f:\n",
    "    aqi_token = f.read().rstrip()"
   ],
   "metadata": {
    "collapsed": false
   }
  },
  {
   "cell_type": "code",
   "execution_count": 3,
   "outputs": [],
   "source": [
    "csv_file = \"data/reutlingen.csv\"\n",
    "country = \"germany\"\n",
    "city = \"reutlingen\"\n",
    "street = \"zaisentalstraße\"\n",
    "aqicn_url = \"https://api.waqi.info/feed/A54451\""
   ],
   "metadata": {
    "collapsed": false
   }
  },
  {
   "cell_type": "markdown",
   "source": [
    "# Historical air quality"
   ],
   "metadata": {
    "collapsed": false
   }
  },
  {
   "cell_type": "code",
   "execution_count": 4,
   "outputs": [
    {
     "name": "stdout",
     "output_type": "stream",
     "text": [
      "<class 'pandas.core.frame.DataFrame'>\n",
      "RangeIndex: 1785 entries, 0 to 1784\n",
      "Data columns (total 6 columns):\n",
      " #   Column   Non-Null Count  Dtype              \n",
      "---  ------   --------------  -----              \n",
      " 0   date     1785 non-null   datetime64[ns, UTC]\n",
      " 1   pm25     1785 non-null   float64            \n",
      " 2   country  1785 non-null   object             \n",
      " 3   city     1785 non-null   object             \n",
      " 4   street   1785 non-null   object             \n",
      " 5   url      1785 non-null   object             \n",
      "dtypes: datetime64[ns, UTC](1), float64(1), object(4)\n",
      "memory usage: 83.8+ KB\n"
     ]
    }
   ],
   "source": [
    "df = pd.read_csv(csv_file, parse_dates=[\"date\"], skipinitialspace=True)\n",
    "air_quality_df = df[[\"date\", \"pm25\"]]\n",
    "air_quality_df[\"country\"] = country\n",
    "air_quality_df[\"city\"] = city\n",
    "air_quality_df[\"street\"] = street\n",
    "air_quality_df[\"url\"] = aqicn_url\n",
    "air_quality_df.dropna(inplace=True)\n",
    "air_quality_df.info()"
   ],
   "metadata": {
    "collapsed": false
   }
  },
  {
   "cell_type": "markdown",
   "source": [
    "# Historical weather"
   ],
   "metadata": {
    "collapsed": false
   }
  },
  {
   "cell_type": "code",
   "execution_count": 5,
   "outputs": [],
   "source": [
    "om = openmeteo_requests.Client()\n",
    "openmeteo_url = \"https://archive-api.open-meteo.com/v1/archive\"\n",
    "latitude = 48.50052694662806\n",
    "longitude = 9.194111640132975\n",
    "today = datetime.date.today()"
   ],
   "metadata": {
    "collapsed": false
   }
  },
  {
   "cell_type": "code",
   "execution_count": 6,
   "outputs": [
    {
     "data": {
      "text/plain": "'2019-12-09'"
     },
     "execution_count": 6,
     "metadata": {},
     "output_type": "execute_result"
    }
   ],
   "source": [
    "earliest_date = pd.Series.min(air_quality_df['date'])\n",
    "earliest_date = earliest_date.strftime('%Y-%m-%d')\n",
    "earliest_date"
   ],
   "metadata": {
    "collapsed": false
   }
  },
  {
   "cell_type": "code",
   "execution_count": 7,
   "outputs": [
    {
     "name": "stdout",
     "output_type": "stream",
     "text": [
      "Coordinates 48.47100067138672°N 9.075630187988281°E\n",
      "Elevation 378.0 m asl\n",
      "Timezone None None\n",
      "Timezone difference to GMT+0 0 s\n"
     ]
    }
   ],
   "source": [
    "params = {\n",
    "    \"latitude\": latitude,\n",
    "    \"longitude\": longitude,\n",
    "    \"start_date\": earliest_date,\n",
    "    \"end_date\": today,\n",
    "    \"daily\": [\"temperature_2m_mean\", \"precipitation_sum\", \"wind_speed_10m_max\", \"wind_direction_10m_dominant\"]\n",
    "}\n",
    "responses = om.weather_api(openmeteo_url, params=params)\n",
    "response = responses[0]\n",
    "# Sanity check, taken from repository.\n",
    "print(f\"Coordinates {response.Latitude()}°N {response.Longitude()}°E\")\n",
    "print(f\"Elevation {response.Elevation()} m asl\")\n",
    "print(f\"Timezone {response.Timezone()} {response.TimezoneAbbreviation()}\")\n",
    "print(f\"Timezone difference to GMT+0 {response.UtcOffsetSeconds()} s\")"
   ],
   "metadata": {
    "collapsed": false
   }
  },
  {
   "cell_type": "code",
   "execution_count": 8,
   "outputs": [
    {
     "name": "stdout",
     "output_type": "stream",
     "text": [
      "<class 'pandas.core.frame.DataFrame'>\n",
      "Index: 1793 entries, 0 to 1792\n",
      "Data columns (total 6 columns):\n",
      " #   Column                       Non-Null Count  Dtype         \n",
      "---  ------                       --------------  -----         \n",
      " 0   date                         1793 non-null   datetime64[ns]\n",
      " 1   temperature_2m_mean          1793 non-null   float32       \n",
      " 2   precipitation_sum            1793 non-null   float32       \n",
      " 3   wind_speed_10m_max           1793 non-null   float32       \n",
      " 4   wind_direction_10m_dominant  1793 non-null   float32       \n",
      " 5   city                         1793 non-null   object        \n",
      "dtypes: datetime64[ns](1), float32(4), object(1)\n",
      "memory usage: 70.0+ KB\n"
     ]
    }
   ],
   "source": [
    "# Taken from the book repository.\n",
    "daily = response.Daily()\n",
    "daily_temperature_2m_mean = daily.Variables(0).ValuesAsNumpy()\n",
    "daily_precipitation_sum = daily.Variables(1).ValuesAsNumpy()\n",
    "daily_wind_speed_10m_max = daily.Variables(2).ValuesAsNumpy()\n",
    "daily_wind_direction_10m_dominant = daily.Variables(3).ValuesAsNumpy()\n",
    "\n",
    "# Create data frame, fill it.\n",
    "daily_data = {\"date\": pd.date_range(\n",
    "    start=pd.to_datetime(daily.Time(), unit=\"s\"),\n",
    "    end=pd.to_datetime(daily.TimeEnd(), unit=\"s\"),\n",
    "    freq=pd.Timedelta(seconds=daily.Interval()),\n",
    "    inclusive=\"left\"\n",
    "    ), \"temperature_2m_mean\": daily_temperature_2m_mean, \"precipitation_sum\": daily_precipitation_sum,\n",
    "    \"wind_speed_10m_max\": daily_wind_speed_10m_max, \"wind_direction_10m_dominant\": daily_wind_direction_10m_dominant}\n",
    "\n",
    "daily_dataframe = pd.DataFrame(data = daily_data)\n",
    "daily_dataframe = daily_dataframe.dropna()\n",
    "daily_dataframe['city'] = city\n",
    "daily_dataframe.info()"
   ],
   "metadata": {
    "collapsed": false
   }
  },
  {
   "cell_type": "markdown",
   "source": [
    "# Validation"
   ],
   "metadata": {
    "collapsed": false
   }
  },
  {
   "cell_type": "code",
   "execution_count": 9,
   "outputs": [
    {
     "data": {
      "text/plain": "{\"expectation_type\": \"expect_column_min_to_be_between\", \"kwargs\": {\"column\": \"pm25\", \"min_value\": -0.1, \"max_value\": 500.0, \"strict_min\": true}, \"meta\": {}}"
     },
     "execution_count": 9,
     "metadata": {},
     "output_type": "execute_result"
    }
   ],
   "source": [
    "aq_expect = ge.core.ExpectationSuite(expectation_suite_name=\"aq_expect\")\n",
    "aq_expect.add_expectation(\n",
    "    ge.core.ExpectationConfiguration(\n",
    "        expectation_type=\"expect_column_min_to_be_between\",\n",
    "        kwargs={\n",
    "            \"column\":\"pm25\",\n",
    "            \"min_value\":-0.1,\n",
    "            \"max_value\":500.0,\n",
    "            \"strict_min\":True\n",
    "        }\n",
    "    )\n",
    ")"
   ],
   "metadata": {
    "collapsed": false
   }
  },
  {
   "cell_type": "code",
   "execution_count": 10,
   "outputs": [],
   "source": [
    "weather_expect = ge.core.ExpectationSuite(\n",
    "    expectation_suite_name=\"weather_expectation_suite\"\n",
    ")\n",
    "\n",
    "def expect_greater_than_zero(column):\n",
    "    weather_expect.add_expectation(\n",
    "        ge.core.ExpectationConfiguration(\n",
    "            expectation_type=\"expect_column_min_to_be_between\",\n",
    "            kwargs={\n",
    "                \"column\":column,\n",
    "                \"min_value\":-0.1,\n",
    "                \"max_value\":1000.0,\n",
    "                \"strict_min\":True\n",
    "            }\n",
    "        )\n",
    "    )\n",
    "expect_greater_than_zero(\"precipitation_sum\")\n",
    "expect_greater_than_zero(\"wind_speed_10m_max\")"
   ],
   "metadata": {
    "collapsed": false
   }
  },
  {
   "cell_type": "markdown",
   "source": [
    "# Hopsworks feature store"
   ],
   "metadata": {
    "collapsed": false
   }
  },
  {
   "cell_type": "code",
   "execution_count": 11,
   "outputs": [
    {
     "name": "stdout",
     "output_type": "stream",
     "text": [
      "Connected. Call `.close()` to terminate connection gracefully.\n",
      "\n",
      "Logged in to project, explore it here https://c.app.hopsworks.ai:443/p/1160342\n"
     ]
    }
   ],
   "source": [
    "project = hopsworks.login(api_key_value=hopsworks_api_key)"
   ],
   "metadata": {
    "collapsed": false
   }
  },
  {
   "cell_type": "code",
   "execution_count": 12,
   "outputs": [
    {
     "name": "stdout",
     "output_type": "stream",
     "text": [
      "Connected. Call `.close()` to terminate connection gracefully.\n"
     ]
    }
   ],
   "source": [
    "secrets = hopsworks.connection(host=\"c.app.hopsworks.ai\", api_key_value=hopsworks_api_key).get_secrets_api()"
   ],
   "metadata": {
    "collapsed": false
   }
  },
  {
   "cell_type": "code",
   "execution_count": 19,
   "outputs": [],
   "source": [
    "try:\n",
    "    secrets.create_secret(\"AQI_API_KEY\", aqi_token)\n",
    "except hopsworks.RestAPIError:\n",
    "    AQI_API_KEY = secrets.get_secret(\"AQI_API_KEY\").value"
   ],
   "metadata": {
    "collapsed": false
   }
  },
  {
   "cell_type": "code",
   "execution_count": 20,
   "outputs": [
    {
     "data": {
      "text/plain": "'{\"country\": \"germany\", \"city\": \"reutlingen\", \"street\": \"zaisentalstra\\\\u00dfe\", \"aqicn_url\": \"https://api.waqi.info/feed/A54451\", \"latitude\": 48.50052694662806, \"longitude\": 9.194111640132975}'"
     },
     "execution_count": 20,
     "metadata": {},
     "output_type": "execute_result"
    }
   ],
   "source": [
    "dict_obj = {\n",
    "    \"country\": country,\n",
    "    \"city\": city,\n",
    "    \"street\": street,\n",
    "    \"aqicn_url\": aqicn_url,\n",
    "    \"latitude\": latitude,\n",
    "    \"longitude\": longitude\n",
    "}\n",
    "str_dict = json.dumps(dict_obj)\n",
    "str_dict"
   ],
   "metadata": {
    "collapsed": false
   }
  },
  {
   "cell_type": "code",
   "execution_count": 21,
   "outputs": [
    {
     "name": "stdout",
     "output_type": "stream",
     "text": [
      "Already exists, please delete from UI\n",
      "{\"country\": \"germany\", \"city\": \"reutlingen\", \"street\": \"zaisentalstra\\u00dfe\", \"aqicn_url\": \"https://api.waqi.info/feed/A54451\", \"latitude\": 48.50052694662806, \"longitude\": 9.194111640132975}\n"
     ]
    }
   ],
   "source": [
    "try:\n",
    "    secrets.create_secret(\"SENSOR_LOCATION_JSON\", str_dict)\n",
    "except hopsworks.RestAPIError:\n",
    "    print(\"Already exists, please delete from UI\")\n",
    "    existing_key = secrets.get_secret(\"SENSOR_LOCATION_JSON\").value\n",
    "    print(f\"{existing_key}\")"
   ],
   "metadata": {
    "collapsed": false
   }
  },
  {
   "cell_type": "code",
   "execution_count": 22,
   "outputs": [
    {
     "name": "stdout",
     "output_type": "stream",
     "text": [
      "Connected. Call `.close()` to terminate connection gracefully.\n"
     ]
    }
   ],
   "source": [
    "fs = project.get_feature_store()"
   ],
   "metadata": {
    "collapsed": false
   }
  },
  {
   "cell_type": "code",
   "execution_count": 25,
   "outputs": [],
   "source": [
    "air_quality_fg = fs.get_or_create_feature_group(\n",
    "    name='air_quality',\n",
    "    description='Air Quality characteristics of each day',\n",
    "    version=1,\n",
    "    primary_key=['city', 'street', 'date'],\n",
    "    event_time=\"date\",\n",
    "    expectation_suite=aq_expect\n",
    ")"
   ],
   "metadata": {
    "collapsed": false
   }
  },
  {
   "cell_type": "code",
   "execution_count": 26,
   "outputs": [
    {
     "name": "stdout",
     "output_type": "stream",
     "text": [
      "Feature Group created successfully, explore it at \n",
      "https://c.app.hopsworks.ai:443/p/1160342/fs/1151045/fg/1338721\n",
      "2024-11-06 16:44:05,900 INFO: \t1 expectation(s) included in expectation_suite.\n",
      "Validation succeeded.\n",
      "Validation Report saved successfully, explore a summary at https://c.app.hopsworks.ai:443/p/1160342/fs/1151045/fg/1338721\n"
     ]
    },
    {
     "data": {
      "text/plain": "Uploading Dataframe: 0.00% |          | Rows 0/1785 | Elapsed Time: 00:00 | Remaining Time: ?",
      "application/vnd.jupyter.widget-view+json": {
       "version_major": 2,
       "version_minor": 0,
       "model_id": "2e26d0d0c4d04dcd9c54f44380f229e1"
      }
     },
     "metadata": {},
     "output_type": "display_data"
    },
    {
     "name": "stdout",
     "output_type": "stream",
     "text": [
      "Launching job: air_quality_1_offline_fg_materialization\n",
      "Job started successfully, you can follow the progress at \n",
      "https://c.app.hopsworks.ai/p/1160342/jobs/named/air_quality_1_offline_fg_materialization/executions\n"
     ]
    },
    {
     "data": {
      "text/plain": "(<hsfs.core.job.Job at 0x28fe4b290>,\n {\n   \"success\": true,\n   \"results\": [\n     {\n       \"success\": true,\n       \"expectation_config\": {\n         \"expectation_type\": \"expect_column_min_to_be_between\",\n         \"kwargs\": {\n           \"column\": \"pm25\",\n           \"min_value\": -0.1,\n           \"max_value\": 500.0,\n           \"strict_min\": true\n         },\n         \"meta\": {\n           \"expectationId\": 662535\n         }\n       },\n       \"result\": {\n         \"observed_value\": 0.55,\n         \"element_count\": 1785,\n         \"missing_count\": null,\n         \"missing_percent\": null\n       },\n       \"meta\": {\n         \"ingestionResult\": \"INGESTED\",\n         \"validationTime\": \"2024-11-06T03:44:05.000900Z\"\n       },\n       \"exception_info\": {\n         \"raised_exception\": false,\n         \"exception_message\": null,\n         \"exception_traceback\": null\n       }\n     }\n   ],\n   \"evaluation_parameters\": {},\n   \"statistics\": {\n     \"evaluated_expectations\": 1,\n     \"successful_expectations\": 1,\n     \"unsuccessful_expectations\": 0,\n     \"success_percent\": 100.0\n   },\n   \"meta\": {\n     \"great_expectations_version\": \"0.18.12\",\n     \"expectation_suite_name\": \"aq_expect\",\n     \"run_id\": {\n       \"run_name\": null,\n       \"run_time\": \"2024-11-06T16:44:05.900504+01:00\"\n     },\n     \"batch_kwargs\": {\n       \"ge_batch_id\": \"f4715c50-9c55-11ef-903b-264168630e67\"\n     },\n     \"batch_markers\": {},\n     \"batch_parameters\": {},\n     \"validation_time\": \"20241106T154405.900369Z\",\n     \"expectation_suite_meta\": {\n       \"great_expectations_version\": \"0.18.12\"\n     }\n   }\n })"
     },
     "execution_count": 26,
     "metadata": {},
     "output_type": "execute_result"
    }
   ],
   "source": [
    "air_quality_fg.insert(air_quality_df)"
   ],
   "metadata": {
    "collapsed": false
   }
  },
  {
   "cell_type": "code",
   "execution_count": 27,
   "outputs": [
    {
     "data": {
      "text/plain": "<hsfs.feature_group.FeatureGroup at 0x28fc6e750>"
     },
     "execution_count": 27,
     "metadata": {},
     "output_type": "execute_result"
    }
   ],
   "source": [
    "air_quality_fg.update_feature_description(\"date\", \"Date of measurement of air quality\")\n",
    "air_quality_fg.update_feature_description(\"country\", \"Country where the air quality was measured (sometimes a city in acqcn.org)\")\n",
    "air_quality_fg.update_feature_description(\"city\", \"City where the air quality was measured\")\n",
    "air_quality_fg.update_feature_description(\"street\", \"Street in the city where the air quality was measured\")\n",
    "air_quality_fg.update_feature_description(\"pm25\", \"Particles less than 2.5 micrometers in diameter (fine particles) pose health risk\")"
   ],
   "metadata": {
    "collapsed": false
   }
  },
  {
   "cell_type": "code",
   "execution_count": 28,
   "outputs": [],
   "source": [
    "weather_fg = fs.get_or_create_feature_group(\n",
    "    name='weather',\n",
    "    description='Weather characteristics of each day',\n",
    "    version=1,\n",
    "    primary_key=['city', 'date'],\n",
    "    event_time=\"date\",\n",
    "    expectation_suite=weather_expect\n",
    ")"
   ],
   "metadata": {
    "collapsed": false
   }
  },
  {
   "cell_type": "code",
   "execution_count": 29,
   "outputs": [
    {
     "name": "stdout",
     "output_type": "stream",
     "text": [
      "Feature Group created successfully, explore it at \n",
      "https://c.app.hopsworks.ai:443/p/1160342/fs/1151045/fg/1337696\n",
      "2024-11-06 16:44:25,296 INFO: \t2 expectation(s) included in expectation_suite.\n",
      "Validation succeeded.\n",
      "Validation Report saved successfully, explore a summary at https://c.app.hopsworks.ai:443/p/1160342/fs/1151045/fg/1337696\n"
     ]
    },
    {
     "data": {
      "text/plain": "Uploading Dataframe: 0.00% |          | Rows 0/1793 | Elapsed Time: 00:00 | Remaining Time: ?",
      "application/vnd.jupyter.widget-view+json": {
       "version_major": 2,
       "version_minor": 0,
       "model_id": "6dac951bdad847c1bef35057ec6c49d0"
      }
     },
     "metadata": {},
     "output_type": "display_data"
    },
    {
     "name": "stdout",
     "output_type": "stream",
     "text": [
      "Launching job: weather_1_offline_fg_materialization\n",
      "Job started successfully, you can follow the progress at \n",
      "https://c.app.hopsworks.ai/p/1160342/jobs/named/weather_1_offline_fg_materialization/executions\n"
     ]
    },
    {
     "data": {
      "text/plain": "(<hsfs.core.job.Job at 0x17e2ae6c0>,\n {\n   \"success\": true,\n   \"results\": [\n     {\n       \"success\": true,\n       \"expectation_config\": {\n         \"expectation_type\": \"expect_column_min_to_be_between\",\n         \"kwargs\": {\n           \"column\": \"precipitation_sum\",\n           \"min_value\": -0.1,\n           \"max_value\": 1000.0,\n           \"strict_min\": true\n         },\n         \"meta\": {\n           \"expectationId\": 661512\n         }\n       },\n       \"result\": {\n         \"observed_value\": 0.0,\n         \"element_count\": 1793,\n         \"missing_count\": null,\n         \"missing_percent\": null\n       },\n       \"meta\": {\n         \"ingestionResult\": \"INGESTED\",\n         \"validationTime\": \"2024-11-06T03:44:25.000295Z\"\n       },\n       \"exception_info\": {\n         \"raised_exception\": false,\n         \"exception_message\": null,\n         \"exception_traceback\": null\n       }\n     },\n     {\n       \"success\": true,\n       \"expectation_config\": {\n         \"expectation_type\": \"expect_column_min_to_be_between\",\n         \"kwargs\": {\n           \"column\": \"wind_speed_10m_max\",\n           \"min_value\": -0.1,\n           \"max_value\": 1000.0,\n           \"strict_min\": true\n         },\n         \"meta\": {\n           \"expectationId\": 661511\n         }\n       },\n       \"result\": {\n         \"observed_value\": 4.33497428894043,\n         \"element_count\": 1793,\n         \"missing_count\": null,\n         \"missing_percent\": null\n       },\n       \"meta\": {\n         \"ingestionResult\": \"INGESTED\",\n         \"validationTime\": \"2024-11-06T03:44:25.000295Z\"\n       },\n       \"exception_info\": {\n         \"raised_exception\": false,\n         \"exception_message\": null,\n         \"exception_traceback\": null\n       }\n     }\n   ],\n   \"evaluation_parameters\": {},\n   \"statistics\": {\n     \"evaluated_expectations\": 2,\n     \"successful_expectations\": 2,\n     \"unsuccessful_expectations\": 0,\n     \"success_percent\": 100.0\n   },\n   \"meta\": {\n     \"great_expectations_version\": \"0.18.12\",\n     \"expectation_suite_name\": \"weather_expectation_suite\",\n     \"run_id\": {\n       \"run_name\": null,\n       \"run_time\": \"2024-11-06T16:44:25.296255+01:00\"\n     },\n     \"batch_kwargs\": {\n       \"ge_batch_id\": \"0000b19c-9c56-11ef-903b-264168630e67\"\n     },\n     \"batch_markers\": {},\n     \"batch_parameters\": {},\n     \"validation_time\": \"20241106T154425.295986Z\",\n     \"expectation_suite_meta\": {\n       \"great_expectations_version\": \"0.18.12\"\n     }\n   }\n })"
     },
     "execution_count": 29,
     "metadata": {},
     "output_type": "execute_result"
    }
   ],
   "source": [
    "weather_fg.insert(daily_dataframe)"
   ],
   "metadata": {
    "collapsed": false
   }
  },
  {
   "cell_type": "code",
   "execution_count": 30,
   "outputs": [
    {
     "data": {
      "text/plain": "<hsfs.feature_group.FeatureGroup at 0x2900e7a40>"
     },
     "execution_count": 30,
     "metadata": {},
     "output_type": "execute_result"
    }
   ],
   "source": [
    "weather_fg.update_feature_description(\"date\", \"Date of measurement of weather\")\n",
    "weather_fg.update_feature_description(\"city\", \"City where weather is measured/forecast for\")\n",
    "weather_fg.update_feature_description(\"temperature_2m_mean\", \"Temperature in Celsius\")\n",
    "weather_fg.update_feature_description(\"precipitation_sum\", \"Precipitation (rain/snow) in mm\")\n",
    "weather_fg.update_feature_description(\"wind_speed_10m_max\", \"Wind speed at 10m above ground\")\n",
    "weather_fg.update_feature_description(\"wind_direction_10m_dominant\", \"Dominant Wind direction over the days\")"
   ],
   "metadata": {
    "collapsed": false
   }
  },
  {
   "cell_type": "code",
   "execution_count": null,
   "outputs": [],
   "source": [],
   "metadata": {
    "collapsed": false
   }
  }
 ],
 "metadata": {
  "kernelspec": {
   "display_name": "Python 3",
   "language": "python",
   "name": "python3"
  },
  "language_info": {
   "codemirror_mode": {
    "name": "ipython",
    "version": 2
   },
   "file_extension": ".py",
   "mimetype": "text/x-python",
   "name": "python",
   "nbconvert_exporter": "python",
   "pygments_lexer": "ipython2",
   "version": "2.7.6"
  }
 },
 "nbformat": 4,
 "nbformat_minor": 0
}
