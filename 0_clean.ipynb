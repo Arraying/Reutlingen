{
 "cells": [
  {
   "cell_type": "markdown",
   "source": [
    "# Cleans up Hopsworks"
   ],
   "metadata": {
    "collapsed": false
   }
  },
  {
   "cell_type": "code",
   "execution_count": 11,
   "metadata": {
    "collapsed": true
   },
   "outputs": [
    {
     "name": "stdout",
     "output_type": "stream",
     "text": [
      "Connection closed.\n",
      "Connected. Call `.close()` to terminate connection gracefully.\n",
      "\n",
      "Logged in to project, explore it here https://c.app.hopsworks.ai:443/p/1160342\n",
      "Connected. Call `.close()` to terminate connection gracefully.\n",
      "2024-11-08 12:13:38,541 WARNING: VersionWarning: No version provided for getting feature group `air_quality`, defaulting to `1`.\n",
      "\n",
      "2024-11-08 12:13:38,700 WARNING: VersionWarning: No version provided for getting feature group `weather`, defaulting to `1`.\n",
      "\n",
      "2024-11-08 12:13:38,855 WARNING: VersionWarning: No version provided for getting feature group `aq_predictions`, defaulting to `1`.\n",
      "\n",
      "2024-11-08 12:13:39,010 WARNING: VersionWarning: No version provided for getting feature group `test`, defaulting to `1`.\n",
      "\n",
      "2024-11-08 12:13:39,164 WARNING: VersionWarning: No version provided for getting feature view `air_quality_view`, defaulting to `1`.\n",
      "\n",
      "Connected. Call `.close()` to terminate connection gracefully.\n",
      "2024-11-08 12:13:41,166 WARNING: VersionWarning: No version provided for getting model `air_quality_model`, defaulting to `1`.\n",
      "\n"
     ]
    }
   ],
   "source": [
    "import hopsworks\n",
    "\n",
    "groups = [\"air_quality\", \"weather\", \"aq_predictions\", \"test\"]\n",
    "views = [\"air_quality_view\"]\n",
    "models = [\"air_quality_model\"]\n",
    "\n",
    "with open(\"data/hopsworks-token.txt\") as f:\n",
    "    hopsworks_api_key = f.read().rstrip()\n",
    "project = hopsworks.login(api_key_value=hopsworks_api_key)\n",
    "fs = project.get_feature_store()\n",
    "for g in groups:\n",
    "    try:\n",
    "        fs.get_feature_group(g).delete()\n",
    "    except Exception as _e:\n",
    "        pass\n",
    "for v in views:\n",
    "    try:\n",
    "        fs.get_feature_view(v).delete()\n",
    "    except Exception as _e:\n",
    "        pass\n",
    "for m in models:\n",
    "    try:\n",
    "        project.get_model_registry().get_model(m).delete\n",
    "    except Exception as _e:\n",
    "        pass"
   ]
  },
  {
   "cell_type": "code",
   "execution_count": null,
   "outputs": [],
   "source": [],
   "metadata": {
    "collapsed": false
   }
  }
 ],
 "metadata": {
  "kernelspec": {
   "display_name": "Python 3",
   "language": "python",
   "name": "python3"
  },
  "language_info": {
   "codemirror_mode": {
    "name": "ipython",
    "version": 2
   },
   "file_extension": ".py",
   "mimetype": "text/x-python",
   "name": "python",
   "nbconvert_exporter": "python",
   "pygments_lexer": "ipython2",
   "version": "2.7.6"
  }
 },
 "nbformat": 4,
 "nbformat_minor": 0
}
